{
 "cells": [
  {
   "cell_type": "markdown",
   "id": "1fc3f3b5-cba0-4e1d-b30e-e3a421831145",
   "metadata": {},
   "source": [
    "# PyTorch Workflow\n",
    "\n",
    "Let's explore an example PyTorch end-to-end workflow.\n",
    "\n",
    "1. Data (predpare and load)\n",
    "2. Build model\n",
    "3. Fitting the model to data (training)\n",
    "4. Making predictions and evaluating a model (inference)\n",
    "5. Saving and loading a model"
   ]
  },
  {
   "cell_type": "code",
   "execution_count": 1,
   "id": "8686967f-7330-4208-9ebe-02d50cbc81f2",
   "metadata": {},
   "outputs": [
    {
     "data": {
      "text/plain": [
       "'2.5.0'"
      ]
     },
     "execution_count": 1,
     "metadata": {},
     "output_type": "execute_result"
    }
   ],
   "source": [
    "import torch\n",
    "from torch import nn # nn contains all of PyTorch's building blocks for neural networks\n",
    "import matplotlib.pyplot as plt\n",
    "\n",
    "# Check PyTorch version\n",
    "torch.__version__"
   ]
  },
  {
   "cell_type": "markdown",
   "id": "b963fd4b-1be5-4cf5-a13e-5b3e329436d2",
   "metadata": {},
   "source": [
    "## 1. Data (preparing and loading)\n",
    "Machine learning is a game of two parts:\n",
    "1. Get data into a numerical representation.\n",
    "2. Build a model to learn patterns in that numerical representation.\n",
    "\n",
    "To showcase this, let's create some know data using the linear regression formula."
   ]
  },
  {
   "cell_type": "code",
   "execution_count": 2,
   "id": "74f7cd18-dcc8-4a4d-9967-a50c0504d3e6",
   "metadata": {},
   "outputs": [],
   "source": [
    "# Create *know* parameters\n",
    "# Simulated Data\n",
    "\n",
    "weight = 0.7\n",
    "bias = 0.3\n",
    "\n",
    "# Create \n",
    "start = 0\n",
    "end = 1\n",
    "step = 0.02\n",
    "X = torch.arange(start, end, step).unsqueeze(dim = 1)\n",
    "y = weight * X + bias"
   ]
  },
  {
   "cell_type": "code",
   "execution_count": 4,
   "id": "1ef774d7-d48a-4c23-b313-468a669069f4",
   "metadata": {},
   "outputs": [
    {
     "data": {
      "text/plain": [
       "tensor([[0.0000],\n",
       "        [0.0200],\n",
       "        [0.0400],\n",
       "        [0.0600],\n",
       "        [0.0800],\n",
       "        [0.1000],\n",
       "        [0.1200],\n",
       "        [0.1400],\n",
       "        [0.1600],\n",
       "        [0.1800]])"
      ]
     },
     "execution_count": 4,
     "metadata": {},
     "output_type": "execute_result"
    }
   ],
   "source": [
    "X[:10]"
   ]
  },
  {
   "cell_type": "code",
   "execution_count": 5,
   "id": "4c008c41-aa6f-45da-930e-480f4424e72d",
   "metadata": {},
   "outputs": [
    {
     "data": {
      "text/plain": [
       "tensor([[0.3000],\n",
       "        [0.3140],\n",
       "        [0.3280],\n",
       "        [0.3420],\n",
       "        [0.3560],\n",
       "        [0.3700],\n",
       "        [0.3840],\n",
       "        [0.3980],\n",
       "        [0.4120],\n",
       "        [0.4260]])"
      ]
     },
     "execution_count": 5,
     "metadata": {},
     "output_type": "execute_result"
    }
   ],
   "source": [
    "y[:10]"
   ]
  },
  {
   "cell_type": "code",
   "execution_count": 6,
   "id": "70384170-e197-4ca7-b1a4-a9527403b4ce",
   "metadata": {},
   "outputs": [],
   "source": [
    "# Create a train/test split\n",
    "\n",
    "train_split = int(0.8 * len(X))\n",
    "X_train, y_train = X[:train_split], y[:train_split]\n",
    "X_test, y_test = X[train_split:], y[train_split:]"
   ]
  },
  {
   "cell_type": "code",
   "execution_count": 7,
   "id": "fabd6443-82c7-4d61-86e1-c358550f08ba",
   "metadata": {},
   "outputs": [
    {
     "data": {
      "text/plain": [
       "torch.Size([40, 1])"
      ]
     },
     "execution_count": 7,
     "metadata": {},
     "output_type": "execute_result"
    }
   ],
   "source": [
    "X_train.shape"
   ]
  },
  {
   "cell_type": "code",
   "execution_count": 8,
   "id": "a975849b-d996-4b51-8af2-7660f630355e",
   "metadata": {},
   "outputs": [
    {
     "data": {
      "text/plain": [
       "torch.Size([10, 1])"
      ]
     },
     "execution_count": 8,
     "metadata": {},
     "output_type": "execute_result"
    }
   ],
   "source": [
    "X_test.shape"
   ]
  },
  {
   "cell_type": "code",
   "execution_count": 9,
   "id": "e81c4394-9768-460c-980c-3322fe031205",
   "metadata": {},
   "outputs": [],
   "source": [
    "def plot_predictions(train_data, train_labels, test_data, test_labels, predictions = None):\n",
    "    \"\"\"\"\n",
    "    Plots training data, test data and compares predictions.\n",
    "    \"\"\"\n",
    "    plt.figure(figsize = (8, 7))\n",
    "    \n",
    "    #Plot training data in blue\n",
    "    plt.scatter(train_data, train_labels, c = 'b', s = 4, label = \"Training data\")\n",
    "    \n",
    "    #Plot test data in green\n",
    "    plt.scatter(test_data, test_labels, c = 'g', s = 4, label = \"Testing data\")\n",
    "    \n",
    "    # Are there predictions?\n",
    "    if predictions is not None:\n",
    "        plt.scatter(test_data, predictions, c = 'r', s = 4, label = \"Predictions\")\n",
    "        \n",
    "    # Show the legend\n",
    "    plt.legend(prop = {\"size\": 12});\n",
    "    plt.show()"
   ]
  },
  {
   "cell_type": "code",
   "execution_count": 10,
   "id": "92d0f34d-75bc-466d-9273-5b2b629d293b",
   "metadata": {},
   "outputs": [
    {
     "data": {
      "image/png": "[encoded data removed]",
      "text/plain": [
       "<Figure size 800x700 with 1 Axes>"
      ]
     },
     "metadata": {},
     "output_type": "display_data"
    }
   ],
   "source": [
    "plot_predictions(X_train, y_train, X_test, y_test);"
   ]
  },
  {
   "cell_type": "markdown",
   "id": "fd6882dd-3e3c-43f4-98a7-32e6e39f6fcd",
   "metadata": {},
   "source": [
    "## 2. Build model\n",
    "\n",
    "OOP resource: [link](https://realpython.com/python3-object-oriented-programming/)\n",
    "\n",
    "What our model does:\n",
    "- Start with random values (weihgt and bias)\n",
    "- Look at training data and adjust the random values to better represent (or get closer to) the ideal values."
   ]
  },
  {
   "cell_type": "code",
   "execution_count": 11,
   "id": "4a42ecb0-2d6b-4ccb-8fcc-9cd299ddc45f",
   "metadata": {},
   "outputs": [],
   "source": [
    "# Create linear regression model class\n",
    "\n",
    "class LinearRegressionModel(nn.Module): #<- almost everything in PyTorch inherits from nn.Module\n",
    "    def __init__(self):\n",
    "        super().__init__()\n",
    "        \n",
    "        self.weights = nn.Parameter(torch.randn(1, requires_grad=True, dtype = torch.float))\n",
    "        \n",
    "        # requires_grad -> Can this parameter be updated via gradient descent?\n",
    "        self.bias = nn.Parameter(torch.randn(1, requires_grad=True, dtype = torch.float))\n",
    "\n",
    "    # Forward method to define the computation in the model\n",
    "    def forward(self, x: torch.Tensor) -> torch.Tensor:\n",
    "        return self.weights * x + self.bias # This is the linear regression formula"
   ]
  },
  {
   "cell_type": "code",
   "execution_count": 12,
   "id": "6eb07942-fb4c-4c9a-a614-53bfa1c2e527",
   "metadata": {},
   "outputs": [
    {
     "data": {
      "text/plain": [
       "[Parameter containing:\n",
       " tensor([0.3367], requires_grad=True),\n",
       " Parameter containing:\n",
       " tensor([0.1288], requires_grad=True)]"
      ]
     },
     "execution_count": 12,
     "metadata": {},
     "output_type": "execute_result"
    }
   ],
   "source": [
    "# Create a random seed\n",
    "torch.manual_seed(42)\n",
    "\n",
    "# Create an instance of the model (this is a subclass of nn.Module)\n",
    "model_0 = LinearRegressionModel()\n",
    "\n",
    "# Check out the parameters\n",
    "list(model_0.parameters())"
   ]
  },
  {
   "cell_type": "code",
   "execution_count": 13,
   "id": "1cc74a48-1e6b-46e6-91b0-52d1c0698f44",
   "metadata": {},
   "outputs": [
    {
     "data": {
      "text/plain": [
       "OrderedDict([('weights', tensor([0.3367])), ('bias', tensor([0.1288]))])"
      ]
     },
     "execution_count": 13,
     "metadata": {},
     "output_type": "execute_result"
    }
   ],
   "source": [
    "# List named parameters\n",
    "model_0.state_dict()"
   ]
  },
  {
   "cell_type": "code",
   "execution_count": 14,
   "id": "bb9c5cbc-5c20-4174-ad41-e332321da9fe",
   "metadata": {},
   "outputs": [
    {
     "data": {
      "text/plain": [
       "(tensor([[0.8000],\n",
       "         [0.8200],\n",
       "         [0.8400],\n",
       "         [0.8600],\n",
       "         [0.8800],\n",
       "         [0.9000],\n",
       "         [0.9200],\n",
       "         [0.9400],\n",
       "         [0.9600],\n",
       "         [0.9800]]),\n",
       " tensor([[0.8600],\n",
       "         [0.8740],\n",
       "         [0.8880],\n",
       "         [0.9020],\n",
       "         [0.9160],\n",
       "         [0.9300],\n",
       "         [0.9440],\n",
       "         [0.9580],\n",
       "         [0.9720],\n",
       "         [0.9860]]))"
      ]
     },
     "execution_count": 14,
     "metadata": {},
     "output_type": "execute_result"
    }
   ],
   "source": [
    "X_test, y_test"
   ]
  },
  {
   "cell_type": "code",
   "execution_count": 15,
   "id": "eb5d6b07-f579-4663-a39f-2c0bb665b0bb",
   "metadata": {},
   "outputs": [
    {
     "data": {
      "text/plain": [
       "tensor([[0.3982],\n",
       "        [0.4049],\n",
       "        [0.4116],\n",
       "        [0.4184],\n",
       "        [0.4251],\n",
       "        [0.4318],\n",
       "        [0.4386],\n",
       "        [0.4453],\n",
       "        [0.4520],\n",
       "        [0.4588]], grad_fn=<AddBackward0>)"
      ]
     },
     "execution_count": 15,
     "metadata": {},
     "output_type": "execute_result"
    }
   ],
   "source": [
    "y_preds = model_0(X_test)\n",
    "y_preds"
   ]
  },
  {
   "cell_type": "code",
   "execution_count": 16,
   "id": "9d336364-1069-4018-97fe-e62e8c1aa0fa",
   "metadata": {},
   "outputs": [
    {
     "data": {
      "text/plain": [
       "tensor([[0.3982],\n",
       "        [0.4049],\n",
       "        [0.4116],\n",
       "        [0.4184],\n",
       "        [0.4251],\n",
       "        [0.4318],\n",
       "        [0.4386],\n",
       "        [0.4453],\n",
       "        [0.4520],\n",
       "        [0.4588]])"
      ]
     },
     "execution_count": 16,
     "metadata": {},
     "output_type": "execute_result"
    }
   ],
   "source": [
    "# Making predictions with model\n",
    "with torch.inference_mode():\n",
    "    y_preds = model_0(X_test)\n",
    "\n",
    "# You can also do somthing similar with torch.no_grad()\n",
    "# with torch.inference_mode():\n",
    "#     y_preds = model_0(X_test)\n",
    "y_preds"
   ]
  },
  {
   "cell_type": "code",
   "execution_count": 17,
   "id": "7424619d-0ef9-42e8-8bb0-00e6ed467ebe",
   "metadata": {},
   "outputs": [
    {
     "data": {
      "text/plain": [
       "tensor([[0.8600],\n",
       "        [0.8740],\n",
       "        [0.8880],\n",
       "        [0.9020],\n",
       "        [0.9160],\n",
       "        [0.9300],\n",
       "        [0.9440],\n",
       "        [0.9580],\n",
       "        [0.9720],\n",
       "        [0.9860]])"
      ]
     },
     "execution_count": 17,
     "metadata": {},
     "output_type": "execute_result"
    }
   ],
   "source": [
    "y_test"
   ]
  },
  {
   "cell_type": "code",
   "execution_count": 18,
   "id": "be2e5bc3-109b-4d6d-aa98-89f91115f4ec",
   "metadata": {},
   "outputs": [
    {
     "data": {
      "image/png": "[encoded data removed]",
      "text/plain": [
       "<Figure size 800x700 with 1 Axes>"
      ]
     },
     "metadata": {},
     "output_type": "display_data"
    }
   ],
   "source": [
    "plot_predictions(X_train, y_train, X_test, y_test, predictions=y_preds);"
   ]
  },
  {
   "cell_type": "markdown",
   "id": "62616529-2bf0-43b6-bf9e-5b580efac242",
   "metadata": {},
   "source": [
    "## 3. Train model\n",
    "\n",
    "Things we need to train:\n",
    "- **Loss function**: A function to measure how wrong your model's predictions are to the ideal outputs, lower is better.\n",
    "- **Opimizer**: Takes into account the loss of a model and adjusts the model's parameters (e.g. weight & bias). "
   ]
  },
  {
   "cell_type": "code",
   "execution_count": 19,
   "id": "58e8d156-223c-414e-ae49-e5b527964e5b",
   "metadata": {},
   "outputs": [
    {
     "data": {
      "text/plain": [
       "[Parameter containing:\n",
       " tensor([0.3367], requires_grad=True),\n",
       " Parameter containing:\n",
       " tensor([0.1288], requires_grad=True)]"
      ]
     },
     "execution_count": 19,
     "metadata": {},
     "output_type": "execute_result"
    }
   ],
   "source": [
    "list(model_0.parameters())"
   ]
  },
  {
   "cell_type": "code",
   "execution_count": 20,
   "id": "b03c57f4-ca93-4a7c-a5f6-660d2ce0caad",
   "metadata": {},
   "outputs": [
    {
     "data": {
      "text/plain": [
       "OrderedDict([('weights', tensor([0.3367])), ('bias', tensor([0.1288]))])"
      ]
     },
     "execution_count": 20,
     "metadata": {},
     "output_type": "execute_result"
    }
   ],
   "source": [
    "model_0.state_dict()"
   ]
  },
  {
   "cell_type": "code",
   "execution_count": 21,
   "id": "451c37b2-9213-4f3f-a978-9fc3188c5a53",
   "metadata": {},
   "outputs": [],
   "source": [
    "# Setup a loss function\n",
    "loss_fn = nn.L1Loss()"
   ]
  },
  {
   "cell_type": "code",
   "execution_count": 22,
   "id": "1050f90e-7630-4cd7-8cde-f52563d78db4",
   "metadata": {},
   "outputs": [],
   "source": [
    "# Setup an optimizer (stochastic gradient descent)\n",
    "optimizer = torch.optim.SGD(params = model_0.parameters(), # we want to optimize the parameters present in our model.\n",
    "                            lr = 0.01 # lr = learning rate = possibly the most important hyperparameters you can set.,\n",
    "                            )"
   ]
  },
  {
   "cell_type": "markdown",
   "id": "be1ecb91-e78e-4598-badd-212c0acc76f0",
   "metadata": {},
   "source": [
    "### Building a training loop (and a testing loop) in PyTorch\n",
    "0. Loop through the data and do ...\n",
    "1. Forward pass (this involves data moving through our model's `forward()` functions) to make predicts on data - also called forward propagation.\n",
    "2. Calculate the loss (compare forward pass predictions to ground truth laels)\n",
    "3. Optimize zero grad\n",
    "4. Loss backward - move backwards through the netwokr to calculate the gradients of each of the parameters of our model with respect to the the loss (**backpropagation**)\n",
    "5. Optimizer step - use the optimizer to adjust our model's parameters to try and improve the loss. (**gradient descent**)"
   ]
  },
  {
   "cell_type": "code",
   "execution_count": 23,
   "id": "bf899f8b-2692-4492-9300-42671e371c64",
   "metadata": {},
   "outputs": [
    {
     "name": "stdout",
     "output_type": "stream",
     "text": [
      "Epoch: 0 | Loss: 0.31288138031959534 | Test loss: 0.48106518387794495\n",
      "\n",
      "OrderedDict({'weights': tensor([0.3406]), 'bias': tensor([0.1388])})\n",
      "======================================================================\n",
      "\n",
      "Epoch: 10 | Loss: 0.1976713240146637 | Test loss: 0.3463551998138428\n",
      "\n",
      "OrderedDict({'weights': tensor([0.3796]), 'bias': tensor([0.2388])})\n",
      "======================================================================\n",
      "\n",
      "Epoch: 20 | Loss: 0.08908725529909134 | Test loss: 0.21729660034179688\n",
      "\n",
      "OrderedDict({'weights': tensor([0.4184]), 'bias': tensor([0.3333])})\n",
      "======================================================================\n",
      "\n",
      "Epoch: 30 | Loss: 0.053148526698350906 | Test loss: 0.14464017748832703\n",
      "\n",
      "OrderedDict({'weights': tensor([0.4512]), 'bias': tensor([0.3768])})\n",
      "======================================================================\n",
      "\n",
      "Epoch: 40 | Loss: 0.04543796554207802 | Test loss: 0.11360953003168106\n",
      "\n",
      "OrderedDict({'weights': tensor([0.4748]), 'bias': tensor([0.3868])})\n",
      "======================================================================\n",
      "\n",
      "Epoch: 50 | Loss: 0.04167863354086876 | Test loss: 0.09919948130846024\n",
      "\n",
      "OrderedDict({'weights': tensor([0.4938]), 'bias': tensor([0.3843])})\n",
      "======================================================================\n",
      "\n",
      "Epoch: 60 | Loss: 0.03818932920694351 | Test loss: 0.08886633068323135\n",
      "\n",
      "OrderedDict({'weights': tensor([0.5116]), 'bias': tensor([0.3788])})\n",
      "======================================================================\n",
      "\n",
      "Epoch: 70 | Loss: 0.03476089984178543 | Test loss: 0.0805937647819519\n",
      "\n",
      "OrderedDict({'weights': tensor([0.5288]), 'bias': tensor([0.3718])})\n",
      "======================================================================\n",
      "\n",
      "Epoch: 80 | Loss: 0.03132382780313492 | Test loss: 0.07232122868299484\n",
      "\n",
      "OrderedDict({'weights': tensor([0.5459]), 'bias': tensor([0.3648])})\n",
      "======================================================================\n",
      "\n",
      "Epoch: 90 | Loss: 0.02788739837706089 | Test loss: 0.06473556160926819\n",
      "\n",
      "OrderedDict({'weights': tensor([0.5629]), 'bias': tensor([0.3573])})\n",
      "======================================================================\n",
      "\n",
      "Epoch: 100 | Loss: 0.024458957836031914 | Test loss: 0.05646304413676262\n",
      "\n",
      "OrderedDict({'weights': tensor([0.5800]), 'bias': tensor([0.3503])})\n",
      "======================================================================\n",
      "\n",
      "Epoch: 110 | Loss: 0.021020207554101944 | Test loss: 0.04819049686193466\n",
      "\n",
      "OrderedDict({'weights': tensor([0.5972]), 'bias': tensor([0.3433])})\n",
      "======================================================================\n",
      "\n",
      "Epoch: 120 | Loss: 0.01758546568453312 | Test loss: 0.04060482233762741\n",
      "\n",
      "OrderedDict({'weights': tensor([0.6141]), 'bias': tensor([0.3358])})\n",
      "======================================================================\n",
      "\n",
      "Epoch: 130 | Loss: 0.014155393466353416 | Test loss: 0.03233227878808975\n",
      "\n",
      "OrderedDict({'weights': tensor([0.6313]), 'bias': tensor([0.3288])})\n",
      "======================================================================\n",
      "\n",
      "Epoch: 140 | Loss: 0.010716589167714119 | Test loss: 0.024059748277068138\n",
      "\n",
      "OrderedDict({'weights': tensor([0.6485]), 'bias': tensor([0.3218])})\n",
      "======================================================================\n",
      "\n",
      "Epoch: 150 | Loss: 0.0072835334576666355 | Test loss: 0.016474086791276932\n",
      "\n",
      "OrderedDict({'weights': tensor([0.6654]), 'bias': tensor([0.3143])})\n",
      "======================================================================\n",
      "\n",
      "Epoch: 160 | Loss: 0.0038517764769494534 | Test loss: 0.008201557211577892\n",
      "\n",
      "OrderedDict({'weights': tensor([0.6826]), 'bias': tensor([0.3073])})\n",
      "======================================================================\n",
      "\n",
      "Epoch: 170 | Loss: 0.008932482451200485 | Test loss: 0.005023092031478882\n",
      "\n",
      "OrderedDict({'weights': tensor([0.6951]), 'bias': tensor([0.2993])})\n",
      "======================================================================\n",
      "\n",
      "Epoch: 180 | Loss: 0.008932482451200485 | Test loss: 0.005023092031478882\n",
      "\n",
      "OrderedDict({'weights': tensor([0.6951]), 'bias': tensor([0.2993])})\n",
      "======================================================================\n",
      "\n",
      "Epoch: 190 | Loss: 0.008932482451200485 | Test loss: 0.005023092031478882\n",
      "\n",
      "OrderedDict({'weights': tensor([0.6951]), 'bias': tensor([0.2993])})\n",
      "======================================================================\n",
      "\n"
     ]
    }
   ],
   "source": [
    "# And epoch is one loop through the data...\n",
    "epochs = 200\n",
    "epoch_count = []\n",
    "loss_values = []\n",
    "test_loss_values = []\n",
    "\n",
    "### Training\n",
    "# 0. Loop through the data\n",
    "for epoch in range(epochs):\n",
    "    # Set the model to training mode\n",
    "    model_0.train() # Train mode in PyTorch set all parameters that require gradient to \"require gradient\"\n",
    "    \n",
    "    # 1. Forward pass\n",
    "    y_preds = model_0(X_train)\n",
    "    # 2. Calculate the loss\n",
    "    loss = loss_fn(y_preds, y_train)\n",
    "    # print(f'Loss : {loss}')\n",
    "    # 3. Optimizer zero grad\n",
    "    optimizer.zero_grad()\n",
    "    # 4. Perform bakcpropagation on the loss with respect to the parameters of the model\n",
    "    loss.backward()\n",
    "    #5. Step the optimizer (perform gradient descent)\n",
    "    optimizer.step()\n",
    "    \n",
    "    model_0.eval() # Truns off different settings in the model not needed for evalueation/testing (dropout/bath norm layers)\n",
    "    \n",
    "    with torch.inference_mode(): # Truns off gradient tracking and a couple more things behind the scenes\n",
    "        # 1. Do the forward pass\n",
    "        test_pred = model_0(X_test)\n",
    "        # 2. Calculate the loss\n",
    "        test_loss = loss_fn(test_pred, y_test)\n",
    "    \n",
    "    # print out what's happening\n",
    "    if epoch % 10 == 0:\n",
    "        epoch_count.append(epoch)\n",
    "        loss_values.append(loss)\n",
    "        test_loss_values.append(test_loss)\n",
    "        print(f\"Epoch: {epoch} | Loss: {loss} | Test loss: {test_loss}\\n\")\n",
    "        #print out model state_dict()\n",
    "        print(model_0.state_dict())\n",
    "        print('='*70+'\\n')"
   ]
  },
  {
   "cell_type": "markdown",
   "id": "702e7610-e87f-4b5f-84d4-cf5c0e257e67",
   "metadata": {},
   "source": [
    "## 4. Making predictions and evaluating a model (inference)"
   ]
  },
  {
   "cell_type": "code",
   "execution_count": 24,
   "id": "57468d29-50f7-4040-8204-35f9391a6c2e",
   "metadata": {},
   "outputs": [],
   "source": [
    "with torch.inference_mode():\n",
    "    y_preds = model_0(X_test)"
   ]
  },
  {
   "cell_type": "code",
   "execution_count": 25,
   "id": "d25ca81f-5220-4b7c-888f-2d646c159d19",
   "metadata": {},
   "outputs": [
    {
     "data": {
      "image/png": "[encoded data removed]",
      "text/plain": [
       "<Figure size 800x700 with 1 Axes>"
      ]
     },
     "metadata": {},
     "output_type": "display_data"
    }
   ],
   "source": [
    "plot_predictions(X_train, y_train, X_test, y_test, predictions=y_preds);"
   ]
  },
  {
   "cell_type": "code",
   "execution_count": 26,
   "id": "3ba43de9-3167-4062-a0f0-709f04e45abf",
   "metadata": {},
   "outputs": [
    {
     "data": {
      "image/png": "[encoded data removed]",
      "text/plain": [
       "<Figure size 640x480 with 1 Axes>"
      ]
     },
     "metadata": {},
     "output_type": "display_data"
    }
   ],
   "source": [
    "# Plot the loss curves\n",
    "plt.plot(epoch_count, torch.tensor(loss_values).numpy(), label = 'Train loss')\n",
    "plt.plot(epoch_count, torch.tensor(test_loss_values).numpy(), label = 'Test loss')\n",
    "plt.title('Training and test loss curves')\n",
    "plt.ylabel('Loss')\n",
    "plt.xlabel('Epochs')\n",
    "plt.legend();"
   ]
  },
  {
   "cell_type": "markdown",
   "id": "a723865f-85a2-4b4a-81d7-eb53bcd4b961",
   "metadata": {},
   "source": [
    "## 5. Saving a model in PyTorch\n",
    "There are three main methods you should about for saving and loading models in PyTorch.\n",
    "1. `torch.save` - allows you save a PyTorch object in Python's pickle format\n",
    "2. `torhc.load` - allows you load a saved PyTorch object\n",
    "3. `torch.nn.Module.load_state_dict()` - this allows to load a model's saved state dictionary."
   ]
  },
  {
   "cell_type": "code",
   "execution_count": 27,
   "id": "6520c8c5-71f3-4a63-b83c-71a6c0c06eaf",
   "metadata": {},
   "outputs": [
    {
     "data": {
      "text/plain": [
       "OrderedDict([('weights', tensor([0.6990])), ('bias', tensor([0.3093]))])"
      ]
     },
     "execution_count": 27,
     "metadata": {},
     "output_type": "execute_result"
    }
   ],
   "source": [
    "model_0.state_dict()"
   ]
  },
  {
   "cell_type": "code",
   "execution_count": 28,
   "id": "c46226a6-d357-4c17-892c-7c40cafb9e22",
   "metadata": {},
   "outputs": [
    {
     "name": "stdout",
     "output_type": "stream",
     "text": [
      "save model to: model/\n"
     ]
    }
   ],
   "source": [
    "# 1. Create models directory\n",
    "MODEL_PATH = 'model/'\n",
    "\n",
    "# 2. Create model save path\n",
    "MODEL_NAME = '01_pytorch_workflow_model_0.pt'\n",
    "MODEL_SAVE_PATH = MODEL_PATH + MODEL_NAME\n",
    "\n",
    "# 3. Save the model state dict\n",
    "print(f\"save model to: {MODEL_PATH}\")\n",
    "torch.save(obj = model_0.state_dict(), f = MODEL_SAVE_PATH)"
   ]
  },
  {
   "cell_type": "code",
   "execution_count": 29,
   "id": "0b3fd6bc-91ae-4c2c-8a25-3b52d630267d",
   "metadata": {},
   "outputs": [
    {
     "data": {
      "text/plain": [
       "OrderedDict([('weights', tensor([0.6990])), ('bias', tensor([0.3093]))])"
      ]
     },
     "execution_count": 29,
     "metadata": {},
     "output_type": "execute_result"
    }
   ],
   "source": [
    "torch.load(f = MODEL_SAVE_PATH, weights_only=True)"
   ]
  },
  {
   "cell_type": "code",
   "execution_count": 30,
   "id": "451f0d8a-a707-40e1-bb21-2743d42897bd",
   "metadata": {},
   "outputs": [
    {
     "data": {
      "text/plain": [
       "<All keys matched successfully>"
      ]
     },
     "execution_count": 30,
     "metadata": {},
     "output_type": "execute_result"
    }
   ],
   "source": [
    "# To load in a saved state_dict we have to instantiate a dnew instance of our model class\n",
    "loaded_model_0 = LinearRegressionModel()\n",
    "\n",
    "# Load the saved state_dict of model_0 (this will update the new instance with undated parameters)\n",
    "loaded_model_0.load_state_dict(torch.load(f = MODEL_SAVE_PATH, weights_only=True))"
   ]
  },
  {
   "cell_type": "code",
   "execution_count": 31,
   "id": "36713fa0-e199-468d-812a-aa627d7b7fe6",
   "metadata": {},
   "outputs": [
    {
     "data": {
      "text/plain": [
       "tensor([[0.8685],\n",
       "        [0.8825],\n",
       "        [0.8965],\n",
       "        [0.9105],\n",
       "        [0.9245],\n",
       "        [0.9384],\n",
       "        [0.9524],\n",
       "        [0.9664],\n",
       "        [0.9804],\n",
       "        [0.9944]])"
      ]
     },
     "execution_count": 31,
     "metadata": {},
     "output_type": "execute_result"
    }
   ],
   "source": [
    "# Make some predictions with our loaded model\n",
    "loaded_model_0.eval()\n",
    "with torch.inference_mode():\n",
    "    laoded_model_preds = loaded_model_0(X_test)\n",
    "laoded_model_preds"
   ]
  },
  {
   "cell_type": "code",
   "execution_count": 33,
   "id": "4582a3f4-d954-4730-aeac-e4116211578f",
   "metadata": {},
   "outputs": [
    {
     "data": {
      "text/plain": [
       "tensor([[0.8685],\n",
       "        [0.8825],\n",
       "        [0.8965],\n",
       "        [0.9105],\n",
       "        [0.9245],\n",
       "        [0.9384],\n",
       "        [0.9524],\n",
       "        [0.9664],\n",
       "        [0.9804],\n",
       "        [0.9944]])"
      ]
     },
     "execution_count": 33,
     "metadata": {},
     "output_type": "execute_result"
    }
   ],
   "source": [
    "# Make some model predictions \n",
    "model_0.eval()\n",
    "with torch.inference_mode():\n",
    "    y_preds = model_0(X_test)\n",
    "y_preds"
   ]
  },
  {
   "cell_type": "code",
   "execution_count": 34,
   "id": "ac7476fa-2c7a-468c-a001-380eeefc8718",
   "metadata": {},
   "outputs": [
    {
     "data": {
      "text/plain": [
       "tensor([[True],\n",
       "        [True],\n",
       "        [True],\n",
       "        [True],\n",
       "        [True],\n",
       "        [True],\n",
       "        [True],\n",
       "        [True],\n",
       "        [True],\n",
       "        [True]])"
      ]
     },
     "execution_count": 34,
     "metadata": {},
     "output_type": "execute_result"
    }
   ],
   "source": [
    "# Compare loaded model preds with original model preds\n",
    "y_preds == laoded_model_preds"
   ]
  },
  {
   "cell_type": "code",
   "execution_count": null,
   "id": "3dfb282f-60b1-4022-b800-789bd781402b",
   "metadata": {},
   "outputs": [],
   "source": []
  }
 ],
 "metadata": {
  "kernelspec": {
   "display_name": "machine learning",
   "language": "python",
   "name": "ml"
  },
  "language_info": {
   "codemirror_mode": {
    "name": "ipython",
    "version": 3
   },
   "file_extension": ".py",
   "mimetype": "text/x-python",
   "name": "python",
   "nbconvert_exporter": "python",
   "pygments_lexer": "ipython3",
   "version": "3.12.4"
  }
 },
 "nbformat": 4,
 "nbformat_minor": 5
}
