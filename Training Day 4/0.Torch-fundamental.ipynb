{
 "cells": [
  {
   "cell_type": "markdown",
   "id": "6a4fdec7-4234-4170-89b2-e89b7f61d969",
   "metadata": {},
   "source": [
    "# PyTorch Fundamentals"
   ]
  },
  {
   "cell_type": "code",
   "execution_count": 2,
   "id": "cf3c093e-68b4-48b2-8844-b7a6f4f7d4bc",
   "metadata": {},
   "outputs": [],
   "source": [
    "# !nvidia-smi"
   ]
  },
  {
   "cell_type": "code",
   "execution_count": 3,
   "id": "a247c0d2-2a8f-4247-b6aa-31d10a029387",
   "metadata": {},
   "outputs": [],
   "source": [
    "import torch\n",
    "import pandas as pd \n",
    "import numpy as np\n",
    "import matplotlib.pyplot as plt"
   ]
  },
  {
   "cell_type": "code",
   "execution_count": 4,
   "id": "cb375d9e-51b4-4ce2-9371-b370ce3e3bd8",
   "metadata": {},
   "outputs": [
    {
     "name": "stdout",
     "output_type": "stream",
     "text": [
      "2.5.0\n"
     ]
    }
   ],
   "source": [
    "print(torch.__version__)"
   ]
  },
  {
   "cell_type": "markdown",
   "id": "32eaae7d-5272-4a75-8a69-aaa9477f79bb",
   "metadata": {},
   "source": [
    "## Introduction to Tensor\n",
    "### Creating tensors\n",
    "\n",
    "PyTorch tensors are created using `torch.Tensor()`"
   ]
  },
  {
   "cell_type": "code",
   "execution_count": 5,
   "id": "363e09a7-a413-4d62-9eac-be924a458850",
   "metadata": {},
   "outputs": [
    {
     "data": {
      "text/plain": [
       "tensor(7)"
      ]
     },
     "execution_count": 5,
     "metadata": {},
     "output_type": "execute_result"
    }
   ],
   "source": [
    "# Scalar\n",
    "scalar = torch.tensor(7)\n",
    "scalar"
   ]
  },
  {
   "cell_type": "code",
   "execution_count": 6,
   "id": "4f2578df-97e0-4f1f-ab8b-120040d8d37d",
   "metadata": {},
   "outputs": [
    {
     "data": {
      "text/plain": [
       "0"
      ]
     },
     "execution_count": 6,
     "metadata": {},
     "output_type": "execute_result"
    }
   ],
   "source": [
    "scalar.ndim # number of dimensions"
   ]
  },
  {
   "cell_type": "code",
   "execution_count": 7,
   "id": "1cb9ca35-6268-413f-a803-c703c3d158fa",
   "metadata": {},
   "outputs": [
    {
     "data": {
      "text/plain": [
       "torch.Size([])"
      ]
     },
     "execution_count": 7,
     "metadata": {},
     "output_type": "execute_result"
    }
   ],
   "source": [
    "scalar.shape"
   ]
  },
  {
   "cell_type": "code",
   "execution_count": 8,
   "id": "047360ba-42f4-4d3e-b9de-7abf1ca97cfe",
   "metadata": {},
   "outputs": [
    {
     "data": {
      "text/plain": [
       "7"
      ]
     },
     "execution_count": 8,
     "metadata": {},
     "output_type": "execute_result"
    }
   ],
   "source": [
    "# Get tensor back as Python int\n",
    "scalar.item()"
   ]
  },
  {
   "cell_type": "code",
   "execution_count": 9,
   "id": "74af2d88-4202-4389-ab6b-326e83d57fa7",
   "metadata": {},
   "outputs": [
    {
     "data": {
      "text/plain": [
       "tensor([7, 7])"
      ]
     },
     "execution_count": 9,
     "metadata": {},
     "output_type": "execute_result"
    }
   ],
   "source": [
    "# Vector\n",
    "vector = torch.tensor([7, 7])\n",
    "vector"
   ]
  },
  {
   "cell_type": "code",
   "execution_count": 10,
   "id": "3e49ee23-fb19-4f3f-a30c-051800bdfcdf",
   "metadata": {},
   "outputs": [
    {
     "data": {
      "text/plain": [
       "1"
      ]
     },
     "execution_count": 10,
     "metadata": {},
     "output_type": "execute_result"
    }
   ],
   "source": [
    "vector.ndim"
   ]
  },
  {
   "cell_type": "code",
   "execution_count": 11,
   "id": "701bdb95-efe1-4723-9382-10eb7527c2ce",
   "metadata": {},
   "outputs": [
    {
     "data": {
      "text/plain": [
       "torch.Size([2])"
      ]
     },
     "execution_count": 11,
     "metadata": {},
     "output_type": "execute_result"
    }
   ],
   "source": [
    "vector.shape"
   ]
  },
  {
   "cell_type": "code",
   "execution_count": 12,
   "id": "dbad65bb-8ee8-4871-b4de-434553f49fdf",
   "metadata": {},
   "outputs": [
    {
     "data": {
      "text/plain": [
       "[[1, 2], [3, 4]]"
      ]
     },
     "execution_count": 12,
     "metadata": {},
     "output_type": "execute_result"
    }
   ],
   "source": [
    "[[1, 2], [3, 4]]"
   ]
  },
  {
   "cell_type": "code",
   "execution_count": 13,
   "id": "3f7f3dbb-c701-4258-ba10-771468f08216",
   "metadata": {},
   "outputs": [
    {
     "data": {
      "text/plain": [
       "tensor([[ 7,  8],\n",
       "        [ 9, 10]])"
      ]
     },
     "execution_count": 13,
     "metadata": {},
     "output_type": "execute_result"
    }
   ],
   "source": [
    "# Matrix\n",
    "matrix = torch.tensor([[7, 8],\n",
    "                       [9, 10]])\n",
    "matrix"
   ]
  },
  {
   "cell_type": "code",
   "execution_count": 14,
   "id": "4f7651e7-3588-4a6a-a009-fcfd1829093f",
   "metadata": {},
   "outputs": [
    {
     "data": {
      "text/plain": [
       "2"
      ]
     },
     "execution_count": 14,
     "metadata": {},
     "output_type": "execute_result"
    }
   ],
   "source": [
    "matrix.ndim"
   ]
  },
  {
   "cell_type": "code",
   "execution_count": 16,
   "id": "ec2ebf69-e3ca-41c3-838e-09ce3eb90041",
   "metadata": {},
   "outputs": [
    {
     "data": {
      "text/plain": [
       "torch.Size([2, 2])"
      ]
     },
     "execution_count": 16,
     "metadata": {},
     "output_type": "execute_result"
    }
   ],
   "source": [
    "matrix.shape"
   ]
  },
  {
   "cell_type": "code",
   "execution_count": null,
   "id": "25312c51-cf29-4b56-a962-9a2624614035",
   "metadata": {},
   "outputs": [],
   "source": [
    "[[1,2,3], \n",
    "[3,6,9], \n",
    "[2,4,5]]"
   ]
  },
  {
   "cell_type": "code",
   "execution_count": 17,
   "id": "dac9ba34-ccfe-439a-98f9-8b5006276e90",
   "metadata": {},
   "outputs": [
    {
     "data": {
      "text/plain": [
       "tensor([[[1, 2, 3],\n",
       "         [3, 6, 9],\n",
       "         [2, 4, 5]]])"
      ]
     },
     "execution_count": 17,
     "metadata": {},
     "output_type": "execute_result"
    }
   ],
   "source": [
    "# Tensor\n",
    "tensor = torch.tensor([[[1,2,3], \n",
    "                        [3,6,9], \n",
    "                        [2,4,5]]])\n",
    "tensor"
   ]
  },
  {
   "cell_type": "code",
   "execution_count": 18,
   "id": "22514905-b788-4126-8531-43628ba6c0f3",
   "metadata": {},
   "outputs": [
    {
     "data": {
      "text/plain": [
       "3"
      ]
     },
     "execution_count": 18,
     "metadata": {},
     "output_type": "execute_result"
    }
   ],
   "source": [
    "tensor.ndim"
   ]
  },
  {
   "cell_type": "code",
   "execution_count": 20,
   "id": "c0b8c195-970a-4a95-a336-8bb012744e2a",
   "metadata": {},
   "outputs": [
    {
     "data": {
      "text/plain": [
       "torch.Size([1, 3, 3])"
      ]
     },
     "execution_count": 20,
     "metadata": {},
     "output_type": "execute_result"
    }
   ],
   "source": [
    "tensor.shape"
   ]
  },
  {
   "cell_type": "code",
   "execution_count": 21,
   "id": "cb0efa1f-16cd-4558-b6da-a7c7774c01af",
   "metadata": {},
   "outputs": [],
   "source": [
    "# 2, 3, 3\n",
    "T = torch.tensor([[[1,2,3], \n",
    "[3,6,9], \n",
    "[2,4,5]], \n",
    "                 [[1,2,3], \n",
    "[3,6,9], \n",
    "[2,4,5]]])"
   ]
  },
  {
   "cell_type": "code",
   "execution_count": 22,
   "id": "a1aef429-41e3-42ef-b16d-97e10cb2c16e",
   "metadata": {},
   "outputs": [
    {
     "data": {
      "text/plain": [
       "torch.Size([2, 3, 3])"
      ]
     },
     "execution_count": 22,
     "metadata": {},
     "output_type": "execute_result"
    }
   ],
   "source": [
    "T.shape"
   ]
  },
  {
   "cell_type": "markdown",
   "id": "d0f28097-722e-42ff-87e5-c99529520901",
   "metadata": {},
   "source": [
    "### Random Tensors\n",
    "\n",
    "Why random tensors?\n",
    "\n",
    "Random tensors are importanct because the way many neural networks learn is that they start with tensors full of random numbers and then adjust those random numbers to better represent the data."
   ]
  },
  {
   "cell_type": "code",
   "execution_count": 24,
   "id": "3743257d-62b3-4f7a-8d1d-4154714315a8",
   "metadata": {},
   "outputs": [],
   "source": [
    "# Create a random tensor of size (or shape)\n",
    "\n",
    "random_tensor = torch.rand(1, 3, 4)"
   ]
  },
  {
   "cell_type": "code",
   "execution_count": 23,
   "id": "6c0e7af9-6256-4c2c-99f6-9542090a9486",
   "metadata": {},
   "outputs": [
    {
     "data": {
      "text/plain": [
       "array([[[0.53843507, 0.83000766, 0.88593447, 0.99201293],\n",
       "        [0.69442613, 0.74315529, 0.7827205 , 0.56404496],\n",
       "        [0.96353769, 0.77865792, 0.36328697, 0.0732424 ]]])"
      ]
     },
     "execution_count": 23,
     "metadata": {},
     "output_type": "execute_result"
    }
   ],
   "source": [
    "np.random.rand(1, 3, 4)"
   ]
  },
  {
   "cell_type": "code",
   "execution_count": 26,
   "id": "4ab78742-1cfd-4690-aeb0-9c53f3d2515f",
   "metadata": {},
   "outputs": [
    {
     "data": {
      "text/plain": [
       "tensor([[[0.7287, 0.6528, 0.0677, 0.2656],\n",
       "         [0.6365, 0.7725, 0.2958, 0.9358],\n",
       "         [0.6128, 0.4281, 0.1536, 0.4523]]])"
      ]
     },
     "execution_count": 26,
     "metadata": {},
     "output_type": "execute_result"
    }
   ],
   "source": [
    "random_tensor"
   ]
  },
  {
   "cell_type": "code",
   "execution_count": 27,
   "id": "f56b9c46-e9b6-4121-a8f6-0b55067e0e1c",
   "metadata": {},
   "outputs": [
    {
     "data": {
      "text/plain": [
       "3"
      ]
     },
     "execution_count": 27,
     "metadata": {},
     "output_type": "execute_result"
    }
   ],
   "source": [
    "random_tensor.ndim"
   ]
  },
  {
   "cell_type": "code",
   "execution_count": 28,
   "id": "a75e5216-6ad4-4319-a54c-9e16f91aa18e",
   "metadata": {},
   "outputs": [
    {
     "data": {
      "text/plain": [
       "torch.Size([1, 3, 4])"
      ]
     },
     "execution_count": 28,
     "metadata": {},
     "output_type": "execute_result"
    }
   ],
   "source": [
    "random_tensor.shape"
   ]
  },
  {
   "cell_type": "markdown",
   "id": "ec5c34ca-afe6-4883-8866-59ffcc35cdd1",
   "metadata": {},
   "source": [
    "### Tensor datatype\n",
    "**Note**: Tensor datatypes is one of **the 3 big errors** you'll run into with PyTorch and deep learning:\n",
    "1. Tensors not right datatype\n",
    "2. Tensors not right shape\n",
    "3. Tensors not on the right device\n",
    "\n",
    "### Getting information from tensors (tensor attributes)\n",
    "1. Tensors not right datatype - to do get datatype from a tensor, can use `tensor.dtype`\n",
    "2. Tensors not riaht shape - to get shape from a tensor, can use `tensor.shape`\n",
    "3. Tensors not on the right device - to get device from a tensor, can use `tensor.device`"
   ]
  },
  {
   "cell_type": "code",
   "execution_count": 29,
   "id": "da011536-2c4e-4e1b-8ab5-d8dd43acc1da",
   "metadata": {},
   "outputs": [
    {
     "data": {
      "text/plain": [
       "tensor([3., 6., 9.])"
      ]
     },
     "execution_count": 29,
     "metadata": {},
     "output_type": "execute_result"
    }
   ],
   "source": [
    "# Float 32 tensors\n",
    "float_32_tensor = torch.tensor([3.0, 6.0, 9.0], dtype = None, # What datatype is the tensor (e.g. float32 or float16).\n",
    "                                                device = None, # Waht decive is your tensor on (cpe, cuda).\n",
    "                                                requires_grad = False) # Whether or not to track gradient with this tensors operation.\n",
    "float_32_tensor"
   ]
  },
  {
   "cell_type": "code",
   "execution_count": 30,
   "id": "530999b6-6628-4746-b20f-ad5903929e6d",
   "metadata": {},
   "outputs": [
    {
     "data": {
      "text/plain": [
       "torch.float32"
      ]
     },
     "execution_count": 30,
     "metadata": {},
     "output_type": "execute_result"
    }
   ],
   "source": [
    "float_32_tensor.dtype"
   ]
  },
  {
   "cell_type": "code",
   "execution_count": 31,
   "id": "584d425d-bc6e-4245-ac20-ba476895b65e",
   "metadata": {},
   "outputs": [
    {
     "data": {
      "text/plain": [
       "device(type='cpu')"
      ]
     },
     "execution_count": 31,
     "metadata": {},
     "output_type": "execute_result"
    }
   ],
   "source": [
    "float_32_tensor.device"
   ]
  },
  {
   "cell_type": "code",
   "execution_count": 32,
   "id": "556e7eb0-c9a6-4279-ac75-60e090b74188",
   "metadata": {},
   "outputs": [
    {
     "data": {
      "text/plain": [
       "False"
      ]
     },
     "execution_count": 32,
     "metadata": {},
     "output_type": "execute_result"
    }
   ],
   "source": [
    "float_32_tensor.requires_grad"
   ]
  },
  {
   "cell_type": "code",
   "execution_count": 33,
   "id": "8d00574e-9919-4fae-9bf7-d5ed8e08c9ee",
   "metadata": {},
   "outputs": [
    {
     "data": {
      "text/plain": [
       "tensor([3., 6., 9.], dtype=torch.float16)"
      ]
     },
     "execution_count": 33,
     "metadata": {},
     "output_type": "execute_result"
    }
   ],
   "source": [
    "float_16_tensor = torch.tensor([3.0, 6.0, 9.0], dtype = torch.float16)\n",
    "float_16_tensor"
   ]
  },
  {
   "cell_type": "code",
   "execution_count": 34,
   "id": "75ddb412-f846-4dfc-b8e9-7bab0a0ef17c",
   "metadata": {},
   "outputs": [
    {
     "data": {
      "text/plain": [
       "torch.float16"
      ]
     },
     "execution_count": 34,
     "metadata": {},
     "output_type": "execute_result"
    }
   ],
   "source": [
    "float_16_tensor.dtype"
   ]
  },
  {
   "cell_type": "code",
   "execution_count": 35,
   "id": "57e9d9f3-5571-47dd-a079-316af8c3f042",
   "metadata": {},
   "outputs": [],
   "source": [
    "res = float_32_tensor * float_16_tensor"
   ]
  },
  {
   "cell_type": "code",
   "execution_count": 36,
   "id": "36a3779d-b80c-426f-bc4a-044437f74b83",
   "metadata": {},
   "outputs": [
    {
     "data": {
      "text/plain": [
       "torch.float32"
      ]
     },
     "execution_count": 36,
     "metadata": {},
     "output_type": "execute_result"
    }
   ],
   "source": [
    "res.dtype"
   ]
  },
  {
   "cell_type": "code",
   "execution_count": 37,
   "id": "b2b51675-43d2-4572-8af1-f17e29f36032",
   "metadata": {},
   "outputs": [
    {
     "data": {
      "text/plain": [
       "tensor(126.)"
      ]
     },
     "execution_count": 37,
     "metadata": {},
     "output_type": "execute_result"
    }
   ],
   "source": [
    "float_32_tensor @ float_32_tensor"
   ]
  },
  {
   "cell_type": "code",
   "execution_count": 39,
   "id": "afc22105-b4b8-4e8d-a339-8cc2dc5dc573",
   "metadata": {},
   "outputs": [],
   "source": [
    "# float_32_tensor @ float_16_tensor"
   ]
  },
  {
   "cell_type": "markdown",
   "id": "0f57ea57-a00c-41da-91dc-26adf431002a",
   "metadata": {},
   "source": [
    "### Matrix multiplication\n",
    "\n",
    "There are two rules that performing matrix multiplication needs to satisfy:\n",
    "1. The **inner dimensions** must match\n",
    "   - `(3, 3) @ (2, 3)` won't work\n",
    "   - `(2, 3) @ (3, 4)` will work\n",
    "2. The resulting matrix has the shape of the **outer dimensions**:\n",
    "   - `(2, 3) @ (3, 4) -> (2, 4)`\n",
    "   - `(3, 3) @ (3, 4) -> (3, 4)`"
   ]
  },
  {
   "cell_type": "code",
   "execution_count": 40,
   "id": "a88d2d82-523f-4b57-bb68-7085939ab878",
   "metadata": {},
   "outputs": [],
   "source": [
    "# Create a tensor and add 10 to it.\n",
    "tensor = torch.tensor([1,2,3])"
   ]
  },
  {
   "cell_type": "code",
   "execution_count": 41,
   "id": "84c1a3cb-502b-449a-a380-29a31a1226c8",
   "metadata": {},
   "outputs": [
    {
     "data": {
      "text/plain": [
       "tensor(14)"
      ]
     },
     "execution_count": 41,
     "metadata": {},
     "output_type": "execute_result"
    }
   ],
   "source": [
    "# Matrix multiplication\n",
    "torch.matmul(tensor, tensor)"
   ]
  },
  {
   "cell_type": "code",
   "execution_count": 45,
   "id": "07fd77b2-e47a-4ce6-8bc5-b6cb9c0d829a",
   "metadata": {},
   "outputs": [],
   "source": [
    "# Shapes for matrix multiplication\n",
    "tensor_A = torch.tensor([[1, 2],\n",
    "                         [3, 4],\n",
    "                         [5, 6]])\n",
    "\n",
    "tensor_B = torch.tensor([[7, 10], \n",
    "                         [8, 11], \n",
    "                         [9, 12]])\n",
    "\n",
    "# torch.mm(tensor_A, tensor_B)"
   ]
  },
  {
   "cell_type": "code",
   "execution_count": 44,
   "id": "3d83a233-fa7f-4df5-9913-608b2d698f7d",
   "metadata": {},
   "outputs": [
    {
     "data": {
      "text/plain": [
       "(torch.Size([3, 2]), torch.Size([3, 2]))"
      ]
     },
     "execution_count": 44,
     "metadata": {},
     "output_type": "execute_result"
    }
   ],
   "source": [
    "tensor_A.shape, tensor_B.shape"
   ]
  },
  {
   "cell_type": "code",
   "execution_count": 47,
   "id": "d7f548c8-a932-48a7-b29c-35de7c97a891",
   "metadata": {},
   "outputs": [
    {
     "data": {
      "text/plain": [
       "tensor([[ 76, 103],\n",
       "        [100, 136]])"
      ]
     },
     "execution_count": 47,
     "metadata": {},
     "output_type": "execute_result"
    }
   ],
   "source": [
    "tensor_A.T @ tensor_B"
   ]
  },
  {
   "cell_type": "code",
   "execution_count": 42,
   "id": "4746f095-2398-44e9-8fbe-ac076089cf2b",
   "metadata": {},
   "outputs": [],
   "source": [
    "# @, matmul, mm"
   ]
  },
  {
   "cell_type": "code",
   "execution_count": 48,
   "id": "d7269730-9c91-4ef7-be11-c406f53ea224",
   "metadata": {},
   "outputs": [],
   "source": [
    "# สร้าง tensor_A ขนาด (100, 10) และ tensor_B ขนาด (10, 2)\n",
    "tensor_A = torch.rand(100, 10)\n",
    "tensor_B = torch.rand(10, 2)"
   ]
  },
  {
   "cell_type": "code",
   "execution_count": 49,
   "id": "892f6290-b1a8-44fc-928b-87129d701fa8",
   "metadata": {},
   "outputs": [
    {
     "data": {
      "text/plain": [
       "torch.Size([100, 2])"
      ]
     },
     "execution_count": 49,
     "metadata": {},
     "output_type": "execute_result"
    }
   ],
   "source": [
    "# หา ขนาดของ res ที่เป็นผลคูณของ tensor_A กับ tensor_B \n",
    "res = torch.mm(tensor_A, tensor_B)\n",
    "res.shape"
   ]
  },
  {
   "cell_type": "markdown",
   "id": "db905e61-ac88-4e9a-b0eb-a8893ed81f05",
   "metadata": {},
   "source": [
    "### Reshaping, stacking, squeezing and unsqueezing Tensors\n",
    "- `reshape`: reshape an input tensor to a defined shape"
   ]
  },
  {
   "cell_type": "code",
   "execution_count": 52,
   "id": "1470b299-cd2a-4b55-bf45-60c5c65e2fca",
   "metadata": {},
   "outputs": [
    {
     "data": {
      "text/plain": [
       "array([  1,   4,   7,  10,  13,  16,  19,  22,  25,  28,  31,  34,  37,\n",
       "        40,  43,  46,  49,  52,  55,  58,  61,  64,  67,  70,  73,  76,\n",
       "        79,  82,  85,  88,  91,  94,  97, 100])"
      ]
     },
     "execution_count": 52,
     "metadata": {},
     "output_type": "execute_result"
    }
   ],
   "source": [
    "np.arange(1, 101, 3)"
   ]
  },
  {
   "cell_type": "code",
   "execution_count": 53,
   "id": "15292333-fa3f-423a-b239-c7acf1d4cc14",
   "metadata": {},
   "outputs": [
    {
     "data": {
      "text/plain": [
       "(tensor([1., 2., 3., 4., 5., 6., 7., 8., 9.]), torch.Size([9]))"
      ]
     },
     "execution_count": 53,
     "metadata": {},
     "output_type": "execute_result"
    }
   ],
   "source": [
    "# Let's create a tensor\n",
    "x = torch.arange(1., 10.)\n",
    "x, x.shape"
   ]
  },
  {
   "cell_type": "code",
   "execution_count": 54,
   "id": "9e48d14a-3a3d-4bcf-aa44-c471907ec0db",
   "metadata": {},
   "outputs": [
    {
     "data": {
      "text/plain": [
       "(tensor([[1., 2., 3., 4., 5., 6., 7., 8., 9.]]), torch.Size([1, 9]))"
      ]
     },
     "execution_count": 54,
     "metadata": {},
     "output_type": "execute_result"
    }
   ],
   "source": [
    "# Add and extra dimension\n",
    "x_reshaped = x.reshape(1, 9)\n",
    "x_reshaped, x_reshaped.shape"
   ]
  },
  {
   "cell_type": "markdown",
   "id": "5fc667fc-24af-4768-85f5-81296caf5d4c",
   "metadata": {},
   "source": [
    "- `view`: return a view of an input tensor of certain shape but keep the same memory as the original tensor"
   ]
  },
  {
   "cell_type": "code",
   "execution_count": 55,
   "id": "c2ff5c0c-6cd4-4df9-9924-d80a5430e804",
   "metadata": {},
   "outputs": [
    {
     "data": {
      "text/plain": [
       "(tensor([[1., 2., 3., 4., 5., 6., 7., 8., 9.]]), torch.Size([1, 9]))"
      ]
     },
     "execution_count": 55,
     "metadata": {},
     "output_type": "execute_result"
    }
   ],
   "source": [
    "# Change the view\n",
    "z = x.view(1, 9)\n",
    "z, z.shape"
   ]
  },
  {
   "cell_type": "code",
   "execution_count": 56,
   "id": "6133801b-4053-4c9a-be14-263d2cda054c",
   "metadata": {},
   "outputs": [
    {
     "data": {
      "text/plain": [
       "(tensor([[5., 2., 3., 4., 5., 6., 7., 8., 9.]]),\n",
       " tensor([5., 2., 3., 4., 5., 6., 7., 8., 9.]))"
      ]
     },
     "execution_count": 56,
     "metadata": {},
     "output_type": "execute_result"
    }
   ],
   "source": [
    "# Changing z changes x (because a view of a tensor shares the same menory as the original input)\n",
    "z[:, 0] = 5\n",
    "z, x"
   ]
  },
  {
   "cell_type": "markdown",
   "id": "47fd95dc-b85e-46a1-b85d-8b28dff0a10d",
   "metadata": {},
   "source": [
    "- `stacking`: combine multiple tensor on top of each other (vstack) or side by side (hstack)"
   ]
  },
  {
   "cell_type": "code",
   "execution_count": 57,
   "id": "d763dee5-4ef5-4361-96d7-8d7446223aa7",
   "metadata": {},
   "outputs": [
    {
     "data": {
      "text/plain": [
       "tensor([[5., 2., 3., 4., 5., 6., 7., 8., 9.],\n",
       "        [5., 2., 3., 4., 5., 6., 7., 8., 9.],\n",
       "        [5., 2., 3., 4., 5., 6., 7., 8., 9.],\n",
       "        [5., 2., 3., 4., 5., 6., 7., 8., 9.]])"
      ]
     },
     "execution_count": 57,
     "metadata": {},
     "output_type": "execute_result"
    }
   ],
   "source": [
    "# Stack tensors on tep of each other\n",
    "x_stacked = torch.stack([x, x, x, x], dim = 0)\n",
    "x_stacked"
   ]
  },
  {
   "cell_type": "code",
   "execution_count": 58,
   "id": "9759efb7-72c9-4e80-9cfd-992c8af5dfa2",
   "metadata": {},
   "outputs": [
    {
     "data": {
      "text/plain": [
       "tensor([[5., 5., 5., 5.],\n",
       "        [2., 2., 2., 2.],\n",
       "        [3., 3., 3., 3.],\n",
       "        [4., 4., 4., 4.],\n",
       "        [5., 5., 5., 5.],\n",
       "        [6., 6., 6., 6.],\n",
       "        [7., 7., 7., 7.],\n",
       "        [8., 8., 8., 8.],\n",
       "        [9., 9., 9., 9.]])"
      ]
     },
     "execution_count": 58,
     "metadata": {},
     "output_type": "execute_result"
    }
   ],
   "source": [
    "x_stacked = torch.stack([x, x, x, x], dim = 1)\n",
    "x_stacked"
   ]
  },
  {
   "cell_type": "markdown",
   "id": "5c84b983-7f55-4c7b-badc-398ddb093df6",
   "metadata": {},
   "source": [
    "- `squeeze`: removes all `1` dimensions from a tensor"
   ]
  },
  {
   "cell_type": "code",
   "execution_count": 59,
   "id": "2483fc53-ec51-4a84-9905-8c204e2ef4b1",
   "metadata": {},
   "outputs": [
    {
     "data": {
      "text/plain": [
       "tensor([[5., 2., 3., 4., 5., 6., 7., 8., 9.]])"
      ]
     },
     "execution_count": 59,
     "metadata": {},
     "output_type": "execute_result"
    }
   ],
   "source": [
    "# torch.squeeze() - removes all single dimensions form a target tensor.\n",
    "x_reshaped"
   ]
  },
  {
   "cell_type": "code",
   "execution_count": 60,
   "id": "3f8a2743-9094-4775-82de-6789f0ce5d2b",
   "metadata": {},
   "outputs": [
    {
     "data": {
      "text/plain": [
       "torch.Size([1, 9])"
      ]
     },
     "execution_count": 60,
     "metadata": {},
     "output_type": "execute_result"
    }
   ],
   "source": [
    "x_reshaped.shape"
   ]
  },
  {
   "cell_type": "code",
   "execution_count": 61,
   "id": "84362bc7-a284-479e-8c73-c2661e4dbf48",
   "metadata": {},
   "outputs": [
    {
     "data": {
      "text/plain": [
       "tensor([5., 2., 3., 4., 5., 6., 7., 8., 9.])"
      ]
     },
     "execution_count": 61,
     "metadata": {},
     "output_type": "execute_result"
    }
   ],
   "source": [
    "x_squeezed = x_reshaped.squeeze()\n",
    "x_squeezed"
   ]
  },
  {
   "cell_type": "markdown",
   "id": "b29b17d9-29e9-47c3-944b-23f37ba58e93",
   "metadata": {},
   "source": [
    "- `unsqueuze`: add a `1` dimension to a target tensor"
   ]
  },
  {
   "cell_type": "code",
   "execution_count": 62,
   "id": "de5d6277-1fc1-4264-b1dc-535f47938177",
   "metadata": {},
   "outputs": [
    {
     "data": {
      "text/plain": [
       "tensor([[5., 2., 3., 4., 5., 6., 7., 8., 9.]])"
      ]
     },
     "execution_count": 62,
     "metadata": {},
     "output_type": "execute_result"
    }
   ],
   "source": [
    "# torch.unsqueeze() - adds a single dimension to a target tensor at a specific dim (dimension)\n",
    "x_unsqueezed = x_squeezed.unsqueeze(dim = 0)\n",
    "x_unsqueezed"
   ]
  },
  {
   "cell_type": "code",
   "execution_count": 63,
   "id": "395852d0-eebb-4092-b5b3-ffa27147a1e0",
   "metadata": {},
   "outputs": [
    {
     "data": {
      "text/plain": [
       "torch.Size([1, 9])"
      ]
     },
     "execution_count": 63,
     "metadata": {},
     "output_type": "execute_result"
    }
   ],
   "source": [
    "x_unsqueezed.shape"
   ]
  },
  {
   "cell_type": "code",
   "execution_count": 64,
   "id": "cb89824a-340c-41d7-b8d8-fddf1eab5574",
   "metadata": {},
   "outputs": [
    {
     "data": {
      "text/plain": [
       "tensor([[5.],\n",
       "        [2.],\n",
       "        [3.],\n",
       "        [4.],\n",
       "        [5.],\n",
       "        [6.],\n",
       "        [7.],\n",
       "        [8.],\n",
       "        [9.]])"
      ]
     },
     "execution_count": 64,
     "metadata": {},
     "output_type": "execute_result"
    }
   ],
   "source": [
    "x_unsqueezed = x_squeezed.unsqueeze(dim = 1)\n",
    "x_unsqueezed"
   ]
  },
  {
   "cell_type": "code",
   "execution_count": 65,
   "id": "7661e228-996f-47f9-b839-70fba1859fa1",
   "metadata": {},
   "outputs": [
    {
     "data": {
      "text/plain": [
       "torch.Size([9, 1])"
      ]
     },
     "execution_count": 65,
     "metadata": {},
     "output_type": "execute_result"
    }
   ],
   "source": [
    "x_unsqueezed.shape"
   ]
  },
  {
   "cell_type": "markdown",
   "id": "79bcb2d5-3126-4588-bd6b-7702b4957018",
   "metadata": {},
   "source": [
    "- `permute`: return a view of the input with dimensions permuted (swapped) in a certain way."
   ]
  },
  {
   "cell_type": "code",
   "execution_count": 66,
   "id": "9d610180-13a2-44f6-a827-bcae07e22291",
   "metadata": {},
   "outputs": [
    {
     "data": {
      "text/plain": [
       "torch.Size([244, 244, 3])"
      ]
     },
     "execution_count": 66,
     "metadata": {},
     "output_type": "execute_result"
    }
   ],
   "source": [
    "# torhc.permute - rearranges the dimensions of a target tensor in a specificed order.\n",
    "x_original = torch.rand(244, 244, 3) # [height, widht, color_channels]\n",
    "x_original.shape"
   ]
  },
  {
   "cell_type": "code",
   "execution_count": 67,
   "id": "e570683b-4c14-4b91-9a62-d3fd6189388b",
   "metadata": {},
   "outputs": [
    {
     "data": {
      "text/plain": [
       "torch.Size([3, 244, 244])"
      ]
     },
     "execution_count": 67,
     "metadata": {},
     "output_type": "execute_result"
    }
   ],
   "source": [
    "# Permute the original tensor to rearrange the axis (or dim) order -> return view of tensor\n",
    "x_permuted = x_original.permute(2, 0, 1) # shifts axis (0, 1, 2) -> (2, 0, 1) # [color_channels, height, widht]\n",
    "x_permuted.shape"
   ]
  },
  {
   "cell_type": "code",
   "execution_count": 72,
   "id": "d465c2ef-9d98-4679-a232-e470dd62697c",
   "metadata": {},
   "outputs": [],
   "source": [
    "# ทำการเพิ่ม Dimension ให้กับ tensor A\n",
    "A = torch.rand(3, 128, 128)\n",
    "res = torch.unsqueeze(A, dim=0)"
   ]
  },
  {
   "cell_type": "code",
   "execution_count": 73,
   "id": "1480b78e-39aa-45dd-a675-e08aaa4b0db3",
   "metadata": {},
   "outputs": [
    {
     "data": {
      "text/plain": [
       "torch.Size([1, 3, 128, 128])"
      ]
     },
     "execution_count": 73,
     "metadata": {},
     "output_type": "execute_result"
    }
   ],
   "source": [
    "res.shape"
   ]
  },
  {
   "cell_type": "code",
   "execution_count": 74,
   "id": "cada8a78-4029-4d2f-828a-72cd42263efb",
   "metadata": {},
   "outputs": [
    {
     "data": {
      "text/plain": [
       "torch.Size([3, 1, 128, 128])"
      ]
     },
     "execution_count": 74,
     "metadata": {},
     "output_type": "execute_result"
    }
   ],
   "source": [
    "res = torch.unsqueeze(A, dim=1)\n",
    "res.shape"
   ]
  },
  {
   "cell_type": "code",
   "execution_count": null,
   "id": "1740cafb-f39a-49c7-b6e7-e539e160cc8e",
   "metadata": {},
   "outputs": [],
   "source": [
    "# ทำการสลับ Dimension แรก กับ Dimension สุดท้าย ให้กับ tensorฺ B\n",
    "B = torch.rand(244, 244, 1)"
   ]
  },
  {
   "cell_type": "markdown",
   "id": "1d1f4686-181b-4db1-b73e-6a2f8b892bcb",
   "metadata": {},
   "source": [
    "### Indexing"
   ]
  },
  {
   "cell_type": "code",
   "execution_count": 75,
   "id": "1df4c81c-797a-4a4e-87c4-ce6261637a57",
   "metadata": {},
   "outputs": [
    {
     "data": {
      "text/plain": [
       "tensor(0.7513)"
      ]
     },
     "execution_count": 75,
     "metadata": {},
     "output_type": "execute_result"
    }
   ],
   "source": [
    "x_original[0, 0, 0] "
   ]
  },
  {
   "cell_type": "code",
   "execution_count": 76,
   "id": "1f4f48d0-e3de-4199-b4e3-093d444f27f1",
   "metadata": {},
   "outputs": [],
   "source": [
    "x_original[0, 0, 0] = 1111"
   ]
  },
  {
   "cell_type": "code",
   "execution_count": 77,
   "id": "8aca2aa2-ea06-4e2b-823f-8ea3f5fbca2b",
   "metadata": {},
   "outputs": [
    {
     "data": {
      "text/plain": [
       "(tensor(1111.), tensor(1111.))"
      ]
     },
     "execution_count": 77,
     "metadata": {},
     "output_type": "execute_result"
    }
   ],
   "source": [
    "x_original[0, 0, 0], x_permuted[0, 0, 0]"
   ]
  },
  {
   "cell_type": "code",
   "execution_count": 78,
   "id": "8556012d-1aa6-47b9-a5ac-367e03096adb",
   "metadata": {},
   "outputs": [
    {
     "data": {
      "text/plain": [
       "(tensor([[[1, 2, 3],\n",
       "          [4, 5, 6],\n",
       "          [7, 8, 9]]]),\n",
       " torch.Size([1, 3, 3]))"
      ]
     },
     "execution_count": 78,
     "metadata": {},
     "output_type": "execute_result"
    }
   ],
   "source": [
    "# Create a tensor\n",
    "x = torch.arange(1, 10).reshape(1, 3, 3)\n",
    "x, x.shape"
   ]
  },
  {
   "cell_type": "code",
   "execution_count": 79,
   "id": "97d56bf7-7e36-49f2-88f8-22b04f918b3c",
   "metadata": {},
   "outputs": [
    {
     "data": {
      "text/plain": [
       "tensor([[1, 2, 3],\n",
       "        [4, 5, 6],\n",
       "        [7, 8, 9]])"
      ]
     },
     "execution_count": 79,
     "metadata": {},
     "output_type": "execute_result"
    }
   ],
   "source": [
    "# Let's index on our new tensor\n",
    "x[0]"
   ]
  },
  {
   "cell_type": "code",
   "execution_count": 80,
   "id": "d2e3fa4c-61d3-4679-9fd0-fb3a6e8f9126",
   "metadata": {},
   "outputs": [
    {
     "data": {
      "text/plain": [
       "tensor([1, 2, 3])"
      ]
     },
     "execution_count": 80,
     "metadata": {},
     "output_type": "execute_result"
    }
   ],
   "source": [
    "# Let's index on the middle bracket (dim = 1)\n",
    "x[0][0]"
   ]
  },
  {
   "cell_type": "code",
   "execution_count": 81,
   "id": "568ff428-7a45-41dc-be84-2d04f2fcbaa4",
   "metadata": {},
   "outputs": [
    {
     "data": {
      "text/plain": [
       "tensor(1)"
      ]
     },
     "execution_count": 81,
     "metadata": {},
     "output_type": "execute_result"
    }
   ],
   "source": [
    "# Let's index on the most innder bracket (last dimension)\n",
    "x[0][0][0]"
   ]
  },
  {
   "cell_type": "code",
   "execution_count": 82,
   "id": "1ca85e12-b662-47c5-805e-82fe5fc56172",
   "metadata": {},
   "outputs": [
    {
     "data": {
      "text/plain": [
       "tensor([[1, 4, 7]])"
      ]
     },
     "execution_count": 82,
     "metadata": {},
     "output_type": "execute_result"
    }
   ],
   "source": [
    "# Get all values of 0th and 1st dimensions but only index 1 of 2nd dimension\n",
    "x[:, :, 0]"
   ]
  },
  {
   "cell_type": "code",
   "execution_count": 83,
   "id": "75c4653d-1173-4340-9c98-847f15bc479f",
   "metadata": {},
   "outputs": [
    {
     "data": {
      "text/plain": [
       "tensor([1, 4, 7])"
      ]
     },
     "execution_count": 83,
     "metadata": {},
     "output_type": "execute_result"
    }
   ],
   "source": [
    "# Get all values of the 0 dimension but only the 1 index value of 1st and 2nd dimension\n",
    "x[0, :, 0]"
   ]
  },
  {
   "cell_type": "markdown",
   "id": "f83d15d1-94b3-4079-a2ba-e5b2e5f25128",
   "metadata": {},
   "source": [
    "### PyTorch tensors & NumPy\n",
    "- Data in NumPy, want in PyTorch tensor -> `torch.from_numpy(ndarray)`\n",
    "- PyTorch tensor, want in NumPy -> `torch.Tensor.numpy()`"
   ]
  },
  {
   "cell_type": "code",
   "execution_count": 84,
   "id": "4a4a132e-c9c9-42e0-adfd-68da336a4da7",
   "metadata": {},
   "outputs": [
    {
     "data": {
      "text/plain": [
       "(array([1., 2., 3., 4., 5., 6., 7.]),\n",
       " tensor([1., 2., 3., 4., 5., 6., 7.], dtype=torch.float64))"
      ]
     },
     "execution_count": 84,
     "metadata": {},
     "output_type": "execute_result"
    }
   ],
   "source": [
    "array = np.arange(1., 8.)\n",
    "tensor = torch.from_numpy(array) #When converting from numpy -> pytorch, pytorch reflects numpy's default datatype of float64 unless specified otherwise (.type(...))\n",
    "array, tensor"
   ]
  },
  {
   "cell_type": "code",
   "execution_count": 86,
   "id": "1b92f3d1-4441-40e4-9a8c-d6b9433a8ea9",
   "metadata": {},
   "outputs": [
    {
     "data": {
      "text/plain": [
       "dtype('float64')"
      ]
     },
     "execution_count": 86,
     "metadata": {},
     "output_type": "execute_result"
    }
   ],
   "source": [
    "array.dtype"
   ]
  },
  {
   "cell_type": "code",
   "execution_count": 87,
   "id": "723daf90-d52c-4aa9-a4a0-5975fe409d62",
   "metadata": {},
   "outputs": [
    {
     "data": {
      "text/plain": [
       "torch.float64"
      ]
     },
     "execution_count": 87,
     "metadata": {},
     "output_type": "execute_result"
    }
   ],
   "source": [
    "tensor.dtype"
   ]
  },
  {
   "cell_type": "code",
   "execution_count": 88,
   "id": "e06d2584-f11b-4dac-a20a-db9fc704368c",
   "metadata": {},
   "outputs": [],
   "source": [
    "# Chang the value of array, what will this do `tensor`?\n",
    "array = array + 1"
   ]
  },
  {
   "cell_type": "code",
   "execution_count": 89,
   "id": "af544998-df1d-492a-bd27-f3c56e72aef7",
   "metadata": {},
   "outputs": [
    {
     "data": {
      "text/plain": [
       "(array([2., 3., 4., 5., 6., 7., 8.]),\n",
       " tensor([1., 2., 3., 4., 5., 6., 7.], dtype=torch.float64))"
      ]
     },
     "execution_count": 89,
     "metadata": {},
     "output_type": "execute_result"
    }
   ],
   "source": [
    "array, tensor"
   ]
  },
  {
   "cell_type": "code",
   "execution_count": 90,
   "id": "10c55b69-118a-4d77-bf3e-88eb55a5f95b",
   "metadata": {},
   "outputs": [],
   "source": [
    "# Tensor to NumPy array\n",
    "tensor = torch.ones(7)"
   ]
  },
  {
   "cell_type": "code",
   "execution_count": 91,
   "id": "31573f9c-9ee6-431c-ae73-d0ba2bf92d6c",
   "metadata": {},
   "outputs": [
    {
     "data": {
      "text/plain": [
       "tensor([1., 1., 1., 1., 1., 1., 1.])"
      ]
     },
     "execution_count": 91,
     "metadata": {},
     "output_type": "execute_result"
    }
   ],
   "source": [
    "tensor"
   ]
  },
  {
   "cell_type": "code",
   "execution_count": 92,
   "id": "332a2854-d960-4c7f-8621-df94b49b4cee",
   "metadata": {},
   "outputs": [],
   "source": [
    "numpy_tensor = tensor.numpy()"
   ]
  },
  {
   "cell_type": "code",
   "execution_count": 93,
   "id": "d03eefcf-dc96-481a-916e-bcd0220535b7",
   "metadata": {},
   "outputs": [
    {
     "data": {
      "text/plain": [
       "(tensor([1., 1., 1., 1., 1., 1., 1.]),\n",
       " array([1., 1., 1., 1., 1., 1., 1.], dtype=float32))"
      ]
     },
     "execution_count": 93,
     "metadata": {},
     "output_type": "execute_result"
    }
   ],
   "source": [
    "tensor, numpy_tensor"
   ]
  },
  {
   "cell_type": "code",
   "execution_count": 94,
   "id": "f620f23a-4f20-4a26-a5c1-f162a467f402",
   "metadata": {},
   "outputs": [
    {
     "data": {
      "text/plain": [
       "(tensor([2., 2., 2., 2., 2., 2., 2.]),\n",
       " array([1., 1., 1., 1., 1., 1., 1.], dtype=float32))"
      ]
     },
     "execution_count": 94,
     "metadata": {},
     "output_type": "execute_result"
    }
   ],
   "source": [
    "# Change the tensor, what happens to `numpy_tensor`?\n",
    "tensor = tensor + 1\n",
    "tensor, numpy_tensor"
   ]
  },
  {
   "cell_type": "code",
   "execution_count": 95,
   "id": "6422b1aa-63e9-4bc6-9f5d-172c13ecc409",
   "metadata": {},
   "outputs": [],
   "source": [
    "# สร้าง Tensor Identity matrix จาก numpy\n",
    "identity_array = np.identity(5)"
   ]
  },
  {
   "cell_type": "code",
   "execution_count": 99,
   "id": "a3314ca7-273b-4526-86b1-379916c39ee6",
   "metadata": {},
   "outputs": [
    {
     "data": {
      "text/plain": [
       "array([[1., 0., 0., 0., 0.],\n",
       "       [0., 1., 0., 0., 0.],\n",
       "       [0., 0., 1., 0., 0.],\n",
       "       [0., 0., 0., 1., 0.],\n",
       "       [0., 0., 0., 0., 1.]], dtype=float32)"
      ]
     },
     "execution_count": 99,
     "metadata": {},
     "output_type": "execute_result"
    }
   ],
   "source": [
    "identity_array.astype(np.float32)"
   ]
  },
  {
   "cell_type": "code",
   "execution_count": 100,
   "id": "31d0ef81-6e0f-4937-a930-59eb1d1b13dd",
   "metadata": {},
   "outputs": [],
   "source": [
    "identity_tensor = torch.from_numpy(identity_array.astype(np.float32))"
   ]
  },
  {
   "cell_type": "code",
   "execution_count": 101,
   "id": "f034ab76-826d-4c9c-b00e-f1c941f1ef2e",
   "metadata": {},
   "outputs": [
    {
     "data": {
      "text/plain": [
       "tensor([[1., 0., 0., 0., 0.],\n",
       "        [0., 1., 0., 0., 0.],\n",
       "        [0., 0., 1., 0., 0.],\n",
       "        [0., 0., 0., 1., 0.],\n",
       "        [0., 0., 0., 0., 1.]])"
      ]
     },
     "execution_count": 101,
     "metadata": {},
     "output_type": "execute_result"
    }
   ],
   "source": [
    "identity_tensor"
   ]
  },
  {
   "cell_type": "markdown",
   "id": "1faf5ade-6068-42ce-9061-02a02a26e242",
   "metadata": {},
   "source": [
    "### Running tensors and PyTorch objects on tehe GPUs (and making faster computations)\n",
    "\n",
    "1. Getting a GPU"
   ]
  },
  {
   "cell_type": "code",
   "execution_count": 102,
   "id": "c0153865-1a30-4a04-acd4-78d6f48fdf57",
   "metadata": {},
   "outputs": [
    {
     "data": {
      "text/plain": [
       "True"
      ]
     },
     "execution_count": 102,
     "metadata": {},
     "output_type": "execute_result"
    }
   ],
   "source": [
    "# Check gor GPU access with PyTorch\n",
    "torch.cuda.is_available()"
   ]
  },
  {
   "cell_type": "code",
   "execution_count": 103,
   "id": "01da3289-e912-4fdc-bbcf-08cb6d366445",
   "metadata": {},
   "outputs": [
    {
     "data": {
      "text/plain": [
       "'cuda'"
      ]
     },
     "execution_count": 103,
     "metadata": {},
     "output_type": "execute_result"
    }
   ],
   "source": [
    "# Setup device agnostic code\n",
    "device = 'cuda' if torch.cuda.is_available() else 'cpu'\n",
    "device"
   ]
  },
  {
   "cell_type": "code",
   "execution_count": 104,
   "id": "8d8635b4-5033-4236-aa70-d5cedfe320c7",
   "metadata": {},
   "outputs": [
    {
     "data": {
      "text/plain": [
       "1"
      ]
     },
     "execution_count": 104,
     "metadata": {},
     "output_type": "execute_result"
    }
   ],
   "source": [
    "# Count number of devices\n",
    "torch.cuda.device_count()"
   ]
  },
  {
   "cell_type": "markdown",
   "id": "feea2a74-8593-4edf-8d94-a5d1236e9052",
   "metadata": {},
   "source": [
    "2. Putting tensors (and models) on GPU"
   ]
  },
  {
   "cell_type": "code",
   "execution_count": 105,
   "id": "cc6fac3f-10f9-4a14-a65b-b1262b789b43",
   "metadata": {},
   "outputs": [
    {
     "name": "stdout",
     "output_type": "stream",
     "text": [
      "tensor([1, 2, 3]) cpu\n"
     ]
    }
   ],
   "source": [
    "# Create a tensor (default on the CPU)\n",
    "tensor = torch.tensor([1, 2, 3], device = 'cpu')\n",
    "\n",
    "# Tensor not on GPU\n",
    "print(tensor, tensor.device)"
   ]
  },
  {
   "cell_type": "code",
   "execution_count": 106,
   "id": "5e9ad1f0-07da-481e-9bbd-74e84c272303",
   "metadata": {},
   "outputs": [
    {
     "data": {
      "text/plain": [
       "tensor([1, 2, 3], device='cuda:0')"
      ]
     },
     "execution_count": 106,
     "metadata": {},
     "output_type": "execute_result"
    }
   ],
   "source": [
    "# Move tensor to GPU (if available)\n",
    "tensor_on_gpu = tensor.to(device)\n",
    "tensor_on_gpu"
   ]
  },
  {
   "cell_type": "markdown",
   "id": "8f926762-cb1b-42b1-affd-3c9b4793f385",
   "metadata": {},
   "source": [
    "3. Moveing tensors back to the CPU"
   ]
  },
  {
   "cell_type": "code",
   "execution_count": 107,
   "id": "09a52242-5614-459f-b4cb-48410f1d3ea2",
   "metadata": {},
   "outputs": [],
   "source": [
    "# if tensor is on GPU, can't transform it to numpy\n",
    "# tensor_on_gpu.numpy()"
   ]
  },
  {
   "cell_type": "code",
   "execution_count": 109,
   "id": "fe786189-4cff-472e-a721-68bbe690745f",
   "metadata": {},
   "outputs": [
    {
     "data": {
      "text/plain": [
       "array([1, 2, 3], dtype=int64)"
      ]
     },
     "execution_count": 109,
     "metadata": {},
     "output_type": "execute_result"
    }
   ],
   "source": [
    "# To fix the GPU tensor with NumPy issue, we can first set it to the CPU\n",
    "tensor_back_on_cpu = tensor_on_gpu.cpu().numpy()\n",
    "tensor_back_on_cpu"
   ]
  },
  {
   "cell_type": "code",
   "execution_count": null,
   "id": "65ffc6a4-6d40-4314-8a66-540be407ce48",
   "metadata": {},
   "outputs": [],
   "source": []
  }
 ],
 "metadata": {
  "kernelspec": {
   "display_name": "machine learning",
   "language": "python",
   "name": "ml"
  },
  "language_info": {
   "codemirror_mode": {
    "name": "ipython",
    "version": 3
   },
   "file_extension": ".py",
   "mimetype": "text/x-python",
   "name": "python",
   "nbconvert_exporter": "python",
   "pygments_lexer": "ipython3",
   "version": "3.12.4"
  }
 },
 "nbformat": 4,
 "nbformat_minor": 5
}
