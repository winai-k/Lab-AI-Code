{
 "cells": [
  {
   "cell_type": "markdown",
   "id": "binding-mentor",
   "metadata": {
    "id": "binding-mentor"
   },
   "source": [
    "# Python for AI #1\n",
    "\n",
    "พื้นฐาน Python สำหรับการทำงานด้าน Data Science และ AI\n"
   ]
  },
  {
   "cell_type": "markdown",
   "id": "painted-lingerie",
   "metadata": {
    "id": "painted-lingerie"
   },
   "source": [
    "## 1. \"Hello, world\"\n",
    "\n",
    "เริ่มต้นเขียนโค้ดภาษา Python ด้วยโค้ดเพียงบรรทัดเดียว"
   ]
  },
  {
   "cell_type": "code",
   "execution_count": 1,
   "id": "complex-hungarian",
   "metadata": {
    "colab": {
     "base_uri": "https://localhost:8080/"
    },
    "id": "complex-hungarian",
    "outputId": "15a08732-f7aa-4c56-cfa8-b73928f0b524"
   },
   "outputs": [
    {
     "name": "stdout",
     "output_type": "stream",
     "text": [
      "Hello, world\n",
      " code cell \n"
     ]
    }
   ],
   "source": [
    "print(\"Hello, world\")\n",
    "print(\" code cell \")"
   ]
  },
  {
   "cell_type": "markdown",
   "id": "oDXvbdwGq7so",
   "metadata": {
    "id": "oDXvbdwGq7so"
   },
   "source": [
    "--- *this code for test* ---"
   ]
  },
  {
   "cell_type": "markdown",
   "id": "reasonable-holocaust",
   "metadata": {
    "id": "reasonable-holocaust"
   },
   "source": [
    "## 2. Code Block"
   ]
  },
  {
   "cell_type": "markdown",
   "id": "center-detail",
   "metadata": {
    "id": "center-detail"
   },
   "source": [
    "ในภาษา C/C++ จะใช้ `{}` เพื่อจัดโครงสร้าง code (code block)\n",
    "```c\n",
    "#include <stdio.h>\n",
    "\n",
    "void main() {\n",
    "   printf(\"Hello, World!\");\n",
    "}\n",
    "```"
   ]
  },
  {
   "cell_type": "markdown",
   "id": "entertaining-wellington",
   "metadata": {
    "id": "entertaining-wellington"
   },
   "source": [
    "ในภาษา Python จะใช้ tab หรือ space เพื่อจัด code block\n",
    "\n",
    "```python\n",
    "def main():\n",
    "    print(\"Hello, World!\")\n",
    "    \n",
    "main()\n",
    "```\n",
    "\n",
    "*** ใน 1 file จะใช้ tab หรือ space ได้อย่างใดอย่างหนึ่งเท่านั้น ิฉะนั้นจะทำให้เกิด syntax error ***"
   ]
  },
  {
   "cell_type": "markdown",
   "id": "seventh-despite",
   "metadata": {
    "id": "seventh-despite"
   },
   "source": [
    "## 3. Interactive Programming\n",
    "\n",
    "Python รองรับการเขียนโปรแกรมแบบมีปฏิสัมพันธ์ได้ ทำให้สามารถเข้าไปแสดงผลหรือแก้ไขตัวแปรในขณะที่โปรแกรมกำลังทำงานอยู่ได้เลยโดยไม่ต้อง compile หรือ run ใหม่\n"
   ]
  },
  {
   "cell_type": "code",
   "execution_count": 7,
   "id": "specialized-handbook",
   "metadata": {
    "id": "specialized-handbook"
   },
   "outputs": [],
   "source": [
    "a = 200"
   ]
  },
  {
   "cell_type": "code",
   "execution_count": 8,
   "id": "unlikely-fleece",
   "metadata": {
    "colab": {
     "base_uri": "https://localhost:8080/"
    },
    "id": "unlikely-fleece",
    "outputId": "970d7944-065c-426e-c9e7-dda304923b41"
   },
   "outputs": [
    {
     "name": "stdout",
     "output_type": "stream",
     "text": [
      "200\n"
     ]
    }
   ],
   "source": [
    "print(a)"
   ]
  },
  {
   "cell_type": "code",
   "execution_count": 11,
   "id": "approximate-dividend",
   "metadata": {
    "colab": {
     "base_uri": "https://localhost:8080/"
    },
    "id": "approximate-dividend",
    "outputId": "fad142e5-ddcf-4add-93a3-07a674a65750"
   },
   "outputs": [
    {
     "name": "stdout",
     "output_type": "stream",
     "text": [
      "Hello, world\n",
      "join Hello world\n"
     ]
    }
   ],
   "source": [
    "print(\"Hello,\", \"world\")\n",
    "print(\"join \"\"Hello \"+\"world\")"
   ]
  },
  {
   "cell_type": "markdown",
   "id": "remarkable-fitness",
   "metadata": {
    "id": "remarkable-fitness"
   },
   "source": [
    "## 4. Comment In Python\n",
    "\n",
    "comment มีไว้ใช้เขียนอธิบายการทำงานของ code ทำให้ผู้อ่านเข้าใจโค้ดได้ง่ายขึ้น โดยที่โปรแกรมจะไม่ประมวลผล comment นั้น\n",
    "\n",
    "Single-line comment: ใช้สัญลักษณ์ # นำหน้า"
   ]
  },
  {
   "cell_type": "code",
   "execution_count": 13,
   "id": "august-efficiency",
   "metadata": {
    "id": "august-efficiency"
   },
   "outputs": [],
   "source": [
    "# single line comment\n",
    "# another line comment\n",
    "# add comment1\n",
    "# comment2"
   ]
  },
  {
   "cell_type": "markdown",
   "id": "c7b3f94f-31dc-4e9e-9dfa-04d237dace10",
   "metadata": {
    "id": "c7b3f94f-31dc-4e9e-9dfa-04d237dace10"
   },
   "source": [
    "Multi-line comment: ใช้สัญลักษณ์ \"\"\" หรือ ''' ครอบเพื่อเขียนคำอธิบายหลายบรรทัด"
   ]
  },
  {
   "cell_type": "code",
   "execution_count": null,
   "id": "spread-intermediate",
   "metadata": {
    "id": "spread-intermediate",
    "outputId": "4606fd9b-954d-49b2-bebc-7013251493de"
   },
   "outputs": [
    {
     "data": {
      "text/plain": [
       "'\\nYou can write multiple lines,\\nwithout insert # every line.\\n'"
      ]
     },
     "execution_count": 6,
     "metadata": {},
     "output_type": "execute_result"
    }
   ],
   "source": [
    "'''\n",
    "You can write multiple lines,\n",
    "without insert # every line.\n",
    "'''\n"
   ]
  },
  {
   "cell_type": "markdown",
   "id": "minimal-oakland",
   "metadata": {
    "id": "minimal-oakland"
   },
   "source": [
    "## 5. ตัวแปรและชนิดของตัวแปร\n",
    "\n",
    "ในภาษา Python จะมีตัวแปรประเภทต่างๆ ตังนี้\n",
    "\n",
    "* Data type\n",
    "    * Booleans\n",
    "    * Numbers\n",
    "    * Strings\n",
    "    * List\n",
    "    * Tuples\n",
    "    * Dictionaries\n",
    "    * Sets\n",
    "    "
   ]
  },
  {
   "cell_type": "markdown",
   "id": "thick-there",
   "metadata": {
    "id": "thick-there"
   },
   "source": [
    "### Boolean\n",
    "\n",
    "ใช้เก็บค่าตรรกะ"
   ]
  },
  {
   "cell_type": "code",
   "execution_count": 14,
   "id": "composed-finland",
   "metadata": {
    "id": "composed-finland"
   },
   "outputs": [],
   "source": [
    "my_bool = True\n",
    "another_bool = False"
   ]
  },
  {
   "cell_type": "markdown",
   "id": "painful-ghost",
   "metadata": {
    "id": "painful-ghost"
   },
   "source": [
    "### Number\n",
    "\n",
    "ใช้เก็บค่าตัวเลข มีสองประเภทย่อย คือ จำนวนเต็ม (Integer) และเลขทศนิยม (Floating Point)\n",
    "\n",
    "#### Integer"
   ]
  },
  {
   "cell_type": "code",
   "execution_count": 19,
   "id": "japanese-victim",
   "metadata": {
    "colab": {
     "base_uri": "https://localhost:8080/"
    },
    "id": "japanese-victim",
    "outputId": "9850fe98-11e9-4166-cb64-121ee06308c2"
   },
   "outputs": [
    {
     "name": "stdout",
     "output_type": "stream",
     "text": [
      "2.5\n"
     ]
    }
   ],
   "source": [
    "my_integer = 1\n",
    "my_float = 1.5\n",
    "ny_sum = my_integer + my_float\n",
    "print(ny_sum)"
   ]
  },
  {
   "cell_type": "markdown",
   "id": "composite-helen",
   "metadata": {
    "id": "composite-helen"
   },
   "source": [
    "#### Floating Point"
   ]
  },
  {
   "cell_type": "code",
   "execution_count": null,
   "id": "smooth-carpet",
   "metadata": {
    "id": "smooth-carpet",
    "outputId": "2053db20-8980-49b0-ae7c-cb171a34581c"
   },
   "outputs": [
    {
     "name": "stdout",
     "output_type": "stream",
     "text": [
      "1.0\n"
     ]
    }
   ],
   "source": [
    "my_float = 1.0\n",
    "print(my_float)"
   ]
  },
  {
   "cell_type": "markdown",
   "id": "alternate-anderson",
   "metadata": {
    "id": "alternate-anderson"
   },
   "source": [
    "#### String\n",
    "\n",
    "ไว้เก็บข้อความ"
   ]
  },
  {
   "cell_type": "code",
   "execution_count": null,
   "id": "simple-slope",
   "metadata": {
    "id": "simple-slope",
    "outputId": "59cb249e-02b3-4deb-caaf-3df44160bf81"
   },
   "outputs": [
    {
     "name": "stdout",
     "output_type": "stream",
     "text": [
      "Hello 1\n"
     ]
    }
   ],
   "source": [
    "my_string = \"Hello 1\"\n",
    "print(my_string)"
   ]
  },
  {
   "cell_type": "code",
   "execution_count": null,
   "id": "painted-vienna",
   "metadata": {
    "id": "painted-vienna",
    "outputId": "b61da135-8c89-411d-ea53-04a16b4c3e7d"
   },
   "outputs": [
    {
     "name": "stdout",
     "output_type": "stream",
     "text": [
      "Hello 1\n"
     ]
    }
   ],
   "source": [
    "my_string = 'Hello 1'\n",
    "print(my_string)"
   ]
  },
  {
   "cell_type": "code",
   "execution_count": 21,
   "id": "invalid-mortgage",
   "metadata": {
    "colab": {
     "base_uri": "https://localhost:8080/"
    },
    "id": "invalid-mortgage",
    "outputId": "f7ff9bd2-3a32-4607-ec9a-b8249a6a6901"
   },
   "outputs": [
    {
     "name": "stdout",
     "output_type": "stream",
     "text": [
      "There's a lot of hot pot.\n"
     ]
    }
   ],
   "source": [
    "multiple_quotes = \"There's a lot of hot pot.\"\n",
    "print(multiple_quotes)"
   ]
  },
  {
   "cell_type": "code",
   "execution_count": 27,
   "id": "M1e7341Huuj3",
   "metadata": {
    "colab": {
     "base_uri": "https://localhost:8080/"
    },
    "id": "M1e7341Huuj3",
    "outputId": "8e1ef568-01dd-49c1-893c-6a4c357817ea"
   },
   "outputs": [
    {
     "name": "stdout",
     "output_type": "stream",
     "text": [
      "aaa \n",
      "bbb \n",
      "ccc \n",
      "ddd \n",
      "ccc \n",
      "ccc\n"
     ]
    }
   ],
   "source": [
    "muti_text = \"aaa \\nbbb \\nccc \\nddd \\nccc \\nccc\"\n",
    "print(muti_text)"
   ]
  },
  {
   "cell_type": "code",
   "execution_count": 26,
   "id": "through-strengthening",
   "metadata": {
    "colab": {
     "base_uri": "https://localhost:8080/"
    },
    "id": "through-strengthening",
    "outputId": "1fab8678-1603-4d0a-a6ab-eb5220df9724"
   },
   "outputs": [
    {
     "name": "stdout",
     "output_type": "stream",
     "text": [
      "\n",
      "You can write multiple lines,\n",
      "without joining :D\n",
      "\n"
     ]
    }
   ],
   "source": [
    "doc_string = '''\n",
    "You can write multiple lines,\n",
    "without joining :D\n",
    "'''\n",
    "print(doc_string)"
   ]
  },
  {
   "cell_type": "markdown",
   "id": "divided-tobago",
   "metadata": {
    "id": "divided-tobago"
   },
   "source": [
    "#### List\n",
    "\n",
    "มีไว้เก็บชุดของข้อมูลแบบเรียงลำดับ และมีขนาดแบบ dynamic ต่างจาก array ของภาษา C"
   ]
  },
  {
   "cell_type": "code",
   "execution_count": 67,
   "id": "spatial-hormone",
   "metadata": {
    "colab": {
     "base_uri": "https://localhost:8080/"
    },
    "id": "spatial-hormone",
    "outputId": "02c929e3-a0f6-475a-e627-18a77b975f4b"
   },
   "outputs": [
    {
     "name": "stdout",
     "output_type": "stream",
     "text": [
      "[1, 3, 2, 'a']\n",
      "a\n"
     ]
    }
   ],
   "source": [
    "my_list = [1, 3, 2, \"a\"]\n",
    "\n",
    "print(my_list)\n",
    "print(my_list[3])"
   ]
  },
  {
   "cell_type": "code",
   "execution_count": 71,
   "id": "UZltzsNB1lmF",
   "metadata": {
    "colab": {
     "base_uri": "https://localhost:8080/"
    },
    "id": "UZltzsNB1lmF",
    "outputId": "e5606fb4-145d-468c-b242-4c9729303782"
   },
   "outputs": [
    {
     "data": {
      "text/plain": [
       "[1, 3, 2, 'a', 'b', 'b', 'b', 'b']"
      ]
     },
     "execution_count": 71,
     "metadata": {},
     "output_type": "execute_result"
    }
   ],
   "source": [
    "my_list.append(\"b\")\n",
    "my_list"
   ]
  },
  {
   "cell_type": "markdown",
   "id": "necessary-project",
   "metadata": {
    "id": "necessary-project"
   },
   "source": [
    "สามารถเก็บข้อมูลแบบ 2 มิติขึ้นไปได้ โดยใช้ nest list"
   ]
  },
  {
   "cell_type": "code",
   "execution_count": 39,
   "id": "guided-birmingham",
   "metadata": {
    "colab": {
     "base_uri": "https://localhost:8080/"
    },
    "id": "guided-birmingham",
    "outputId": "ca354577-68da-48e4-9c3c-3fcc743c65f6"
   },
   "outputs": [
    {
     "name": "stdout",
     "output_type": "stream",
     "text": [
      "[[1, 2, 3], [4, 5, 6]]\n"
     ]
    }
   ],
   "source": [
    "my_nested_list = [[1, 2, 3], [4, 5, 6]]\n",
    "\n",
    "print(my_nested_list)"
   ]
  },
  {
   "cell_type": "markdown",
   "id": "parallel-doubt",
   "metadata": {
    "id": "parallel-doubt"
   },
   "source": [
    "สามารถดึงข้อมูลออมาจากลิสต์ได้โดยใช้ [] subscription"
   ]
  },
  {
   "cell_type": "code",
   "execution_count": 41,
   "id": "planned-lottery",
   "metadata": {
    "colab": {
     "base_uri": "https://localhost:8080/"
    },
    "id": "planned-lottery",
    "outputId": "cae9e4ee-127a-4d00-d2dc-88c6d7bb483e"
   },
   "outputs": [
    {
     "data": {
      "text/plain": [
       "3"
      ]
     },
     "execution_count": 41,
     "metadata": {},
     "output_type": "execute_result"
    }
   ],
   "source": [
    "my_nested_list[0][2]"
   ]
  },
  {
   "cell_type": "code",
   "execution_count": 46,
   "id": "fatal-newport",
   "metadata": {
    "id": "fatal-newport"
   },
   "outputs": [],
   "source": [
    "my_nested_list[0][1] = 8"
   ]
  },
  {
   "cell_type": "code",
   "execution_count": 47,
   "id": "medium-assessment",
   "metadata": {
    "colab": {
     "base_uri": "https://localhost:8080/"
    },
    "id": "medium-assessment",
    "outputId": "e7e23128-3872-4200-b082-b81983c847ee"
   },
   "outputs": [
    {
     "data": {
      "text/plain": [
       "8"
      ]
     },
     "execution_count": 47,
     "metadata": {},
     "output_type": "execute_result"
    }
   ],
   "source": [
    "my_nested_list[0][1]"
   ]
  },
  {
   "cell_type": "markdown",
   "id": "special-booking",
   "metadata": {
    "id": "special-booking"
   },
   "source": [
    "ลิสต์สามารถเก็บข้อมูลที่มี type ต่างกันได้"
   ]
  },
  {
   "cell_type": "code",
   "execution_count": 43,
   "id": "complete-arthur",
   "metadata": {
    "id": "complete-arthur"
   },
   "outputs": [],
   "source": [
    "dynamic_type_list = [\"Hello\", \"world\", 1, True]"
   ]
  },
  {
   "cell_type": "code",
   "execution_count": 44,
   "id": "narrative-session",
   "metadata": {
    "colab": {
     "base_uri": "https://localhost:8080/"
    },
    "id": "narrative-session",
    "outputId": "060b2b15-4f02-4f4a-92fe-3a2e5d7b56d8"
   },
   "outputs": [
    {
     "data": {
      "text/plain": [
       "['Hello', 'world', 1, True]"
      ]
     },
     "execution_count": 44,
     "metadata": {},
     "output_type": "execute_result"
    }
   ],
   "source": [
    "dynamic_type_list"
   ]
  },
  {
   "cell_type": "code",
   "execution_count": 48,
   "id": "iFUARxDXxNft",
   "metadata": {
    "colab": {
     "base_uri": "https://localhost:8080/"
    },
    "id": "iFUARxDXxNft",
    "outputId": "85683a3f-a8cf-42a3-d313-6a3557cbc43f"
   },
   "outputs": [
    {
     "data": {
      "text/plain": [
       "['Hello', 'moon', 1, True]"
      ]
     },
     "execution_count": 48,
     "metadata": {},
     "output_type": "execute_result"
    }
   ],
   "source": [
    "dynamic_type_list[1]=\"moon\"\n",
    "dynamic_type_list"
   ]
  },
  {
   "cell_type": "markdown",
   "id": "excellent-regulation",
   "metadata": {
    "id": "excellent-regulation"
   },
   "source": [
    "#### Tuple"
   ]
  },
  {
   "cell_type": "markdown",
   "id": "utility-carry",
   "metadata": {
    "id": "utility-carry"
   },
   "source": [
    "Tuple เป็นการเก็บชุดข้อมูลที่ไม่สามารถแก้ไขภายหลังได้  จะคล้ายกับลิสต์แต่ไม่สามารถแก้ไขได้ (immutable)"
   ]
  },
  {
   "cell_type": "code",
   "execution_count": 5,
   "id": "assisted-federation",
   "metadata": {
    "colab": {
     "base_uri": "https://localhost:8080/"
    },
    "id": "assisted-federation",
    "outputId": "a1e2d5dd-6ada-4ee8-f389-66036b43955a"
   },
   "outputs": [
    {
     "name": "stdout",
     "output_type": "stream",
     "text": [
      "(1, 2, 3)\n"
     ]
    }
   ],
   "source": [
    "immutable_tuple = (1, 2, 3)\n",
    "print(immutable_tuple)"
   ]
  },
  {
   "cell_type": "code",
   "execution_count": 54,
   "id": "small-examination",
   "metadata": {
    "colab": {
     "base_uri": "https://localhost:8080/"
    },
    "id": "small-examination",
    "outputId": "ce0f6f4f-1e9a-41b3-a30d-92f7ff49827d"
   },
   "outputs": [
    {
     "data": {
      "text/plain": [
       "2"
      ]
     },
     "execution_count": 54,
     "metadata": {},
     "output_type": "execute_result"
    }
   ],
   "source": [
    "immutable_tuple[1]"
   ]
  },
  {
   "cell_type": "code",
   "execution_count": 55,
   "id": "bu4pOsMUyfTd",
   "metadata": {
    "id": "bu4pOsMUyfTd"
   },
   "outputs": [],
   "source": [
    "list_of_tuple = [(1,2,3),(4,5,6)]"
   ]
  },
  {
   "cell_type": "code",
   "execution_count": 57,
   "id": "v7j4CGOBy3i2",
   "metadata": {
    "id": "v7j4CGOBy3i2"
   },
   "outputs": [],
   "source": [
    "list_of_tuple[0]=(5,5,5)"
   ]
  },
  {
   "cell_type": "code",
   "execution_count": 58,
   "id": "S9ejkin5zBFt",
   "metadata": {
    "colab": {
     "base_uri": "https://localhost:8080/"
    },
    "id": "S9ejkin5zBFt",
    "outputId": "cebc6324-9bca-482e-93a0-b5532d3fa4d6"
   },
   "outputs": [
    {
     "data": {
      "text/plain": [
       "[(5, 5, 5), (4, 5, 6)]"
      ]
     },
     "execution_count": 58,
     "metadata": {},
     "output_type": "execute_result"
    }
   ],
   "source": [
    "list_of_tuple"
   ]
  },
  {
   "cell_type": "code",
   "execution_count": 51,
   "id": "deluxe-organizer",
   "metadata": {
    "colab": {
     "base_uri": "https://localhost:8080/",
     "height": 176
    },
    "id": "deluxe-organizer",
    "outputId": "1114c0cd-33a9-41be-a316-53ecd06d1de8"
   },
   "outputs": [
    {
     "ename": "TypeError",
     "evalue": "'tuple' object does not support item assignment",
     "output_type": "error",
     "traceback": [
      "\u001b[0;31m---------------------------------------------------------------------------\u001b[0m",
      "\u001b[0;31mTypeError\u001b[0m                                 Traceback (most recent call last)",
      "\u001b[0;32m<ipython-input-51-ee8f74d4b75c>\u001b[0m in \u001b[0;36m<cell line: 1>\u001b[0;34m()\u001b[0m\n\u001b[0;32m----> 1\u001b[0;31m \u001b[0mimmutable_tuple\u001b[0m\u001b[0;34m[\u001b[0m\u001b[0;36m1\u001b[0m\u001b[0;34m]\u001b[0m \u001b[0;34m=\u001b[0m \u001b[0;36m8\u001b[0m\u001b[0;34m\u001b[0m\u001b[0;34m\u001b[0m\u001b[0m\n\u001b[0m\u001b[1;32m      2\u001b[0m \u001b[0;34m\u001b[0m\u001b[0m\n\u001b[1;32m      3\u001b[0m \u001b[0;31m# จะเกิด TypeError: 'tuple' object does not support item assignment\u001b[0m\u001b[0;34m\u001b[0m\u001b[0;34m\u001b[0m\u001b[0m\n",
      "\u001b[0;31mTypeError\u001b[0m: 'tuple' object does not support item assignment"
     ]
    }
   ],
   "source": [
    "immutable_tuple[1] = 8\n",
    "\n",
    "# จะเกิด TypeError: 'tuple' object does not support item assignment"
   ]
  },
  {
   "cell_type": "markdown",
   "id": "collect-mouse",
   "metadata": {
    "id": "collect-mouse"
   },
   "source": [
    "#### Dictionary\n",
    "\n",
    "เป็นการเก็บข้อมูลแบบ key:value mapping\n",
    "\n",
    "ปกติลิสต์จะต้อง index ด้วยเลขจำนวนเต็ม แต่ dict สามารถ index ได้ด้วย key ที่เป็นอะไรก็ได้"
   ]
  },
  {
   "cell_type": "code",
   "execution_count": 59,
   "id": "painted-samuel",
   "metadata": {
    "colab": {
     "base_uri": "https://localhost:8080/"
    },
    "id": "painted-samuel",
    "outputId": "21202357-6c02-4a82-b029-5d4ba2dff6cc"
   },
   "outputs": [
    {
     "name": "stdout",
     "output_type": "stream",
     "text": [
      "value of key\n"
     ]
    }
   ],
   "source": [
    "my_dictionary = { \"my_key\": \"value of key\"}\n",
    "\n",
    "print(my_dictionary[\"my_key\"])"
   ]
  },
  {
   "cell_type": "code",
   "execution_count": 62,
   "id": "valid-necklace",
   "metadata": {
    "colab": {
     "base_uri": "https://localhost:8080/"
    },
    "id": "valid-necklace",
    "outputId": "3cc4a6df-2b2e-46f1-dd75-47d0f20e66c3"
   },
   "outputs": [
    {
     "name": "stdout",
     "output_type": "stream",
     "text": [
      "2\n"
     ]
    }
   ],
   "source": [
    "my_dictionary = { \"k1\": 1, \"k2\": 2, \"k3\": 3}\n",
    "\n",
    "print(my_dictionary[\"k2\"])"
   ]
  },
  {
   "cell_type": "code",
   "execution_count": 63,
   "id": "alike-modem",
   "metadata": {
    "id": "alike-modem"
   },
   "outputs": [],
   "source": [
    "my_dictionary = {\n",
    "    \"key1\": \"\",\n",
    "    \"key2\": \"This is good practice.\"\n",
    "}"
   ]
  },
  {
   "cell_type": "code",
   "execution_count": 65,
   "id": "hXorAexG0VoT",
   "metadata": {
    "colab": {
     "base_uri": "https://localhost:8080/"
    },
    "id": "hXorAexG0VoT",
    "outputId": "1812aff6-4198-42b1-b2bc-8289ada3dfdf"
   },
   "outputs": [
    {
     "data": {
      "text/plain": [
       "dict_keys(['key1', 'key2'])"
      ]
     },
     "execution_count": 65,
     "metadata": {},
     "output_type": "execute_result"
    }
   ],
   "source": [
    "my_dictionary.keys()"
   ]
  },
  {
   "cell_type": "code",
   "execution_count": 66,
   "id": "zLAcOCJn0pcv",
   "metadata": {
    "colab": {
     "base_uri": "https://localhost:8080/"
    },
    "id": "zLAcOCJn0pcv",
    "outputId": "59a0f7eb-f83b-41a2-8c62-57ed202bc48e"
   },
   "outputs": [
    {
     "data": {
      "text/plain": [
       "dict_values(['', 'This is good practice.'])"
      ]
     },
     "execution_count": 66,
     "metadata": {},
     "output_type": "execute_result"
    }
   ],
   "source": [
    "my_dictionary.values()"
   ]
  },
  {
   "cell_type": "code",
   "execution_count": null,
   "id": "lHUatuYe0thF",
   "metadata": {
    "id": "lHUatuYe0thF"
   },
   "outputs": [],
   "source": []
  },
  {
   "cell_type": "markdown",
   "id": "smart-harvey",
   "metadata": {
    "id": "smart-harvey"
   },
   "source": [
    "#### Set\n",
    "\n",
    "set เป็นการเก็บชุดข้อมูลแบบไม่เรียงลำดับและแต่ละ element จะ unique ไม่ซ้ำกัน"
   ]
  },
  {
   "cell_type": "code",
   "execution_count": null,
   "id": "lightweight-newsletter",
   "metadata": {
    "id": "lightweight-newsletter"
   },
   "outputs": [],
   "source": [
    "my_set = {1, 2, 3, 4}"
   ]
  },
  {
   "cell_type": "code",
   "execution_count": null,
   "id": "assumed-arrest",
   "metadata": {
    "id": "assumed-arrest",
    "outputId": "5c9f0a87-56ca-44f5-d465-ff41b8c7c3ce"
   },
   "outputs": [
    {
     "data": {
      "text/plain": [
       "{1, 2, 3, 4}"
      ]
     },
     "execution_count": 28,
     "metadata": {},
     "output_type": "execute_result"
    }
   ],
   "source": [
    "my_set"
   ]
  },
  {
   "cell_type": "code",
   "execution_count": null,
   "id": "bridal-correlation",
   "metadata": {
    "id": "bridal-correlation"
   },
   "outputs": [],
   "source": [
    "my_set.add(5)"
   ]
  },
  {
   "cell_type": "code",
   "execution_count": null,
   "id": "composed-desperate",
   "metadata": {
    "id": "composed-desperate",
    "outputId": "1c243aaf-9e76-4c7f-b428-523044cd3dfd"
   },
   "outputs": [
    {
     "data": {
      "text/plain": [
       "{1, 2, 3, 4, 5}"
      ]
     },
     "execution_count": 30,
     "metadata": {},
     "output_type": "execute_result"
    }
   ],
   "source": [
    "my_set"
   ]
  },
  {
   "cell_type": "code",
   "execution_count": null,
   "id": "narrow-slovak",
   "metadata": {
    "id": "narrow-slovak"
   },
   "outputs": [],
   "source": [
    "my_set.add(4)"
   ]
  },
  {
   "cell_type": "code",
   "execution_count": null,
   "id": "public-surrey",
   "metadata": {
    "id": "public-surrey",
    "outputId": "e16b328c-b012-4b51-d420-6132bdcd59c7"
   },
   "outputs": [
    {
     "data": {
      "text/plain": [
       "{1, 2, 3, 4, 5}"
      ]
     },
     "execution_count": 32,
     "metadata": {},
     "output_type": "execute_result"
    }
   ],
   "source": [
    "my_set"
   ]
  },
  {
   "cell_type": "markdown",
   "id": "lyric-assembly",
   "metadata": {
    "id": "lyric-assembly"
   },
   "source": [
    "## 6. Operators ต่างๆ ใน Python\n",
    "\n",
    "Numerical Operator\n",
    "```python\n",
    "**\n",
    "*, /, //, %\n",
    "+, -\n",
    "```\n",
    "\n",
    "Logical Operator\n",
    "```python\n",
    "and, or, ^\n",
    "```\n",
    "\n",
    "```python\n",
    "==, !=, is\n",
    "```\n",
    "\n",
    "Ampersand and  Pipe Operator\n",
    "\n",
    "```python\n",
    "&, |\n",
    "```\n",
    "\n",
    "Binary Operator\n",
    "```python\n",
    "< << > >>\n",
    "```\n",
    "\n",
    "String Operator\n",
    "```python\n",
    "+             # concat operator\n",
    ".join()       # concat method\n",
    "[]            # indexing\n",
    "```\n",
    "\n",
    "List Operator\n",
    "```python\n",
    "[i]            # indexing\n",
    "[0:1:N]         # slicing\n",
    "```"
   ]
  },
  {
   "cell_type": "markdown",
   "id": "rolled-sequence",
   "metadata": {
    "id": "rolled-sequence"
   },
   "source": [
    "### Numerical Operator"
   ]
  },
  {
   "cell_type": "code",
   "execution_count": 5,
   "id": "traditional-opinion",
   "metadata": {
    "id": "traditional-opinion"
   },
   "outputs": [],
   "source": [
    "a = 5\n",
    "b = 3"
   ]
  },
  {
   "cell_type": "code",
   "execution_count": 7,
   "id": "complete-painting",
   "metadata": {
    "id": "complete-painting",
    "outputId": "49ec1cc7-8755-4cad-926b-199b7c80c10a"
   },
   "outputs": [
    {
     "data": {
      "text/plain": [
       "8"
      ]
     },
     "execution_count": 7,
     "metadata": {},
     "output_type": "execute_result"
    }
   ],
   "source": [
    "a + b"
   ]
  },
  {
   "cell_type": "code",
   "execution_count": 9,
   "id": "mental-popularity",
   "metadata": {
    "id": "mental-popularity",
    "outputId": "9301b1f0-f174-48d7-c41d-a8c6ea290806"
   },
   "outputs": [
    {
     "data": {
      "text/plain": [
       "15"
      ]
     },
     "execution_count": 9,
     "metadata": {},
     "output_type": "execute_result"
    }
   ],
   "source": [
    "a * b"
   ]
  },
  {
   "cell_type": "code",
   "execution_count": 11,
   "id": "satellite-drain",
   "metadata": {
    "id": "satellite-drain",
    "outputId": "92714f73-b3de-4508-e4e7-ba2184154460",
    "scrolled": true
   },
   "outputs": [
    {
     "data": {
      "text/plain": [
       "1.6666666666666667"
      ]
     },
     "execution_count": 11,
     "metadata": {},
     "output_type": "execute_result"
    }
   ],
   "source": [
    "a / b"
   ]
  },
  {
   "cell_type": "code",
   "execution_count": 13,
   "id": "3510d988-eb7d-4977-91e4-3f086f000ff0",
   "metadata": {},
   "outputs": [
    {
     "data": {
      "text/plain": [
       "1"
      ]
     },
     "execution_count": 13,
     "metadata": {},
     "output_type": "execute_result"
    }
   ],
   "source": [
    "a // b"
   ]
  },
  {
   "cell_type": "markdown",
   "id": "christian-windows",
   "metadata": {
    "id": "christian-windows"
   },
   "source": [
    "หารปัดเศษ (ปัดลงเหมือน int / int )"
   ]
  },
  {
   "cell_type": "code",
   "execution_count": null,
   "id": "baking-edmonton",
   "metadata": {
    "id": "baking-edmonton",
    "outputId": "3e822f63-4974-4ea4-b939-8ed3ec69595c"
   },
   "outputs": [
    {
     "data": {
      "text/plain": [
       "1"
      ]
     },
     "execution_count": 37,
     "metadata": {},
     "output_type": "execute_result"
    }
   ],
   "source": [
    "a // b"
   ]
  },
  {
   "cell_type": "markdown",
   "id": "wrapped-corporation",
   "metadata": {
    "id": "wrapped-corporation"
   },
   "source": [
    "หารเอาเศษ (modulus)"
   ]
  },
  {
   "cell_type": "code",
   "execution_count": 15,
   "id": "recovered-silicon",
   "metadata": {
    "id": "recovered-silicon",
    "outputId": "52d89ace-25f3-4f0f-d43c-94bfe437723c"
   },
   "outputs": [
    {
     "data": {
      "text/plain": [
       "2"
      ]
     },
     "execution_count": 15,
     "metadata": {},
     "output_type": "execute_result"
    }
   ],
   "source": [
    "a % b"
   ]
  },
  {
   "cell_type": "markdown",
   "id": "prime-special",
   "metadata": {
    "id": "prime-special"
   },
   "source": [
    "ยกกำลัง"
   ]
  },
  {
   "cell_type": "code",
   "execution_count": 17,
   "id": "fleet-failure",
   "metadata": {
    "id": "fleet-failure",
    "outputId": "8a64bd12-5fc5-4e71-b7f7-de9381c7f137"
   },
   "outputs": [
    {
     "data": {
      "text/plain": [
       "125"
      ]
     },
     "execution_count": 17,
     "metadata": {},
     "output_type": "execute_result"
    }
   ],
   "source": [
    "a ** b"
   ]
  },
  {
   "cell_type": "markdown",
   "id": "assumed-cylinder",
   "metadata": {
    "id": "assumed-cylinder"
   },
   "source": [
    "### Logical Operator"
   ]
  },
  {
   "cell_type": "code",
   "execution_count": 19,
   "id": "subjective-jonathan",
   "metadata": {
    "id": "subjective-jonathan"
   },
   "outputs": [],
   "source": [
    "T = True\n",
    "F = False"
   ]
  },
  {
   "cell_type": "code",
   "execution_count": 21,
   "id": "passive-homework",
   "metadata": {
    "id": "passive-homework",
    "outputId": "67378b10-1b9a-46e2-9761-a80f35ae0a70"
   },
   "outputs": [
    {
     "data": {
      "text/plain": [
       "True"
      ]
     },
     "execution_count": 21,
     "metadata": {},
     "output_type": "execute_result"
    }
   ],
   "source": [
    "T and T"
   ]
  },
  {
   "cell_type": "code",
   "execution_count": 23,
   "id": "declared-honey",
   "metadata": {
    "id": "declared-honey",
    "outputId": "9ea9867b-3003-4196-f1e3-833cd38ccb57"
   },
   "outputs": [
    {
     "data": {
      "text/plain": [
       "False"
      ]
     },
     "execution_count": 23,
     "metadata": {},
     "output_type": "execute_result"
    }
   ],
   "source": [
    "T and F"
   ]
  },
  {
   "cell_type": "code",
   "execution_count": 25,
   "id": "authorized-devon",
   "metadata": {
    "id": "authorized-devon",
    "outputId": "8eb51827-9ffe-4eef-d11c-6f0030234389"
   },
   "outputs": [
    {
     "data": {
      "text/plain": [
       "True"
      ]
     },
     "execution_count": 25,
     "metadata": {},
     "output_type": "execute_result"
    }
   ],
   "source": [
    "T or F"
   ]
  },
  {
   "cell_type": "markdown",
   "id": "hearing-detroit",
   "metadata": {
    "id": "hearing-detroit"
   },
   "source": [
    "XOR คือ ผลลัพท์จะเป็นจริง เมื่อเงื่อนไขไม่เหมือนกัน"
   ]
  },
  {
   "cell_type": "code",
   "execution_count": 27,
   "id": "burning-european",
   "metadata": {
    "id": "burning-european",
    "outputId": "a39ff14c-17a7-4909-8415-d92cdd1c8e5e",
    "scrolled": true
   },
   "outputs": [
    {
     "data": {
      "text/plain": [
       "True"
      ]
     },
     "execution_count": 27,
     "metadata": {},
     "output_type": "execute_result"
    }
   ],
   "source": [
    "T ^ F"
   ]
  },
  {
   "cell_type": "code",
   "execution_count": 29,
   "id": "novel-spine",
   "metadata": {
    "id": "novel-spine",
    "outputId": "180b5ea0-41aa-4622-a372-7c3608fc0b0c"
   },
   "outputs": [
    {
     "data": {
      "text/plain": [
       "False"
      ]
     },
     "execution_count": 29,
     "metadata": {},
     "output_type": "execute_result"
    }
   ],
   "source": [
    "T ^ T"
   ]
  },
  {
   "cell_type": "markdown",
   "id": "detected-satellite",
   "metadata": {
    "id": "detected-satellite"
   },
   "source": [
    "ตรวจสอบด้วย ==, !="
   ]
  },
  {
   "cell_type": "code",
   "execution_count": 31,
   "id": "apart-works",
   "metadata": {
    "id": "apart-works",
    "outputId": "55eec686-ecf3-45a0-cb5f-b62aae75d198"
   },
   "outputs": [
    {
     "data": {
      "text/plain": [
       "True"
      ]
     },
     "execution_count": 31,
     "metadata": {},
     "output_type": "execute_result"
    }
   ],
   "source": [
    "T == True"
   ]
  },
  {
   "cell_type": "code",
   "execution_count": 33,
   "id": "cutting-rating",
   "metadata": {
    "id": "cutting-rating",
    "outputId": "2cb4c083-9dd6-4194-d340-fee798c7a264"
   },
   "outputs": [
    {
     "data": {
      "text/plain": [
       "False"
      ]
     },
     "execution_count": 33,
     "metadata": {},
     "output_type": "execute_result"
    }
   ],
   "source": [
    "T != True"
   ]
  },
  {
   "cell_type": "code",
   "execution_count": 35,
   "id": "restricted-spyware",
   "metadata": {
    "id": "restricted-spyware",
    "outputId": "78f9a21f-ad4e-433c-cd48-bb5da5cffc1d"
   },
   "outputs": [
    {
     "data": {
      "text/plain": [
       "True"
      ]
     },
     "execution_count": 35,
     "metadata": {},
     "output_type": "execute_result"
    }
   ],
   "source": [
    "6 == 3*2"
   ]
  },
  {
   "cell_type": "code",
   "execution_count": 37,
   "id": "contemporary-bumper",
   "metadata": {
    "id": "contemporary-bumper",
    "outputId": "7820eb56-3a94-487b-989d-431ec6778085"
   },
   "outputs": [
    {
     "data": {
      "text/plain": [
       "False"
      ]
     },
     "execution_count": 37,
     "metadata": {},
     "output_type": "execute_result"
    }
   ],
   "source": [
    "8 != 4*2"
   ]
  },
  {
   "cell_type": "markdown",
   "id": "applicable-thirty",
   "metadata": {
    "id": "applicable-thirty"
   },
   "source": [
    "Python สามารถตรวจสอบลิสต์ได้ด้วย"
   ]
  },
  {
   "cell_type": "code",
   "execution_count": 39,
   "id": "progressive-strand",
   "metadata": {
    "id": "progressive-strand"
   },
   "outputs": [],
   "source": [
    "T1 = [1, 2, 3, 4]\n",
    "T2 = [1, 2, 3, 4]\n"
   ]
  },
  {
   "cell_type": "code",
   "execution_count": 41,
   "id": "institutional-basement",
   "metadata": {
    "id": "institutional-basement",
    "outputId": "faf56eaf-8605-4818-ff5b-bf8810069fa3"
   },
   "outputs": [
    {
     "data": {
      "text/plain": [
       "True"
      ]
     },
     "execution_count": 41,
     "metadata": {},
     "output_type": "execute_result"
    }
   ],
   "source": [
    "T1 == T2"
   ]
  },
  {
   "cell_type": "code",
   "execution_count": 43,
   "id": "ceramic-exception",
   "metadata": {
    "id": "ceramic-exception",
    "outputId": "61b4af76-0e02-40d0-8a19-b57c2e22637c"
   },
   "outputs": [
    {
     "data": {
      "text/plain": [
       "False"
      ]
     },
     "execution_count": 43,
     "metadata": {},
     "output_type": "execute_result"
    }
   ],
   "source": [
    "T1 is T2"
   ]
  },
  {
   "cell_type": "code",
   "execution_count": 45,
   "id": "latter-commons",
   "metadata": {
    "id": "latter-commons",
    "outputId": "29e9fb24-ee33-440d-fd24-ae2f92ccb0d6"
   },
   "outputs": [
    {
     "data": {
      "text/plain": [
       "True"
      ]
     },
     "execution_count": 45,
     "metadata": {},
     "output_type": "execute_result"
    }
   ],
   "source": [
    "T1 is T1"
   ]
  },
  {
   "cell_type": "markdown",
   "id": "confirmed-calibration",
   "metadata": {
    "id": "confirmed-calibration"
   },
   "source": [
    "### Ampersand and Pipe Operator\n",
    "\n",
    "```python\n",
    "&   # ampersand\n",
    "|   # pipe\n",
    "```\n",
    "Operator ทั้งสองจะทำงานอย่างไรขึ้นอยู่กับ type ของข้อมูล\n",
    "\n",
    "ลองกำหนดเงื่อนไข และใช้ &, | กับข้อมูลชนิด boolean"
   ]
  },
  {
   "cell_type": "code",
   "execution_count": 65,
   "id": "offshore-heather",
   "metadata": {
    "id": "offshore-heather"
   },
   "outputs": [],
   "source": [
    "condition1 = True\n",
    "condition2 = None"
   ]
  },
  {
   "cell_type": "code",
   "execution_count": 67,
   "id": "bored-publicity",
   "metadata": {
    "id": "bored-publicity",
    "outputId": "a1e318cc-e5f9-4922-b796-7552d68a3176"
   },
   "outputs": [
    {
     "name": "stdout",
     "output_type": "stream",
     "text": [
      "It's false !\n"
     ]
    }
   ],
   "source": [
    "if condition1 and condition2:\n",
    "    print(\"It's true !\")\n",
    "else:\n",
    "    print(\"It's false !\")\n"
   ]
  },
  {
   "cell_type": "markdown",
   "id": "located-brunswick",
   "metadata": {
    "id": "located-brunswick"
   },
   "source": [
    "และถ้าลองไม่กำหนด condition3"
   ]
  },
  {
   "cell_type": "code",
   "execution_count": 69,
   "id": "bearing-financing",
   "metadata": {
    "id": "bearing-financing",
    "outputId": "9d21fe76-df5b-46e1-d606-a15c752cc0d0"
   },
   "outputs": [
    {
     "ename": "NameError",
     "evalue": "name 'condition3' is not defined",
     "output_type": "error",
     "traceback": [
      "\u001b[1;31m---------------------------------------------------------------------------\u001b[0m",
      "\u001b[1;31mNameError\u001b[0m                                 Traceback (most recent call last)",
      "Cell \u001b[1;32mIn[69], line 1\u001b[0m\n\u001b[1;32m----> 1\u001b[0m \u001b[38;5;28mprint\u001b[39m(condition3)\n",
      "\u001b[1;31mNameError\u001b[0m: name 'condition3' is not defined"
     ]
    }
   ],
   "source": [
    "print(condition3)"
   ]
  },
  {
   "cell_type": "markdown",
   "id": "greater-twins",
   "metadata": {
    "id": "greater-twins"
   },
   "source": [
    "ถ้าใช้ or เลยจะทำให้เงื่อนไขเป็นจริงทันทีที่ condition1 และไม่ตรวจ condition3 (ซึ่งโปรแกรมยังไม่รู้ว่าเป็นอะไรเลย)"
   ]
  },
  {
   "cell_type": "code",
   "execution_count": 71,
   "id": "inner-local",
   "metadata": {
    "id": "inner-local",
    "outputId": "100b5fe0-d96f-462e-900c-8f57b0f96998"
   },
   "outputs": [
    {
     "name": "stdout",
     "output_type": "stream",
     "text": [
      "It's true !\n"
     ]
    }
   ],
   "source": [
    "if condition1 or condition3:\n",
    "    print(\"It's true !\")\n",
    "else:\n",
    "    print(\"It's false !\")\n"
   ]
  },
  {
   "cell_type": "markdown",
   "id": "synthetic-kernel",
   "metadata": {
    "id": "synthetic-kernel"
   },
   "source": [
    "ถ้าใช้ and โปรแกรมจะทำการทดสอบเงื่อนไขจนกว่าจะเจอ False หรือ error"
   ]
  },
  {
   "cell_type": "code",
   "execution_count": 75,
   "id": "alike-large",
   "metadata": {
    "id": "alike-large",
    "outputId": "d766a981-94a6-4b6f-e648-2aba1af0c458",
    "scrolled": true
   },
   "outputs": [
    {
     "name": "stdout",
     "output_type": "stream",
     "text": [
      "It's false !\n"
     ]
    }
   ],
   "source": [
    "if condition1 and False and condition3:\n",
    "    print(\"It's true !\")\n",
    "else:\n",
    "    print(\"It's false !\")"
   ]
  },
  {
   "cell_type": "code",
   "execution_count": 77,
   "id": "aging-buying",
   "metadata": {
    "id": "aging-buying",
    "outputId": "e4eb559a-5740-4d44-c0ad-dc4bab39929e"
   },
   "outputs": [
    {
     "ename": "NameError",
     "evalue": "name 'condition3' is not defined",
     "output_type": "error",
     "traceback": [
      "\u001b[1;31m---------------------------------------------------------------------------\u001b[0m",
      "\u001b[1;31mNameError\u001b[0m                                 Traceback (most recent call last)",
      "Cell \u001b[1;32mIn[77], line 1\u001b[0m\n\u001b[1;32m----> 1\u001b[0m \u001b[38;5;28;01mif\u001b[39;00m condition1 \u001b[38;5;129;01mand\u001b[39;00m condition3 \u001b[38;5;129;01mand\u001b[39;00m \u001b[38;5;28;01mFalse\u001b[39;00m:\n\u001b[0;32m      2\u001b[0m     \u001b[38;5;28mprint\u001b[39m(\u001b[38;5;124m\"\u001b[39m\u001b[38;5;124mIt\u001b[39m\u001b[38;5;124m'\u001b[39m\u001b[38;5;124ms true !\u001b[39m\u001b[38;5;124m\"\u001b[39m)\n\u001b[0;32m      3\u001b[0m \u001b[38;5;28;01melse\u001b[39;00m:\n",
      "\u001b[1;31mNameError\u001b[0m: name 'condition3' is not defined"
     ]
    }
   ],
   "source": [
    "if condition1 and condition3 and False:\n",
    "    print(\"It's true !\")\n",
    "else:\n",
    "    print(\"It's false !\")"
   ]
  },
  {
   "cell_type": "markdown",
   "id": "piano-terrace",
   "metadata": {
    "id": "piano-terrace"
   },
   "source": [
    "ลำดับในการวาง condition จึงมีส่วนสำคัญ"
   ]
  },
  {
   "cell_type": "code",
   "execution_count": 79,
   "id": "brazilian-samoa",
   "metadata": {
    "id": "brazilian-samoa",
    "outputId": "31860a64-d3b7-4d43-b407-acebbdeea1f6"
   },
   "outputs": [
    {
     "name": "stdout",
     "output_type": "stream",
     "text": [
      "It's false !\n"
     ]
    }
   ],
   "source": [
    "if condition2 and condition3:\n",
    "    print(\"It's true !\")\n",
    "else:\n",
    "    print(\"It's false !\")\n"
   ]
  },
  {
   "cell_type": "code",
   "execution_count": 81,
   "id": "controversial-holder",
   "metadata": {
    "id": "controversial-holder",
    "outputId": "768c0898-28de-4a04-a93e-2cae59fcc1a1"
   },
   "outputs": [
    {
     "ename": "NameError",
     "evalue": "name 'condition3' is not defined",
     "output_type": "error",
     "traceback": [
      "\u001b[1;31m---------------------------------------------------------------------------\u001b[0m",
      "\u001b[1;31mNameError\u001b[0m                                 Traceback (most recent call last)",
      "Cell \u001b[1;32mIn[81], line 1\u001b[0m\n\u001b[1;32m----> 1\u001b[0m \u001b[38;5;28;01mif\u001b[39;00m condition3 \u001b[38;5;129;01mand\u001b[39;00m condition2:\n\u001b[0;32m      2\u001b[0m     \u001b[38;5;28mprint\u001b[39m(\u001b[38;5;124m\"\u001b[39m\u001b[38;5;124mIt\u001b[39m\u001b[38;5;124m'\u001b[39m\u001b[38;5;124ms true !\u001b[39m\u001b[38;5;124m\"\u001b[39m)\n\u001b[0;32m      3\u001b[0m \u001b[38;5;28;01melse\u001b[39;00m:\n",
      "\u001b[1;31mNameError\u001b[0m: name 'condition3' is not defined"
     ]
    }
   ],
   "source": [
    "if condition3 and condition2:\n",
    "    print(\"It's true !\")\n",
    "else:\n",
    "    print(\"It's false !\")\n"
   ]
  },
  {
   "cell_type": "markdown",
   "id": "defensive-processing",
   "metadata": {
    "id": "defensive-processing"
   },
   "source": [
    "ไม่งั้นจะเกิดเคสแบบนี้"
   ]
  },
  {
   "cell_type": "code",
   "execution_count": 83,
   "id": "reliable-broadcasting",
   "metadata": {
    "id": "reliable-broadcasting",
    "outputId": "eb1d5711-25c3-46b8-c36e-3d169986e23f"
   },
   "outputs": [
    {
     "data": {
      "text/plain": [
       "False"
      ]
     },
     "execution_count": 83,
     "metadata": {},
     "output_type": "execute_result"
    }
   ],
   "source": [
    "(condition2 and condition1 and True)  ==  True"
   ]
  },
  {
   "cell_type": "code",
   "execution_count": null,
   "id": "compliant-service",
   "metadata": {
    "id": "compliant-service",
    "outputId": "7a274e14-8303-4a4c-bc4a-d55529834b0a"
   },
   "outputs": [
    {
     "data": {
      "text/plain": [
       "False"
      ]
     },
     "execution_count": 63,
     "metadata": {},
     "output_type": "execute_result"
    }
   ],
   "source": [
    "(condition2 and condition1 and True)  ==  False"
   ]
  },
  {
   "cell_type": "markdown",
   "id": "inner-detector",
   "metadata": {
    "id": "inner-detector"
   },
   "source": [
    "ถ้าใช้ &, | จะตรวจสอบทุก condition"
   ]
  },
  {
   "cell_type": "code",
   "execution_count": 85,
   "id": "transsexual-attribute",
   "metadata": {
    "id": "transsexual-attribute",
    "outputId": "775a520c-5519-4364-b411-ae8486d3b108"
   },
   "outputs": [
    {
     "ename": "TypeError",
     "evalue": "unsupported operand type(s) for |: 'bool' and 'NoneType'",
     "output_type": "error",
     "traceback": [
      "\u001b[1;31m---------------------------------------------------------------------------\u001b[0m",
      "\u001b[1;31mTypeError\u001b[0m                                 Traceback (most recent call last)",
      "Cell \u001b[1;32mIn[85], line 1\u001b[0m\n\u001b[1;32m----> 1\u001b[0m \u001b[38;5;28;01mif\u001b[39;00m condition1 \u001b[38;5;241m|\u001b[39m condition2:\n\u001b[0;32m      2\u001b[0m     \u001b[38;5;28mprint\u001b[39m(\u001b[38;5;124m\"\u001b[39m\u001b[38;5;124mIt\u001b[39m\u001b[38;5;124m'\u001b[39m\u001b[38;5;124ms true !\u001b[39m\u001b[38;5;124m\"\u001b[39m)\n\u001b[0;32m      3\u001b[0m \u001b[38;5;28;01melse\u001b[39;00m:\n",
      "\u001b[1;31mTypeError\u001b[0m: unsupported operand type(s) for |: 'bool' and 'NoneType'"
     ]
    }
   ],
   "source": [
    "if condition1 | condition2:\n",
    "    print(\"It's true !\")\n",
    "else:\n",
    "    print(\"It's false !\")\n"
   ]
  },
  {
   "cell_type": "code",
   "execution_count": null,
   "id": "satisfied-bronze",
   "metadata": {
    "id": "satisfied-bronze",
    "outputId": "f2987e60-fcb0-44a3-dd97-498537cb4c25"
   },
   "outputs": [
    {
     "ename": "NameError",
     "evalue": "name 'condition3' is not defined",
     "output_type": "error",
     "traceback": [
      "\u001b[0;31m---------------------------------------------------------------------------\u001b[0m",
      "\u001b[0;31mNameError\u001b[0m                                 Traceback (most recent call last)",
      "Cell \u001b[0;32mIn[65], line 1\u001b[0m\n\u001b[0;32m----> 1\u001b[0m \u001b[38;5;28;01mif\u001b[39;00m condition1 \u001b[38;5;241m|\u001b[39m \u001b[43mcondition3\u001b[49m:\n\u001b[1;32m      2\u001b[0m     \u001b[38;5;28mprint\u001b[39m(\u001b[38;5;124m\"\u001b[39m\u001b[38;5;124mIt\u001b[39m\u001b[38;5;124m'\u001b[39m\u001b[38;5;124ms true !\u001b[39m\u001b[38;5;124m\"\u001b[39m)\n\u001b[1;32m      3\u001b[0m \u001b[38;5;28;01melse\u001b[39;00m:\n",
      "\u001b[0;31mNameError\u001b[0m: name 'condition3' is not defined"
     ]
    }
   ],
   "source": [
    "if condition1 | condition3:\n",
    "    print(\"It's true !\")\n",
    "else:\n",
    "    print(\"It's false !\")\n"
   ]
  },
  {
   "cell_type": "markdown",
   "id": "previous-aspect",
   "metadata": {
    "id": "previous-aspect"
   },
   "source": [
    "และป้องกันความผิดพลาดที่เกิดจากตัวแปรต่างชนิดกัน"
   ]
  },
  {
   "cell_type": "code",
   "execution_count": null,
   "id": "saving-sympathy",
   "metadata": {
    "id": "saving-sympathy"
   },
   "outputs": [],
   "source": [
    "condition4 = \"false\""
   ]
  },
  {
   "cell_type": "code",
   "execution_count": null,
   "id": "alive-shelter",
   "metadata": {
    "id": "alive-shelter",
    "outputId": "e121f754-733f-4594-8664-2fccce6358a6"
   },
   "outputs": [
    {
     "name": "stdout",
     "output_type": "stream",
     "text": [
      "It's true !\n"
     ]
    }
   ],
   "source": [
    "if True and condition4:\n",
    "    print(\"It's true !\")\n",
    "else:\n",
    "    print(\"It's false !\")\n"
   ]
  },
  {
   "cell_type": "code",
   "execution_count": null,
   "id": "amateur-heater",
   "metadata": {
    "id": "amateur-heater",
    "outputId": "79836d04-5e57-4cb8-e0cd-1bbd8b5a9dd0"
   },
   "outputs": [
    {
     "ename": "TypeError",
     "evalue": "unsupported operand type(s) for &: 'bool' and 'str'",
     "output_type": "error",
     "traceback": [
      "\u001b[0;31m---------------------------------------------------------------------------\u001b[0m",
      "\u001b[0;31mTypeError\u001b[0m                                 Traceback (most recent call last)",
      "Cell \u001b[0;32mIn[68], line 1\u001b[0m\n\u001b[0;32m----> 1\u001b[0m \u001b[38;5;28;01mif\u001b[39;00m \u001b[38;5;28;43;01mTrue\u001b[39;49;00m\u001b[43m \u001b[49m\u001b[38;5;241;43m&\u001b[39;49m\u001b[43m \u001b[49m\u001b[43mcondition4\u001b[49m:\n\u001b[1;32m      2\u001b[0m     \u001b[38;5;28mprint\u001b[39m(\u001b[38;5;124m\"\u001b[39m\u001b[38;5;124mIt\u001b[39m\u001b[38;5;124m'\u001b[39m\u001b[38;5;124ms true !\u001b[39m\u001b[38;5;124m\"\u001b[39m)\n\u001b[1;32m      3\u001b[0m \u001b[38;5;28;01melse\u001b[39;00m:\n",
      "\u001b[0;31mTypeError\u001b[0m: unsupported operand type(s) for &: 'bool' and 'str'"
     ]
    }
   ],
   "source": [
    "if True & condition4:\n",
    "    print(\"It's true !\")\n",
    "else:\n",
    "    print(\"It's false !\")"
   ]
  },
  {
   "cell_type": "markdown",
   "id": "stock-strap",
   "metadata": {
    "id": "stock-strap"
   },
   "source": [
    "## Binary Operator"
   ]
  },
  {
   "cell_type": "code",
   "execution_count": 87,
   "id": "racial-knight",
   "metadata": {
    "id": "racial-knight"
   },
   "outputs": [],
   "source": [
    "my_bin = 0b0010        # 2"
   ]
  },
  {
   "cell_type": "code",
   "execution_count": 89,
   "id": "entire-venue",
   "metadata": {
    "id": "entire-venue",
    "outputId": "10596f8d-2d2e-45aa-b77d-6db71671ea6a"
   },
   "outputs": [
    {
     "data": {
      "text/plain": [
       "2"
      ]
     },
     "execution_count": 89,
     "metadata": {},
     "output_type": "execute_result"
    }
   ],
   "source": [
    "int(my_bin)"
   ]
  },
  {
   "cell_type": "code",
   "execution_count": null,
   "id": "controlling-verse",
   "metadata": {
    "id": "controlling-verse"
   },
   "outputs": [],
   "source": [
    "my_hex = 0x0010        # 16"
   ]
  },
  {
   "cell_type": "code",
   "execution_count": null,
   "id": "engaged-explosion",
   "metadata": {
    "id": "engaged-explosion",
    "outputId": "a9c4c46e-3198-49a6-a29c-168d38883f10"
   },
   "outputs": [
    {
     "data": {
      "text/plain": [
       "16"
      ]
     },
     "execution_count": 72,
     "metadata": {},
     "output_type": "execute_result"
    }
   ],
   "source": [
    "int(my_hex)"
   ]
  },
  {
   "cell_type": "code",
   "execution_count": 91,
   "id": "blank-morocco",
   "metadata": {
    "id": "blank-morocco",
    "outputId": "ecc5a595-5519-4dbb-d83c-040b74c851c9"
   },
   "outputs": [
    {
     "data": {
      "text/plain": [
       "6"
      ]
     },
     "execution_count": 91,
     "metadata": {},
     "output_type": "execute_result"
    }
   ],
   "source": [
    "int(0b0010 | 0b0100)   # = 0b0110"
   ]
  },
  {
   "cell_type": "code",
   "execution_count": 93,
   "id": "turned-myrtle",
   "metadata": {
    "id": "turned-myrtle",
    "outputId": "52208520-2612-44b1-c838-88db864f4905"
   },
   "outputs": [
    {
     "data": {
      "text/plain": [
       "0"
      ]
     },
     "execution_count": 93,
     "metadata": {},
     "output_type": "execute_result"
    }
   ],
   "source": [
    "int(0b0010 & 0b0100)   # = 0b0000"
   ]
  },
  {
   "cell_type": "markdown",
   "id": "virtual-viking",
   "metadata": {
    "id": "virtual-viking"
   },
   "source": [
    "### String Operator"
   ]
  },
  {
   "cell_type": "markdown",
   "id": "entire-coordinate",
   "metadata": {
    "id": "entire-coordinate"
   },
   "source": [
    "#### Join string"
   ]
  },
  {
   "cell_type": "code",
   "execution_count": 95,
   "id": "fatty-digest",
   "metadata": {
    "id": "fatty-digest"
   },
   "outputs": [],
   "source": [
    "S1 = \"Hello\"\n",
    "S2 = \"World\""
   ]
  },
  {
   "cell_type": "code",
   "execution_count": 97,
   "id": "regular-tuesday",
   "metadata": {
    "id": "regular-tuesday",
    "outputId": "2ccc7e7f-5afe-4b9b-d442-799c904fc27d"
   },
   "outputs": [
    {
     "data": {
      "text/plain": [
       "'HelloWorld'"
      ]
     },
     "execution_count": 97,
     "metadata": {},
     "output_type": "execute_result"
    }
   ],
   "source": [
    "S1 + S2"
   ]
  },
  {
   "cell_type": "code",
   "execution_count": 113,
   "id": "absolute-circulation",
   "metadata": {
    "id": "absolute-circulation"
   },
   "outputs": [],
   "source": [
    "S3 = S1 + S2"
   ]
  },
  {
   "cell_type": "code",
   "execution_count": 129,
   "id": "wooden-clarity",
   "metadata": {
    "id": "wooden-clarity",
    "outputId": "98920dff-1450-42f4-d358-55a61ed69753"
   },
   "outputs": [
    {
     "data": {
      "text/plain": [
       "'HelloWorld'"
      ]
     },
     "execution_count": 129,
     "metadata": {},
     "output_type": "execute_result"
    }
   ],
   "source": [
    "S3"
   ]
  },
  {
   "cell_type": "code",
   "execution_count": 131,
   "id": "de663ff1-f47f-4b15-b525-456b91d388d1",
   "metadata": {},
   "outputs": [
    {
     "ename": "AttributeError",
     "evalue": "'str' object has no attribute 'append'",
     "output_type": "error",
     "traceback": [
      "\u001b[1;31m---------------------------------------------------------------------------\u001b[0m",
      "\u001b[1;31mAttributeError\u001b[0m                            Traceback (most recent call last)",
      "Cell \u001b[1;32mIn[131], line 1\u001b[0m\n\u001b[1;32m----> 1\u001b[0m S3\u001b[38;5;241m.\u001b[39mappend(\u001b[38;5;124m\"\u001b[39m\u001b[38;5;124m2\u001b[39m\u001b[38;5;124m\"\u001b[39m)\n",
      "\u001b[1;31mAttributeError\u001b[0m: 'str' object has no attribute 'append'"
     ]
    }
   ],
   "source": [
    "S3.append(\"2\")"
   ]
  },
  {
   "cell_type": "markdown",
   "id": "italic-helen",
   "metadata": {
    "id": "italic-helen"
   },
   "source": [
    "### List Operator"
   ]
  },
  {
   "cell_type": "code",
   "execution_count": 103,
   "id": "superior-advancement",
   "metadata": {
    "id": "superior-advancement"
   },
   "outputs": [],
   "source": [
    "L1 = [1, 2, 3]\n",
    "L2 = [4, 5, 6]"
   ]
  },
  {
   "cell_type": "code",
   "execution_count": 105,
   "id": "statewide-group",
   "metadata": {
    "id": "statewide-group"
   },
   "outputs": [],
   "source": [
    "L1.append(7)"
   ]
  },
  {
   "cell_type": "code",
   "execution_count": 107,
   "id": "strong-grill",
   "metadata": {
    "id": "strong-grill",
    "outputId": "5711ab78-672d-4ad9-bd18-78074e2c28dd"
   },
   "outputs": [
    {
     "data": {
      "text/plain": [
       "[1, 2, 3, 7]"
      ]
     },
     "execution_count": 107,
     "metadata": {},
     "output_type": "execute_result"
    }
   ],
   "source": [
    "L1"
   ]
  },
  {
   "cell_type": "code",
   "execution_count": 109,
   "id": "supported-herald",
   "metadata": {
    "id": "supported-herald"
   },
   "outputs": [],
   "source": [
    "L1.append(L2)"
   ]
  },
  {
   "cell_type": "code",
   "execution_count": null,
   "id": "unexpected-stationery",
   "metadata": {
    "id": "unexpected-stationery",
    "outputId": "3a79de68-36ac-444f-f844-828c3b7f0ede"
   },
   "outputs": [
    {
     "data": {
      "text/plain": [
       "[1, 2, 3, 7, [4, 5, 6]]"
      ]
     },
     "execution_count": 83,
     "metadata": {},
     "output_type": "execute_result"
    }
   ],
   "source": [
    "L1"
   ]
  },
  {
   "cell_type": "code",
   "execution_count": 111,
   "id": "accompanied-newcastle",
   "metadata": {
    "id": "accompanied-newcastle",
    "outputId": "9af816bb-b153-40eb-8378-ca975050e61b"
   },
   "outputs": [
    {
     "data": {
      "text/plain": [
       "5"
      ]
     },
     "execution_count": 111,
     "metadata": {},
     "output_type": "execute_result"
    }
   ],
   "source": [
    "len(L1)"
   ]
  },
  {
   "cell_type": "code",
   "execution_count": 135,
   "id": "vulnerable-march",
   "metadata": {
    "id": "vulnerable-march"
   },
   "outputs": [],
   "source": [
    "L1 = [1, 2, 3]\n",
    "L2 = [4, 5, 6]"
   ]
  },
  {
   "cell_type": "code",
   "execution_count": 137,
   "id": "flexible-continuity",
   "metadata": {
    "id": "flexible-continuity",
    "outputId": "4e0f41bb-431b-494f-d631-7d26e7724fe6"
   },
   "outputs": [
    {
     "data": {
      "text/plain": [
       "[1, 2, 3, 4, 5, 6]"
      ]
     },
     "execution_count": 137,
     "metadata": {},
     "output_type": "execute_result"
    }
   ],
   "source": [
    "L1 + L2"
   ]
  },
  {
   "cell_type": "code",
   "execution_count": 139,
   "id": "cross-parking",
   "metadata": {
    "id": "cross-parking",
    "outputId": "b6b1f48f-3e27-491b-e796-ecb2188c69cf"
   },
   "outputs": [
    {
     "data": {
      "text/plain": [
       "'Hello'"
      ]
     },
     "execution_count": 139,
     "metadata": {},
     "output_type": "execute_result"
    }
   ],
   "source": [
    "S1"
   ]
  },
  {
   "cell_type": "markdown",
   "id": "ignored-villa",
   "metadata": {
    "id": "ignored-villa"
   },
   "source": [
    "## 7. การกำหนดเงื่อนไข (Conditional Statements)\n",
    "\n",
    "ตัวอย่าง\n"
   ]
  },
  {
   "cell_type": "code",
   "execution_count": 141,
   "id": "unknown-oxygen",
   "metadata": {
    "id": "unknown-oxygen",
    "outputId": "926486d3-1526-4eec-8316-7853a6d4661b"
   },
   "outputs": [
    {
     "name": "stdout",
     "output_type": "stream",
     "text": [
      "It is true !!\n"
     ]
    }
   ],
   "source": [
    "condition = True\n",
    "if condition == True:\n",
    "    print(\"It is true !!\")\n"
   ]
  },
  {
   "cell_type": "code",
   "execution_count": 143,
   "id": "bottom-defendant",
   "metadata": {
    "id": "bottom-defendant",
    "outputId": "0a238d0b-31bd-4888-c24b-0e1093845365"
   },
   "outputs": [
    {
     "name": "stdout",
     "output_type": "stream",
     "text": [
      "It is false !!\n"
     ]
    }
   ],
   "source": [
    "condition = False\n",
    "if condition == True:\n",
    "    print(\"It is true !!\")\n",
    "else:\n",
    "    print(\"It is false !!\")"
   ]
  },
  {
   "cell_type": "code",
   "execution_count": 145,
   "id": "homeless-filename",
   "metadata": {
    "id": "homeless-filename",
    "outputId": "18d30e82-dbd9-49cf-f7b6-610eef14de2e"
   },
   "outputs": [
    {
     "name": "stdout",
     "output_type": "stream",
     "text": [
      "It is something !!\n"
     ]
    }
   ],
   "source": [
    "condition = 4\n",
    "if condition == 1:\n",
    "    print(\"It is one !!\")\n",
    "elif condition == 2:\n",
    "    print(\"It is two !!\")\n",
    "else:\n",
    "    print(\"It is something !!\")"
   ]
  },
  {
   "cell_type": "markdown",
   "id": "lesser-sending",
   "metadata": {
    "id": "lesser-sending"
   },
   "source": [
    "## 8. การทำซ้ำ (Loop)\n",
    "\n",
    "มี 2 ประเภทคือ while loop และ for loop\n",
    "\n",
    "ตัวอย่าง while loop\n"
   ]
  },
  {
   "cell_type": "code",
   "execution_count": 149,
   "id": "fancy-peter",
   "metadata": {
    "id": "fancy-peter",
    "outputId": "c4f7e5c4-ced0-478e-898d-5028800af4ec"
   },
   "outputs": [
    {
     "name": "stdout",
     "output_type": "stream",
     "text": [
      "1\n",
      "2\n",
      "3\n",
      "4\n"
     ]
    }
   ],
   "source": [
    "i = 1\n",
    "while i < 5:\n",
    "    print(i)\n",
    "    i = i + 1"
   ]
  },
  {
   "cell_type": "markdown",
   "id": "raising-energy",
   "metadata": {
    "id": "raising-energy"
   },
   "source": [
    "ในการใช้งาน for loop จะใช้ร่วมกับคำสั่ง `range(start, stop)`  หรือ `range(start, stop, step)`\n",
    "\n",
    "ตัวอย่าง"
   ]
  },
  {
   "cell_type": "code",
   "execution_count": 157,
   "id": "quality-instruction",
   "metadata": {
    "id": "quality-instruction",
    "outputId": "b668447e-92b3-4d12-f9fe-3cf547f93765"
   },
   "outputs": [
    {
     "name": "stdout",
     "output_type": "stream",
     "text": [
      "1\n",
      "2\n",
      "3\n",
      "4\n"
     ]
    }
   ],
   "source": [
    "for i in range(1, 5):\n",
    "    print(i)"
   ]
  },
  {
   "cell_type": "code",
   "execution_count": 171,
   "id": "f57996ce-2f92-40dc-9c35-798923a7765f",
   "metadata": {},
   "outputs": [
    {
     "name": "stdout",
     "output_type": "stream",
     "text": [
      "1\n",
      "2\n",
      "3\n",
      "4\n"
     ]
    }
   ],
   "source": [
    "list_num = [1,2,3,4]\n",
    "for i in list_num:\n",
    "    print(i)"
   ]
  },
  {
   "cell_type": "markdown",
   "id": "constitutional-pharmaceutical",
   "metadata": {
    "id": "constitutional-pharmaceutical"
   },
   "source": [
    "## 9. List Comprehension\n",
    "\n",
    "คือการสร้างลิสต์ด้วย code แบบย่อ\n",
    "\n",
    "ตัวอย่างเช่น ถ้าต้องการสร้างลิสต์ใหม่แบบมีเงื่อนไข\n",
    "```python\n",
    "new_list\n",
    "for item in list:\n",
    "    if conditional:\n",
    "        new_list.add(  expression   )\n",
    "```\n",
    "สามารถเขียนให้อยู่ในรูปนี้แทนได้\n",
    "```python\n",
    "new_list = [ expression for item in list if conditional ]\n",
    "```"
   ]
  },
  {
   "cell_type": "code",
   "execution_count": 173,
   "id": "overhead-criterion",
   "metadata": {
    "id": "overhead-criterion",
    "outputId": "452d3e4c-fa23-4666-c6a9-cdbfe72e5454",
    "scrolled": true
   },
   "outputs": [
    {
     "name": "stdout",
     "output_type": "stream",
     "text": [
      "[6, 8, 11]\n"
     ]
    }
   ],
   "source": [
    "origin_item = [1, 1, 2, 3, 5, 8]\n",
    "items = [ item + 3 for item in origin_item if item > 2 ]\n",
    "\n",
    "print(items)"
   ]
  },
  {
   "cell_type": "markdown",
   "id": "cooperative-philadelphia",
   "metadata": {
    "id": "cooperative-philadelphia"
   },
   "source": [
    "## 10. Function\n",
    "\n",
    "ใช้รวบรวมชุดคำสั่งไว้ด้วยกัน"
   ]
  },
  {
   "cell_type": "code",
   "execution_count": 175,
   "id": "structured-debut",
   "metadata": {
    "id": "structured-debut"
   },
   "outputs": [],
   "source": [
    "def increase_by_two(number):\n",
    "    result = number + 2\n",
    "    return result\n"
   ]
  },
  {
   "cell_type": "code",
   "execution_count": null,
   "id": "tough-emperor",
   "metadata": {
    "id": "tough-emperor",
    "outputId": "1980488c-0b16-49af-f6dc-1fe84fadb401"
   },
   "outputs": [
    {
     "name": "stdout",
     "output_type": "stream",
     "text": [
      "3\n"
     ]
    }
   ],
   "source": [
    "## use defined function\n",
    "my_number = 1\n",
    "processed_number = increase_by_two(my_number)\n",
    "\n",
    "print(processed_number)"
   ]
  },
  {
   "cell_type": "code",
   "execution_count": 177,
   "id": "blond-reviewer",
   "metadata": {
    "id": "blond-reviewer"
   },
   "outputs": [],
   "source": [
    "def some_function():\n",
    "    '''\n",
    "    Unlike C,\n",
    "    Function's comment should contained in function def.\n",
    "    '''\n",
    "    # do something\n",
    "\n",
    "    return"
   ]
  },
  {
   "cell_type": "code",
   "execution_count": 181,
   "id": "8c92054a-b593-4bb4-b678-bc61748b4543",
   "metadata": {},
   "outputs": [],
   "source": [
    "def muti_argument(a,b,c):\n",
    "    result = a+b+c\n",
    "    return result"
   ]
  },
  {
   "cell_type": "code",
   "execution_count": 183,
   "id": "f393a03f-b3a0-49ba-9f61-274a931ba02b",
   "metadata": {},
   "outputs": [
    {
     "name": "stdout",
     "output_type": "stream",
     "text": [
      "45\n"
     ]
    }
   ],
   "source": [
    "a = 10\n",
    "b = 15\n",
    "c = 20\n",
    "result = muti_argument(a,b,c)\n",
    "print(result)"
   ]
  },
  {
   "cell_type": "code",
   "execution_count": 213,
   "id": "c139af58-a1a6-4d88-a851-e96ee3c9c3f3",
   "metadata": {},
   "outputs": [],
   "source": [
    "def list_muti_argument(*arg):\n",
    "    print(arg)\n",
    "    for i in arg:\n",
    "        print(i)"
   ]
  },
  {
   "cell_type": "code",
   "execution_count": 217,
   "id": "f0a2a768-00fe-43a3-8af7-51bc40c06f8a",
   "metadata": {},
   "outputs": [
    {
     "name": "stdout",
     "output_type": "stream",
     "text": [
      "(10, 15, 20)\n",
      "10\n",
      "15\n",
      "20\n"
     ]
    }
   ],
   "source": [
    "a = 10\n",
    "b = 15\n",
    "c = 20\n",
    "list_muti_argument(a,b,c)"
   ]
  },
  {
   "cell_type": "code",
   "execution_count": 221,
   "id": "4c7b4a1a-61fd-4c9e-90b3-543aba20a9db",
   "metadata": {},
   "outputs": [],
   "source": [
    "def list_muti_argument(**arg):\n",
    "    print(arg)\n",
    "    for i in arg:\n",
    "        print(i)"
   ]
  },
  {
   "cell_type": "code",
   "execution_count": 223,
   "id": "61225e44-2ccc-4e16-b2fd-b3e8cabd7ad6",
   "metadata": {},
   "outputs": [
    {
     "ename": "TypeError",
     "evalue": "list_muti_argument() takes 0 positional arguments but 3 were given",
     "output_type": "error",
     "traceback": [
      "\u001b[1;31m---------------------------------------------------------------------------\u001b[0m",
      "\u001b[1;31mTypeError\u001b[0m                                 Traceback (most recent call last)",
      "Cell \u001b[1;32mIn[223], line 4\u001b[0m\n\u001b[0;32m      2\u001b[0m b \u001b[38;5;241m=\u001b[39m \u001b[38;5;241m15\u001b[39m\n\u001b[0;32m      3\u001b[0m c \u001b[38;5;241m=\u001b[39m \u001b[38;5;241m20\u001b[39m\n\u001b[1;32m----> 4\u001b[0m list_muti_argument(a,b,c)\n",
      "\u001b[1;31mTypeError\u001b[0m: list_muti_argument() takes 0 positional arguments but 3 were given"
     ]
    }
   ],
   "source": [
    "a = 10\n",
    "b = 15\n",
    "c = 20\n",
    "list_muti_argument(a,b,c)"
   ]
  },
  {
   "cell_type": "markdown",
   "id": "optional-monitor",
   "metadata": {
    "id": "optional-monitor"
   },
   "source": [
    "## 11. Lambda Function\n",
    "\n",
    "เป็นรูปย่อของ function\n",
    "\n",
    "ไม่ต้องประกาศฟังชันแบบ def\n",
    "\n",
    "และไม่จำเป็นต้องมีชื่อ มักใช้เขียนแบบ inline"
   ]
  },
  {
   "cell_type": "code",
   "execution_count": 225,
   "id": "individual-voltage",
   "metadata": {
    "id": "individual-voltage"
   },
   "outputs": [],
   "source": [
    "increas_by_tree = lambda number: number + 3\n"
   ]
  },
  {
   "cell_type": "code",
   "execution_count": null,
   "id": "attached-population",
   "metadata": {
    "id": "attached-population",
    "outputId": "7b73cdb5-5e76-4df3-b673-7bdef27a2d4b"
   },
   "outputs": [
    {
     "name": "stdout",
     "output_type": "stream",
     "text": [
      "4\n"
     ]
    }
   ],
   "source": [
    "my_number = 1\n",
    "processed_number = increas_by_tree(my_number)\n",
    "\n",
    "print(processed_number)"
   ]
  },
  {
   "cell_type": "markdown",
   "id": "solid-detroit",
   "metadata": {
    "id": "solid-detroit"
   },
   "source": [
    "## 12. Simple Object-Oriented Programming\n",
    "\n",
    "Python เป็นภาษาที่รองรับ Object-Oriented Programming (แต่จะมีบาง concept ที่ต่างจากภาษา OOP อื่นๆ)"
   ]
  },
  {
   "cell_type": "markdown",
   "id": "clean-coupon",
   "metadata": {
    "id": "clean-coupon"
   },
   "source": [
    "ตัวอย่างการประกาศ class"
   ]
  },
  {
   "cell_type": "code",
   "execution_count": 238,
   "id": "early-blanket",
   "metadata": {
    "id": "early-blanket"
   },
   "outputs": [],
   "source": [
    "class Person:\n",
    "    def __init__(self, id, name):\n",
    "        '''\n",
    "        This is constructor to create new object as Student.\n",
    "        '''\n",
    "        self.name = name\n",
    "        self.speed = 3\n",
    "\n",
    "    def walk(self):\n",
    "        print(self.name, \"moved \", self.speed, \"steps\")\n",
    "\n",
    "    def run(self):\n",
    "        print(self.name, \"ran \", self.speed ** 2, \"steps\")\n",
    "\n"
   ]
  },
  {
   "cell_type": "markdown",
   "id": "unexpected-seeking",
   "metadata": {
    "id": "unexpected-seeking"
   },
   "source": [
    "จะเห็นว่า constructor และ method ต่างๆ จะต้องมี self เป็น argument แรกเสมอ\n",
    "\n",
    "self คือ object ที่เกิดจาก class นั้น"
   ]
  },
  {
   "cell_type": "code",
   "execution_count": 240,
   "id": "genetic-moses",
   "metadata": {
    "id": "genetic-moses"
   },
   "outputs": [],
   "source": [
    "me = Person(\"001\", \"WhoAmI\")\n"
   ]
  },
  {
   "cell_type": "code",
   "execution_count": null,
   "id": "entertaining-mirror",
   "metadata": {
    "id": "entertaining-mirror",
    "outputId": "d7b8242c-ca94-4236-a40b-c9930579773e"
   },
   "outputs": [
    {
     "name": "stdout",
     "output_type": "stream",
     "text": [
      "WhoAmI moved  3 steps\n"
     ]
    }
   ],
   "source": [
    "me.walk()"
   ]
  },
  {
   "cell_type": "code",
   "execution_count": null,
   "id": "about-school",
   "metadata": {
    "id": "about-school",
    "outputId": "920ef999-55b5-4304-a69f-e22b1f17bea3"
   },
   "outputs": [
    {
     "name": "stdout",
     "output_type": "stream",
     "text": [
      "WhoAmI ran  9 steps\n"
     ]
    }
   ],
   "source": [
    "me.run()"
   ]
  },
  {
   "cell_type": "code",
   "execution_count": null,
   "id": "80cf871e-a5f8-4056-81ac-42012797ba79",
   "metadata": {},
   "outputs": [],
   "source": []
  }
 ],
 "metadata": {
  "colab": {
   "provenance": []
  },
  "kernelspec": {
   "display_name": "Python 3 (ipykernel)",
   "language": "python",
   "name": "python3"
  },
  "language_info": {
   "codemirror_mode": {
    "name": "ipython",
    "version": 3
   },
   "file_extension": ".py",
   "mimetype": "text/x-python",
   "name": "python",
   "nbconvert_exporter": "python",
   "pygments_lexer": "ipython3",
   "version": "3.10.15"
  }
 },
 "nbformat": 4,
 "nbformat_minor": 5
}
