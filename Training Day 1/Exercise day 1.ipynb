{
 "cells": [
  {
   "cell_type": "markdown",
   "id": "f0f966e4-9a2c-4071-b1ed-2decabc2b10a",
   "metadata": {
    "jp-MarkdownHeadingCollapsed": true
   },
   "source": [
    "# Exercise 1 : เขียนโปรแกรมเพื่อตรวจสอบว่าตัวเลขที่ป้อนเข้ามาเป็นเลขคู่หรือเลขคี่\n",
    "a.\tExample:\n",
    "i.\tInput: 256\n",
    "ii.\tOutput:es\n"
   ]
  },
  {
   "cell_type": "code",
   "execution_count": 1,
   "id": "d80833b8-e0a1-4eb9-9774-8a8eb96536f4",
   "metadata": {},
   "outputs": [
    {
     "name": "stdout",
     "output_type": "stream",
     "text": [
      "yes\n"
     ]
    }
   ],
   "source": [
    "number = int(input('Enter number:'))\n",
    "if (number%2)==0:\n",
    "    print(\"yes\")\n",
    "else:\n",
    "    print(\"no\")"
   ]
  },
  {
   "cell_type": "markdown",
   "id": "1ac051be-0147-427d-8ac1-db0d74ff6637",
   "metadata": {
    "jp-MarkdownHeadingCollapsed": true
   },
   "source": [
    "# Exercise 2 : เขียนโปรแกรมตรวจสอบ string ที่ป้อนเข้ามาว่าเป็น palindrome หรือไม่ โดย palindrome คือคือ คำ วลี ตัวเลข หรือชุดข้อมูลที่อ่านจากซ้ายไปขวาและจากขวาไปซ้ายแล้วได้ค่าเดียวกัน ตัวอย่างเช่น คำว่า radar, rotator, 123321\n",
    "a.\tExample:\n",
    "i.\tInput: rotator\n",
    "ii.\tOutput: es\n"
   ]
  },
  {
   "cell_type": "code",
   "execution_count": 3,
   "id": "86c00eb8-a89b-445d-bf48-50cbd111c853",
   "metadata": {},
   "outputs": [
    {
     "name": "stdout",
     "output_type": "stream",
     "text": [
      "yes\n"
     ]
    }
   ],
   "source": [
    "text = input('Enter text:')\n",
    "x = [x for x in text]\n",
    "y = [y for y in reversed( text )]\n",
    "\n",
    "if x==y:\n",
    "    print(\"yes\")\n",
    "else:\n",
    "    print(\"no\")"
   ]
  },
  {
   "cell_type": "markdown",
   "id": "b6a3d9a1-a697-4601-a3da-de62b9641bc0",
   "metadata": {
    "jp-MarkdownHeadingCollapsed": true
   },
   "source": [
    "# Exercise 3 : เขียนโปรแกรมตัดเกรด โดยตรวจสอบว่าคะแนนที่ป้อนเข้ามาควรจะได้เกรดอะไร โดย score มากกว่าเท่ากับ 80 ได้เกรด A, มากกว่าเท่ากับ 70 แต่น้อยกว่า 80 ได้เกรด B, มากกว่าเท่ากับ 60 แต่น้อยกว่า 70 ได้เกรด C\n",
    "a.\tExample:\n",
    "i.\tInput: 80\n",
    "ii.\tOutput A\n"
   ]
  },
  {
   "cell_type": "code",
   "execution_count": 4,
   "id": "46325e93-dbe0-4c88-8e06-5ce6401bed72",
   "metadata": {},
   "outputs": [
    {
     "name": "stdout",
     "output_type": "stream",
     "text": [
      "B\n"
     ]
    }
   ],
   "source": [
    "point = int(input('Enter score:'))\n",
    "if point >= 80:\n",
    "    print(\"A\")\n",
    "elif (point >= 70) & (point < 80):\n",
    "    print(\"B\")\n",
    "elif (point >= 60) & (point < 70):\n",
    "    print(\"C\")\n",
    "else:\n",
    "    print(\"Someting wrong\")"
   ]
  },
  {
   "cell_type": "markdown",
   "id": "aa38c9df-74be-4ca8-9443-66c39c27d316",
   "metadata": {
    "jp-MarkdownHeadingCollapsed": true
   },
   "source": [
    "# Exercise 4 : เขียนโปรแกรมแสดงเลขจำนวนเฉพาะ ที่มีค่ามากกว่าหรือเท่ากับ A แต่น้อยกว่าหรือเท่ากับ B\n",
    "a.\tExample:\n",
    "i.\tInput: 10 20\n",
    "ii.\tOutput: 11, 13, 17,19\n"
   ]
  },
  {
   "cell_type": "code",
   "execution_count": 5,
   "id": "3616c302-2a52-4cb3-b5a6-f81ab3c4a5b5",
   "metadata": {},
   "outputs": [
    {
     "name": "stdout",
     "output_type": "stream",
     "text": [
      "[5, 7, 11, 13]\n"
     ]
    }
   ],
   "source": [
    "num1 = int(input('Enter number begin:'))\n",
    "num2 = int(input('Enter number end:'))\n",
    "list_prime = []\n",
    "\n",
    "def fine_prime(number):\n",
    "    if number >= 2:\n",
    "        for  i in range(2, number+1):\n",
    "            if ((number%i)==0) and (i<number):\n",
    "                return False\n",
    "        return True\n",
    "\n",
    "for number in range(num1, num2+1):\n",
    "    if fine_prime(number)==True:\n",
    "        list_prime.append(number)\n",
    "\n",
    "print(list_prime)"
   ]
  },
  {
   "cell_type": "code",
   "execution_count": 6,
   "id": "ae75734c-bd50-4308-8206-0040d0ae09a5",
   "metadata": {},
   "outputs": [
    {
     "name": "stdout",
     "output_type": "stream",
     "text": [
      "5, 7, 11, 13\n"
     ]
    }
   ],
   "source": [
    "num1 = int(input('Enter number begin:'))\n",
    "num2 = int(input('Enter number end:'))\n",
    "otprint = 1\n",
    "prime_number = \"\"\n",
    "\n",
    "for number in range(num1, num2+1):\n",
    "\n",
    "    chk = False\n",
    "    if number >= 2:\n",
    "        for  n in range(2, number+1):\n",
    "            if ((number%n)==0) and (n<number):\n",
    "                chk = True\n",
    "                \n",
    "        if chk == False:\n",
    "            if otprint == 1:\n",
    "                prime_number = prime_number+str(number)\n",
    "                otprint = 2\n",
    "            else:\n",
    "                prime_number = prime_number+\", \"+str(number)\n",
    "        \n",
    "print(prime_number)"
   ]
  },
  {
   "cell_type": "markdown",
   "id": "ffd60cd5-b775-47c9-8f6b-dce89961a94a",
   "metadata": {
    "jp-MarkdownHeadingCollapsed": true
   },
   "source": [
    "# Exercise 5 : เขียนโปรแกรมรับข้อความ แล้วแสดงผลข้อความตามจำนวนครั้ง A\n",
    "a.\tInput: จำนวนครั้ง n ที่ต้องการแสดงผล และ ข้อความ m\n",
    "b.\tOutput: ข้อความ m ที่แสดงผลซ้ำ n ครั้ง โดยเว้นวรรค 1 ช่อง\n",
    "c.\tExample: \n",
    "i.\tInput:3 เขียนโปรแกรมสนุกจังเลย\n",
    "ii.\tOutput: เขียนโปรแกรมสนุกจังเลย เขียนโปรแกรมสนุกจังเลย เขียนโปรแกรมสนุกจเลย\n"
   ]
  },
  {
   "cell_type": "code",
   "execution_count": 7,
   "id": "ff64b0b8-2dc8-4ccd-bcee-5caf26185c29",
   "metadata": {},
   "outputs": [
    {
     "name": "stdout",
     "output_type": "stream",
     "text": [
      "you you you you you\n"
     ]
    }
   ],
   "source": [
    "number = int(input('Enter number:'))\n",
    "text = input('Enter text:')\n",
    "text_join = \"\"\n",
    "i = 1\n",
    "\n",
    "while i < number+1:\n",
    "    if i == number:\n",
    "        text_join = text_join+text\n",
    "    else:\n",
    "        text_join = text_join+text+\" \"\n",
    "    i=i+1\n",
    "\n",
    "print(text_join)"
   ]
  },
  {
   "cell_type": "markdown",
   "id": "bd3bb99e-c538-41be-8a75-337ed165281f",
   "metadata": {
    "jp-MarkdownHeadingCollapsed": true
   },
   "source": [
    "# Exercise 6 : เขียนโปรแกรมแสดงผลลัพธ์การจับคู่ที่เป็นไปได้ เมื่อให้ input เป็น list ของ string\n",
    "a.\tExample:\n",
    "i.\tInput[“Orange”, “Pineapple”, “Mango”]”]\n",
    "ii.\tOutput: \n",
    "[('Orange', 'Pineapple'),\n",
    "('Orange', 'Mango'),\n",
    "('Pineapple', 'Orange'),\n",
    "('Pineapple', 'Mango'),\n",
    "('Mango', 'Orange'),\n",
    "('Mango', 'Pinapple')]\n"
   ]
  },
  {
   "cell_type": "code",
   "execution_count": 8,
   "id": "b174ffd2-6562-46ca-9134-4d704001ed35",
   "metadata": {},
   "outputs": [
    {
     "data": {
      "text/plain": [
       "[('Orange', 'Pineapple'),\n",
       " ('Orange', 'Mango'),\n",
       " ('Pineapple', 'Orange'),\n",
       " ('Pineapple', 'Mango'),\n",
       " ('Mango', 'Orange'),\n",
       " ('Mango', 'Pineapple')]"
      ]
     },
     "execution_count": 8,
     "metadata": {},
     "output_type": "execute_result"
    }
   ],
   "source": [
    "text = input('Enter list string:')\n",
    "list2 = []\n",
    "\n",
    "list1 = text.split(\"”, “\")\n",
    "libegin = list1[0].split(\"“\")\n",
    "list1[0] = libegin[1]\n",
    "liend = list1[len(list1)-1].split(\"”\")\n",
    "list1[len(list1)-1] = liend[0]\n",
    "\n",
    "for i in range(0, len(list1)): \n",
    "    text1 = list1[i]\n",
    "    \n",
    "    for j in range(0, len(list1)):\n",
    "        text2 = list1[j]\n",
    "        tup = (text1, text2)\n",
    "        \n",
    "        if text1!=text2:\n",
    "            list2.append(tup)\n",
    "\n",
    "list2"
   ]
  },
  {
   "cell_type": "markdown",
   "id": "79d9b645-b1f3-4c46-b35c-97e79b63fb1b",
   "metadata": {
    "jp-MarkdownHeadingCollapsed": true
   },
   "source": [
    "# Exercise 7 : เขียน function ที่ใช้หา domain name จาก email ที่รับมา\n",
    "a.\tExample:\n",
    "i.\tInput: user@domain.com\n",
    "ii.\tOutput: domaion.m\n",
    "\n"
   ]
  },
  {
   "cell_type": "code",
   "execution_count": 9,
   "id": "e85b6850-8428-4b7e-a67e-438cdc44d89a",
   "metadata": {},
   "outputs": [
    {
     "name": "stdout",
     "output_type": "stream",
     "text": [
      "domain.com\n"
     ]
    }
   ],
   "source": [
    "email = input('Enter email:')\n",
    "\n",
    "def fine_damain(mail):\n",
    "    \n",
    "    list = mail.split(\"@\")\n",
    "    return list[1]\n",
    "    \n",
    "print(fine_damain(email))"
   ]
  },
  {
   "cell_type": "markdown",
   "id": "c4f516c2-f61f-494a-987f-5bb9696cf407",
   "metadata": {},
   "source": [
    "# Exercise 8 : เขียน function ในการคำนวนหาค่า factorial โดย factorial คือผลคูณของจำนวนเต็มบวกทั้งหมดที่น้อยกว่าหรือเท่ากับ n โดย function จะรับ input เป็นจำนวณเต็มบวก\n",
    "a.\tExample:\n",
    "i.\tInput: 5\n",
    "ii.\tOutput: 120\n"
   ]
  },
  {
   "cell_type": "code",
   "execution_count": 10,
   "id": "690a7f9e-8639-4b4e-8dc8-083dbfc285f0",
   "metadata": {},
   "outputs": [
    {
     "name": "stdout",
     "output_type": "stream",
     "text": [
      "720\n"
     ]
    }
   ],
   "source": [
    "number = int(input('Enter number:'))\n",
    "\n",
    "def cal_factorial(num):\n",
    "    n_fac = 1\n",
    "    \n",
    "    for n in range(1, num+1):\n",
    "        n_fac = n_fac * n\n",
    "    return n_fac\n",
    "\n",
    "print(cal_factorial(number))"
   ]
  },
  {
   "cell_type": "markdown",
   "id": "7677e02e-b441-4dbe-83fe-8ce3eb838fc8",
   "metadata": {},
   "source": [
    "# Exercise 9 : เขียน class พนักงาน โดยจะต้องมี attribute ที่สำคัญอย่างน้อย 5 attribute และมี method ที่สำคัญ อย่างน้อย 2 method\n",
    "\tตัวอย่าง Attribute เช่น ชื่อ รหัสพนักงาน เงินเดือน\n",
    "\tตัวอย่าง Method เช่น work(\n",
    "\n"
   ]
  },
  {
   "cell_type": "code",
   "execution_count": 11,
   "id": "81083da8-3181-44aa-87d6-3c48966e44d9",
   "metadata": {},
   "outputs": [],
   "source": [
    "class Employee:\n",
    "    def __init__(self, code, name, position, salary, skill):\n",
    "        '''\n",
    "        This is constructor to create new object as Student.\n",
    "        salary, holiday, skill\n",
    "        '''\n",
    "        self.code = code\n",
    "        self.name = name\n",
    "        self.position = position\n",
    "        self.salary = 15000\n",
    "        self.holiday = 6\n",
    "        self.skill = \"ms office\"\n",
    "        \n",
    "    def work(self):\n",
    "        print(self.name, \"working on \", self.skill)\n",
    "\n",
    "    def vacation(self):\n",
    "        print(self.name, \"take a vacation \", 3 , \"days, \", \"Holidays left \", self.holiday-3)\n"
   ]
  },
  {
   "cell_type": "code",
   "execution_count": 13,
   "id": "e56d0b81-4aca-47b1-8aeb-b81ef663e916",
   "metadata": {},
   "outputs": [],
   "source": [
    "Mr_a = Employee(\"001\", \"Mr.a\", \"engineer\" , \"10000\" , \"reading\")"
   ]
  },
  {
   "cell_type": "code",
   "execution_count": 14,
   "id": "701eaada-3785-4214-9cb6-b723ce623d92",
   "metadata": {},
   "outputs": [
    {
     "name": "stdout",
     "output_type": "stream",
     "text": [
      "Mr.a working on  ms office\n"
     ]
    }
   ],
   "source": [
    "Mr_a.work()"
   ]
  },
  {
   "cell_type": "code",
   "execution_count": 15,
   "id": "99f6637f-1deb-4f51-9934-2ee450edd690",
   "metadata": {},
   "outputs": [
    {
     "name": "stdout",
     "output_type": "stream",
     "text": [
      "Mr.a take a vacation  3 days,  Holidays left  3\n"
     ]
    }
   ],
   "source": [
    "Mr_a.vacation() "
   ]
  },
  {
   "cell_type": "code",
   "execution_count": null,
   "id": "d5b10958-9a2f-44d1-a9cf-31c0cfba7a90",
   "metadata": {},
   "outputs": [],
   "source": []
  }
 ],
 "metadata": {
  "kernelspec": {
   "display_name": "ENV1",
   "language": "python",
   "name": "python3"
  },
  "language_info": {
   "codemirror_mode": {
    "name": "ipython",
    "version": 3
   },
   "file_extension": ".py",
   "mimetype": "text/x-python",
   "name": "python",
   "nbconvert_exporter": "python",
   "pygments_lexer": "ipython3",
   "version": "3.12.7"
  }
 },
 "nbformat": 4,
 "nbformat_minor": 5
}
