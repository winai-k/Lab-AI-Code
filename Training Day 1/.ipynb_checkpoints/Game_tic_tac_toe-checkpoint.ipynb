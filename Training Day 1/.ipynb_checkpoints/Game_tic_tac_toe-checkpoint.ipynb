{
 "cells": [
  {
   "cell_type": "markdown",
   "id": "830ca636-a456-4e2e-9d8a-b3336065857f",
   "metadata": {},
   "source": [
    "Exercise game : สร้าง game tic tac toe จะเป็นแบบ 1 player หรือ 2 player ก็ได้s"
   ]
  },
  {
   "cell_type": "code",
   "execution_count": 146,
   "id": "1ce3f5ac-eca3-4639-9416-1e0f22a98ab9",
   "metadata": {},
   "outputs": [],
   "source": [
    "def print_table(num, history, player):\n",
    "    table.reset()\n",
    "    n = 1\n",
    "    for i1 in range(1, 4):\n",
    "        for i2 in range(0, 3):\n",
    "            if num == n:\n",
    "                history[i1][i2] = player\n",
    "            n = n + 1\n",
    "    table.add_rows(history)\n",
    "    print(table.draw())\n",
    "    \n",
    "    return history"
   ]
  },
  {
   "cell_type": "code",
   "execution_count": 149,
   "id": "b6409cee-3f6b-42ae-8559-cbe7168a6368",
   "metadata": {},
   "outputs": [],
   "source": [
    "def check_win_loss(history, player):\n",
    "    \n",
    "    for i1 in range(1, 4):\n",
    "        if (history[i1][0]==player)&(history[i1][1]==player)&(history[i1][2]==player):\n",
    "            return True\n",
    "    for i2 in range(0, 3):\n",
    "         if (history[1][i2]==player)&(history[2][i2]==player)&(history[3][i2]==player):\n",
    "             return True\n",
    "    if (history[1][0]==player)&(history[2][1]==player)&(history[3][2]==player):\n",
    "        return True\n",
    "    elif (history[1][2]==player)&(history[2][1]==player)&(history[3][0]==player):\n",
    "        return True\n",
    "    else:\n",
    "        return False"
   ]
  },
  {
   "cell_type": "code",
   "execution_count": 150,
   "id": "53871e49-5a11-4587-9b6d-edf0b9dd154a",
   "metadata": {},
   "outputs": [
    {
     "name": "stdout",
     "output_type": "stream",
     "text": [
      "Game start ...\n",
      "When your turn, choose a number.\n",
      "+---+---+---+\n",
      "| 1 | 2 | 3 |\n",
      "+---+---+---+\n",
      "| 4 | 5 | 6 |\n",
      "+---+---+---+\n",
      "| 7 | 8 | 9 |\n",
      "+---+---+---+\n"
     ]
    },
    {
     "name": "stdin",
     "output_type": "stream",
     "text": [
      "Turn player X : 1\n"
     ]
    },
    {
     "name": "stdout",
     "output_type": "stream",
     "text": [
      "+---+---+---+\n",
      "| X |   |   |\n",
      "+---+---+---+\n",
      "|   |   |   |\n",
      "+---+---+---+\n",
      "|   |   |   |\n",
      "+---+---+---+\n"
     ]
    },
    {
     "name": "stdin",
     "output_type": "stream",
     "text": [
      "Turn player O : 5\n"
     ]
    },
    {
     "name": "stdout",
     "output_type": "stream",
     "text": [
      "+---+---+---+\n",
      "| X |   |   |\n",
      "+---+---+---+\n",
      "|   | O |   |\n",
      "+---+---+---+\n",
      "|   |   |   |\n",
      "+---+---+---+\n"
     ]
    },
    {
     "name": "stdin",
     "output_type": "stream",
     "text": [
      "Turn player X : 9\n"
     ]
    },
    {
     "name": "stdout",
     "output_type": "stream",
     "text": [
      "+---+---+---+\n",
      "| X |   |   |\n",
      "+---+---+---+\n",
      "|   | O |   |\n",
      "+---+---+---+\n",
      "|   |   | X |\n",
      "+---+---+---+\n"
     ]
    },
    {
     "name": "stdin",
     "output_type": "stream",
     "text": [
      "Turn player O : 7\n"
     ]
    },
    {
     "name": "stdout",
     "output_type": "stream",
     "text": [
      "+---+---+---+\n",
      "| X |   |   |\n",
      "+---+---+---+\n",
      "|   | O |   |\n",
      "+---+---+---+\n",
      "| O |   | X |\n",
      "+---+---+---+\n"
     ]
    },
    {
     "name": "stdin",
     "output_type": "stream",
     "text": [
      "Turn player X : 3\n"
     ]
    },
    {
     "name": "stdout",
     "output_type": "stream",
     "text": [
      "+---+---+---+\n",
      "| X |   | X |\n",
      "+---+---+---+\n",
      "|   | O |   |\n",
      "+---+---+---+\n",
      "| O |   | X |\n",
      "+---+---+---+\n"
     ]
    },
    {
     "name": "stdin",
     "output_type": "stream",
     "text": [
      "Turn player O : 2\n"
     ]
    },
    {
     "name": "stdout",
     "output_type": "stream",
     "text": [
      "+---+---+---+\n",
      "| X | O | X |\n",
      "+---+---+---+\n",
      "|   | O |   |\n",
      "+---+---+---+\n",
      "| O |   | X |\n",
      "+---+---+---+\n"
     ]
    },
    {
     "name": "stdin",
     "output_type": "stream",
     "text": [
      "Turn player X : 6\n"
     ]
    },
    {
     "name": "stdout",
     "output_type": "stream",
     "text": [
      "+---+---+---+\n",
      "| X | O | X |\n",
      "+---+---+---+\n",
      "|   | O | X |\n",
      "+---+---+---+\n",
      "| O |   | X |\n",
      "+---+---+---+\n",
      "Player X >>> WIN\n"
     ]
    }
   ],
   "source": [
    "from texttable import Texttable\n",
    "import random\n",
    "\n",
    "print(\"Game start ...\")\n",
    "print(\"When your turn, choose a number.\")\n",
    "\n",
    "table = Texttable()\n",
    "table.add_rows([[], [1, 2, 3], [4, 5, 6], [7, 8, 9]])\n",
    "print(table.draw())\n",
    "\n",
    "history = [[],[\"\", \"\", \"\"], [\"\", \"\", \"\"], [\"\", \"\", \"\"]]\n",
    "b = random.randint(0, 1)\n",
    "e = b + 8\n",
    "input_number = 0\n",
    "\n",
    "while input_number != 10:\n",
    "    if (b%2) == 0:\n",
    "        player = \"O\"\n",
    "    else:\n",
    "        player = \"X\"\n",
    "    b = b + 1\n",
    "    \n",
    "    input_number = int(input('Turn player '+player+' :'))\n",
    "    history = print_table(input_number, history, player)\n",
    "\n",
    "    if check_win_loss(history, player):\n",
    "        print(\"Player \"+player+\" >>> WIN\")\n",
    "        break\n",
    "    elif b > e:\n",
    "        print(\"Players X/O >>> Draw\")\n",
    "        break\n"
   ]
  },
  {
   "cell_type": "code",
   "execution_count": null,
   "id": "d3b1d13f-6eab-41eb-8563-a33e0d837a1e",
   "metadata": {},
   "outputs": [],
   "source": []
  }
 ],
 "metadata": {
  "kernelspec": {
   "display_name": "Python 3 (ipykernel)",
   "language": "python",
   "name": "python3"
  },
  "language_info": {
   "codemirror_mode": {
    "name": "ipython",
    "version": 3
   },
   "file_extension": ".py",
   "mimetype": "text/x-python",
   "name": "python",
   "nbconvert_exporter": "python",
   "pygments_lexer": "ipython3",
   "version": "3.12.6"
  }
 },
 "nbformat": 4,
 "nbformat_minor": 5
}
