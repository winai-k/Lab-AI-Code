{
 "cells": [
  {
   "cell_type": "code",
   "execution_count": 1,
   "metadata": {
    "id": "2nL21NgbPwoz"
   },
   "outputs": [],
   "source": [
    "from sklearn.datasets import make_classification\n",
    "import matplotlib.pyplot as plt\n",
    "import numpy as np\n"
   ]
  },
  {
   "cell_type": "code",
   "execution_count": 2,
   "metadata": {
    "id": "qcErpdMiSSnd"
   },
   "outputs": [],
   "source": [
    "x, y = make_classification(n_samples=1000,     # Number of samples\n",
    "                           n_features=10,      # Number of features (independent variables)\n",
    "                           n_classes=2,        # Number of output classes (binary classification)\n",
    "                           n_informative=3,    # Number of informative features\n",
    "                           n_redundant=2,      # Number of redundant features (linear combinations)\n",
    "                           random_state=42)    # Seed for reproducibility"
   ]
  },
  {
   "cell_type": "code",
   "execution_count": 3,
   "metadata": {
    "colab": {
     "base_uri": "https://localhost:8080/"
    },
    "id": "jjnrNH81SYrk",
    "outputId": "31cb2bd3-5b29-4c5a-d2c2-3229ac1672dd"
   },
   "outputs": [
    {
     "data": {
      "text/plain": [
       "((1000, 10), (1000,))"
      ]
     },
     "execution_count": 3,
     "metadata": {},
     "output_type": "execute_result"
    }
   ],
   "source": [
    "x.shape, y.shape"
   ]
  },
  {
   "cell_type": "markdown",
   "metadata": {
    "id": "ytvG3wBgR6Uc"
   },
   "source": []
  },
  {
   "cell_type": "markdown",
   "metadata": {
    "id": "u3TL-OJASBcs"
   },
   "source": [
    "# Linear Combination\n",
    "\n",
    "$$\\pi = \\beta_0 + \\beta_1x_1+\\ldots+\\beta_kx_k$$\n",
    "\n",
    "โดย\n",
    "- $\\beta_0$ คือ intercept\n",
    "- Coefficients สำหรับแต่ละ features $x_i$ ถูกแสดงโดย $\\beta_i$.\n",
    "\n"
   ]
  },
  {
   "cell_type": "code",
   "execution_count": 6,
   "metadata": {
    "id": "oaylYl_YSoIe"
   },
   "outputs": [],
   "source": [
    "# 1. สุ่มสร้าง beta_i เริ่มต้น\n",
    "beta_i = np.random.rand(10)"
   ]
  },
  {
   "cell_type": "code",
   "execution_count": 7,
   "metadata": {
    "id": "umVnVhZuWKvV"
   },
   "outputs": [],
   "source": [
    "# 2. สุ่มสร้าง beta_0 เริ่มต้น\n",
    "beta_0 = np.random.rand(1)"
   ]
  },
  {
   "cell_type": "code",
   "execution_count": 9,
   "metadata": {
    "id": "9VMyw17uRw_V"
   },
   "outputs": [
    {
     "data": {
      "text/plain": [
       "array([-1.89800237e+00,  3.05484385e+00, -1.08250524e+00, -1.15782798e+00,\n",
       "        6.49065130e+00,  3.29556964e+00,  3.74794154e+00,  2.74479314e+00,\n",
       "        1.47101131e+00,  4.04516305e+00,  1.80151041e+00,  6.11071570e+00,\n",
       "        1.98155667e+00,  1.95279042e+00, -1.28758045e+00,  1.01878837e-01,\n",
       "        3.45744620e+00,  2.69038166e+00,  3.77805239e-01,  4.37586579e-01,\n",
       "       -2.32463207e-01,  2.53162042e+00,  2.69018010e+00,  1.68704702e+00,\n",
       "        4.22578991e+00,  2.17352049e+00,  3.71008969e+00,  2.89584666e+00,\n",
       "        3.53512513e+00,  1.47385032e+00, -3.76804783e+00,  2.23242843e+00,\n",
       "       -1.96101040e+00,  3.37518312e+00,  4.40822131e+00,  1.15110382e+00,\n",
       "       -2.64162241e+00,  4.25635892e+00,  1.11847155e+00,  1.27652341e+00,\n",
       "        3.12053896e+00,  4.65395523e+00, -4.93150331e-01,  4.15967475e+00,\n",
       "        1.78898443e+00,  1.26639014e+00,  4.07054062e+00,  1.09947834e+00,\n",
       "        1.03282472e+00,  2.81199235e+00,  4.24009280e+00,  1.75535776e+00,\n",
       "        3.88636609e+00,  3.49343175e+00,  4.44046474e+00,  1.71270109e+00,\n",
       "        1.55086629e+00,  3.06895332e+00,  1.25098365e+00, -3.30545402e+00,\n",
       "       -1.30872685e+00, -4.25450220e+00, -2.30266659e+00,  1.37359817e+00,\n",
       "        4.34833176e-01,  5.54696757e-01, -2.27388008e+00,  6.35298390e+00,\n",
       "       -1.47130785e+00, -1.96407855e+00,  2.26118232e+00, -6.08992010e-01,\n",
       "        8.07612867e-01,  1.13466708e+00,  3.88792141e+00,  2.90663405e-01,\n",
       "        2.01299278e+00,  4.12979160e+00,  4.56783789e+00,  9.05872598e-01,\n",
       "       -9.02786643e-01, -2.01882729e+00,  3.22038302e+00, -4.39489649e+00,\n",
       "        2.88225264e-01,  3.55470297e+00,  2.29383464e+00,  9.94615933e-01,\n",
       "       -2.47644270e-01,  1.29326511e+00,  2.42760297e+00,  2.31239219e+00,\n",
       "        5.06496599e+00, -2.34756473e+00, -3.88911662e+00, -7.55870649e+00,\n",
       "       -1.98144483e+00,  5.33776810e+00, -1.65234326e+00,  9.02368876e-01,\n",
       "        6.59353020e-01,  1.95669115e+00,  1.19048703e+00,  5.70935696e-01,\n",
       "        4.46256608e+00, -9.36460170e-01, -7.24795472e-03,  4.00961181e+00,\n",
       "       -8.87196859e-01, -3.34164918e+00, -2.53283696e+00, -2.63129170e+00,\n",
       "       -4.34762079e+00, -6.19048532e-01,  4.00515154e+00, -4.08182713e+00,\n",
       "        5.91063437e+00,  1.81734076e+00,  1.42200840e+00,  4.93784824e+00,\n",
       "        1.18459118e+00,  3.72250271e+00,  3.29714406e+00,  2.43689545e+00,\n",
       "        4.37023002e+00,  4.06312308e+00,  2.39465883e+00,  1.32113745e+00,\n",
       "       -1.05554725e+00,  3.27080839e+00,  3.16501881e+00,  4.29911061e+00,\n",
       "        1.63342528e+00,  1.83197226e+00,  3.31190392e+00,  2.82276220e+00,\n",
       "        4.87716139e+00,  7.60349053e-01,  3.13118797e+00, -7.01022608e-02,\n",
       "       -1.04454205e+00,  2.79826539e+00,  3.42668084e+00, -1.20383630e+00,\n",
       "        1.47741812e+00,  3.30985315e+00,  2.18306733e+00,  1.13276025e+00,\n",
       "        2.47638794e+00, -4.91837980e+00,  1.95273265e+00,  8.19274374e-01,\n",
       "       -7.14855393e+00, -9.14323272e-01, -2.38322445e+00,  5.23199417e+00,\n",
       "        3.52758101e+00,  2.29478108e+00, -2.39990258e+00,  2.89652021e+00,\n",
       "        4.15276949e+00, -2.65444578e+00, -7.56032222e-01,  5.49308144e+00,\n",
       "        4.74630184e+00,  5.32471134e+00, -5.11852125e-01,  1.18440891e+00,\n",
       "        3.32015909e+00,  4.43765149e+00,  1.72006165e+00,  3.84060946e+00,\n",
       "        2.89818082e+00,  2.46579740e+00, -2.00954961e+00,  3.26625495e+00,\n",
       "        6.68781381e-01,  5.59299614e+00,  1.58779545e+00, -2.21399067e+00,\n",
       "       -3.94271229e+00, -7.44114962e+00, -3.79169414e+00,  2.65080517e+00,\n",
       "       -3.27341936e-01,  1.21385104e+00, -1.49351214e+00,  4.23107925e+00,\n",
       "        2.27024087e+00,  4.08013671e-01,  5.09756418e+00,  3.79282902e+00,\n",
       "        1.31538231e+00,  7.70043924e-01,  3.78413250e+00,  1.86957129e+00,\n",
       "       -1.40995056e+00, -1.05633331e+00, -2.31447315e+00,  1.19207684e+00,\n",
       "        5.03439861e+00, -4.00787196e-01, -7.22853990e+00, -3.19430402e-01,\n",
       "       -1.32429082e+00,  5.92535948e+00,  2.69324653e+00, -1.89102745e+00,\n",
       "        4.37117305e+00, -1.41312353e-01,  5.21627637e+00,  2.17375474e+00,\n",
       "        1.30858660e+00, -4.85590807e-01,  2.35852599e+00,  2.44743388e+00,\n",
       "        9.00397158e-01,  2.16395975e+00, -3.13378037e-01,  6.64862481e-01,\n",
       "       -7.78838420e+00,  1.13471864e+00, -3.50906047e+00,  4.37307035e+00,\n",
       "        4.90653062e+00,  3.39635921e+00,  1.36787454e+00,  3.45978285e+00,\n",
       "        2.47868762e+00,  2.64062143e+00, -5.27073125e+00,  3.51353928e-01,\n",
       "       -4.10097093e+00,  6.90001412e-01,  5.83508499e+00,  2.99072122e+00,\n",
       "        4.34323914e+00, -3.63940826e+00,  2.88737700e+00,  2.82108444e+00,\n",
       "        9.87594561e-01,  4.30992670e+00,  2.45760603e+00,  2.22523504e+00,\n",
       "        5.93741330e+00,  1.02715784e+00, -7.48295748e-02,  3.65119850e+00,\n",
       "       -1.01508546e-01,  5.84629295e+00,  1.15893804e+00,  4.78663973e+00,\n",
       "        7.60628499e+00,  5.44225448e+00,  4.01404499e+00, -1.34219130e+00,\n",
       "        1.47224550e+00,  5.52375365e+00,  1.49055739e+00,  2.50000117e+00,\n",
       "        1.26562109e+00,  5.21413991e+00,  6.03375144e+00,  5.12906552e+00,\n",
       "        7.14447084e-01,  3.80024483e+00,  2.05294309e+00, -3.15935454e+00,\n",
       "        3.63216194e+00, -1.78481900e+00,  1.10135020e+00,  2.65613933e+00,\n",
       "        2.38292988e-01,  1.06327151e-01, -4.69624390e+00,  2.95442072e+00,\n",
       "       -1.01000494e+00,  6.70098069e-02, -9.41186851e-03, -1.84846454e+00,\n",
       "        5.60414884e+00,  3.94985296e+00, -1.05672843e+00, -9.80130802e-01,\n",
       "        3.19141971e+00,  1.74054704e-01, -1.45572082e+00,  2.69995421e+00,\n",
       "       -1.18776783e+00,  5.50965020e-01,  6.68856221e-02,  4.09181562e+00,\n",
       "        1.74784230e+00, -3.91219248e+00,  5.36062291e+00,  3.38199420e-01,\n",
       "        9.32195370e-01, -3.63105060e+00,  3.07747249e+00,  1.15360308e+00,\n",
       "        5.37003998e-01,  5.18251968e+00,  2.07106879e-01,  1.89022934e+00,\n",
       "        4.01166033e-01,  4.50038066e+00, -2.28920268e+00, -5.88464076e+00,\n",
       "        3.90587845e+00,  3.65246904e+00,  1.28130860e+00, -2.87930830e-02,\n",
       "        2.97016779e+00,  4.08117790e+00,  2.14202739e+00,  1.25854278e+00,\n",
       "        1.33586209e+00, -1.80864188e+00, -2.41112275e+00, -4.67570879e-01,\n",
       "       -3.62912509e+00, -4.30448125e+00,  8.60183695e-02,  1.19187620e+00,\n",
       "        2.21328204e+00,  5.17970716e-01,  3.47448085e-01,  8.30586173e-01,\n",
       "       -1.56700313e+00, -2.23681650e+00, -3.19007688e-01,  2.05715758e+00,\n",
       "        2.85175400e+00,  2.31949373e+00,  3.57129663e+00, -4.09471859e+00,\n",
       "       -2.97508805e+00,  1.79007050e+00,  2.84773818e+00, -6.31496884e-01,\n",
       "        7.73291977e-01,  3.06788297e+00,  2.30950252e+00,  3.26666437e+00,\n",
       "        1.66414495e+00,  2.74006602e-01, -3.45072474e-01, -4.23610976e-01,\n",
       "       -1.08809048e-02, -1.47885200e+00,  2.52629298e+00, -2.26583312e+00,\n",
       "        2.53811659e+00, -3.02368527e+00, -4.24151998e-01, -1.11647446e+00,\n",
       "        3.95276197e+00,  3.22173180e-01,  3.56264055e+00,  1.73891980e+00,\n",
       "        1.12864570e+00,  5.10995704e+00,  6.61494116e-01, -2.83484936e+00,\n",
       "       -2.43378991e+00,  2.57864821e+00, -2.44205919e+00,  7.02530516e+00,\n",
       "        5.36784412e-01,  5.73703525e+00, -1.11512696e+00,  1.37558370e+00,\n",
       "        1.54443686e-01, -7.18203634e-01,  6.12108046e+00, -3.86933851e+00,\n",
       "        5.11132338e+00,  8.27747398e+00, -9.85355804e-01,  3.24129542e+00,\n",
       "       -2.98153542e+00,  4.23943260e+00,  4.32948057e+00, -2.70729733e+00,\n",
       "        2.45945909e+00,  7.55072372e+00, -8.22972806e-01, -3.46434981e+00,\n",
       "        6.27674954e+00,  1.46170049e+00,  2.97827126e+00, -2.01269988e+00,\n",
       "        3.61840510e+00,  2.30798109e+00,  2.54680910e+00,  1.82718684e+00,\n",
       "       -3.57799593e+00,  2.20298018e+00,  2.36993772e+00,  2.62771150e-01,\n",
       "       -4.79182912e+00,  4.91171903e-01, -1.85788134e+00,  6.15362514e+00,\n",
       "       -6.58022974e-01, -8.19896298e-01, -1.40475714e-01, -2.35306935e+00,\n",
       "       -4.75748140e+00, -2.99291159e+00,  3.59687904e+00, -1.91208079e+00,\n",
       "        2.16636416e+00, -2.63058022e+00,  4.83993738e+00,  1.98252368e+00,\n",
       "       -1.60130807e+00,  1.07700157e+00, -1.05802322e+00,  1.28578579e+00,\n",
       "        1.99986223e+00,  9.09032899e-01,  1.88337758e+00,  4.53011275e+00,\n",
       "        7.38027812e-01,  2.70836530e-01,  4.63083949e+00,  4.95811478e-01,\n",
       "       -2.17382121e-01,  4.63423884e+00,  1.40930647e+00, -1.92022409e+00,\n",
       "       -9.84977568e-01,  2.61837048e+00, -1.68204937e+00,  1.69893761e+00,\n",
       "       -2.01164196e+00,  2.31009425e+00, -5.23576437e-01, -1.11313534e+00,\n",
       "        6.49006878e+00,  5.41675563e+00,  3.61347246e+00,  2.81218919e-02,\n",
       "       -5.19270464e+00,  2.18040679e+00,  1.12053451e+00,  6.47672485e+00,\n",
       "        4.53523335e+00,  2.45423308e+00, -4.68801060e+00, -2.53092240e+00,\n",
       "        1.80145609e+00,  2.05018931e+00,  2.21114042e+00, -9.18118170e-01,\n",
       "       -2.85329611e-01,  6.05630022e-01,  4.42753469e+00,  2.43571140e+00,\n",
       "        1.33828900e+00,  5.22759814e+00,  2.16111436e+00,  1.66946745e-01,\n",
       "       -5.22440971e+00,  6.09035767e-02, -1.01346481e+00,  8.01908326e-01,\n",
       "        1.83692374e+00, -8.65341944e-02,  1.38362178e-01, -4.35159917e-01,\n",
       "        4.08674623e+00,  4.13033591e+00,  6.70639760e+00,  2.73153440e+00,\n",
       "        1.80863517e-01,  5.66242493e-01, -3.83203166e+00, -2.37163583e+00,\n",
       "       -3.71251456e+00, -3.77773513e+00, -3.05318977e-01,  1.89949709e+00,\n",
       "        3.18753426e+00, -1.67174399e+00,  2.79544804e+00,  1.66075645e+00,\n",
       "       -3.89517381e+00, -1.04476298e+00,  7.59361646e+00,  3.15241038e+00,\n",
       "       -7.32821875e+00,  1.45853696e+00,  1.92053901e+00,  5.34902079e-01,\n",
       "       -1.41810324e+00,  1.37077618e+00, -5.42921479e-01, -2.55078984e+00,\n",
       "        2.78823927e+00,  4.27629121e+00,  6.65349718e+00, -5.17634262e+00,\n",
       "        6.24655987e+00,  3.04241691e+00, -2.13994459e+00,  2.20563098e-01,\n",
       "        5.35667980e+00,  4.27133502e+00, -3.63701858e+00,  5.81914562e+00,\n",
       "       -3.50660873e-02,  5.74675961e+00,  2.98023447e+00, -1.09092485e+00,\n",
       "       -3.14950063e+00,  7.91574474e-01,  8.09309578e+00,  7.03066679e+00,\n",
       "        2.38413854e+00,  7.88012392e+00, -1.66289735e+00,  1.81657739e+00,\n",
       "       -1.44790547e+00,  2.14742702e+00,  4.60596215e+00, -5.42997911e+00,\n",
       "        2.70716198e+00,  3.29913873e+00,  4.48096928e+00, -2.87405398e+00,\n",
       "       -5.76163628e-01,  3.01525914e+00, -4.82994763e+00, -1.86688370e+00,\n",
       "        2.35138633e+00,  2.03643933e+00,  4.63804937e+00,  8.11343615e-01,\n",
       "        1.74286517e+00, -2.99336681e+00,  1.72918627e+00,  1.80718669e+00,\n",
       "       -2.66703735e+00,  2.83348736e+00, -2.15378643e+00,  4.84928410e+00,\n",
       "       -1.58814539e-01,  7.07852189e+00,  1.00338931e+00,  1.81809248e+00,\n",
       "        3.02536576e+00,  5.74193201e-01,  5.98647431e+00, -5.00496045e+00,\n",
       "        3.64742460e+00,  3.21284152e-01,  3.06411165e+00,  4.79219662e+00,\n",
       "        4.84733813e+00,  5.24273254e+00, -2.22058168e+00, -2.49041400e+00,\n",
       "        2.01040010e+00, -6.10929924e-01,  4.67870230e+00,  5.93856652e+00,\n",
       "        2.20687416e+00,  3.57692027e+00, -5.26212263e-01,  1.31070862e+00,\n",
       "       -1.76543966e+00,  2.95532130e+00,  1.06107757e+00, -6.85622921e-02,\n",
       "       -6.41849176e+00,  1.17512572e+00,  2.25372961e+00, -2.74015218e+00,\n",
       "        1.72966394e+00,  4.20608921e+00,  2.73124822e+00,  2.13549687e+00,\n",
       "       -5.47830941e-01, -5.77994482e-01, -9.22250157e-01,  3.59245323e+00,\n",
       "       -8.45234088e-01,  7.18630064e-01,  4.56276814e+00,  3.32546427e+00,\n",
       "        4.01500829e+00, -7.87937079e-01,  1.80171283e+00,  1.71281225e+00,\n",
       "        1.81265027e+00,  6.86527235e-01,  2.16240181e+00,  5.85955543e+00,\n",
       "        5.15503480e+00,  1.72337284e+00,  5.21913827e+00,  3.92573164e+00,\n",
       "        3.06575437e-01,  1.89171315e+00,  2.06366410e+00, -2.47430713e+00,\n",
       "        7.64861753e-01,  4.31975897e+00,  1.51947611e+00,  4.66790650e+00,\n",
       "       -1.02178895e+00,  2.78523610e+00, -2.40396401e+00,  2.35914359e+00,\n",
       "       -1.88683986e+00,  5.14689689e+00,  6.94838916e+00,  2.22456572e+00,\n",
       "        1.51869227e+00, -8.57632442e-01,  6.48444806e-01,  2.19205017e+00,\n",
       "        7.48271398e+00,  9.99579001e-01,  4.02461220e+00, -3.91375602e+00,\n",
       "        2.31654025e+00, -5.04599996e+00,  3.90871840e+00,  5.08396622e+00,\n",
       "        2.18936619e+00,  1.55025252e+00,  3.90064200e+00, -1.57044745e+00,\n",
       "        4.48362140e+00, -4.81858970e+00,  1.21675915e+00,  6.37299705e+00,\n",
       "       -4.42726797e+00,  1.82623202e+00, -9.36448444e-01,  3.84496952e+00,\n",
       "        1.19671731e-01,  2.87370546e+00,  3.63102156e+00,  5.57251402e+00,\n",
       "       -7.24119622e-01,  1.26242697e+00,  5.26844563e+00,  1.26892779e+00,\n",
       "       -2.46048810e+00,  1.65939863e+00,  5.17122775e+00, -3.90811817e+00,\n",
       "       -1.54076144e+00,  4.41989016e+00, -2.45131226e+00,  2.65294640e+00,\n",
       "        1.55853036e+00,  2.06260773e-01, -2.43593553e+00,  6.42899878e+00,\n",
       "        3.25232933e+00, -9.16040923e-01, -3.44444460e+00, -6.51029491e+00,\n",
       "       -8.04832449e+00, -7.60519158e-01,  2.32225333e+00, -1.63520364e+00,\n",
       "        1.78609875e+00, -5.72429272e-01,  3.67102534e+00, -2.57420856e+00,\n",
       "        6.00930640e-01,  1.70241629e-01,  5.84131262e+00,  3.76012171e+00,\n",
       "       -2.75400575e+00, -3.55199874e-01, -3.31762477e-01,  7.42708984e-01,\n",
       "        1.53138129e+00, -3.97749038e+00, -1.24371779e-02,  2.18272363e+00,\n",
       "       -2.86136472e+00,  1.13031801e+00, -1.15895909e-01,  1.15890041e+00,\n",
       "       -2.03876551e+00, -6.60811528e-01,  2.66817412e+00,  3.33496198e+00,\n",
       "       -1.43930348e+00,  1.99027702e+00,  4.70711960e+00,  4.57358841e-01,\n",
       "        8.63216953e-01,  6.91092763e-01,  1.40863180e+00,  4.05489926e+00,\n",
       "       -2.68876165e+00,  4.14329790e-02, -4.80715354e-02, -3.05625082e-01,\n",
       "        1.52101405e+00, -2.13629819e+00,  1.60518927e+00,  3.28306639e+00,\n",
       "       -4.31457924e+00,  6.57903049e+00,  2.54719526e+00,  2.30298357e-01,\n",
       "       -1.07083567e+00,  5.34745330e+00, -7.92837473e-02,  2.19190632e+00,\n",
       "       -2.21884743e-01, -5.94190421e+00,  1.22005888e+00,  4.29648748e+00,\n",
       "       -6.67278680e+00,  6.20154116e+00, -2.69862032e+00,  1.90019965e+00,\n",
       "       -6.97801181e-02, -3.95409156e+00,  2.03442838e+00,  3.93924108e+00,\n",
       "        2.64812242e+00,  5.04421647e+00, -5.08773412e+00,  1.43782013e+00,\n",
       "        1.35318101e+00,  4.25916628e+00,  2.31301002e+00, -7.41132286e-01,\n",
       "       -6.34432333e-01,  6.55521449e-02, -2.34729196e+00, -1.16962818e-01,\n",
       "       -1.30138039e+00,  5.25489558e+00,  4.36740043e+00, -9.01890001e-01,\n",
       "        6.46858061e+00, -4.40706740e-01,  3.91454749e+00, -1.30844192e+00,\n",
       "        3.57680284e-01, -2.37781283e+00,  3.93194344e-01,  2.77454758e+00,\n",
       "        2.35186472e-01,  1.10592746e+00,  2.78012678e+00, -6.76306907e-01,\n",
       "        6.54245717e+00,  3.28551994e+00, -4.53692628e-01,  1.86992165e+00,\n",
       "        4.28033625e+00, -2.21454345e+00, -2.61677181e+00,  2.39167410e+00,\n",
       "        2.85696149e+00,  1.10423995e+00,  4.78913953e+00,  7.18398536e+00,\n",
       "       -2.45411375e+00,  1.88070166e+00, -4.85159705e+00,  1.29783370e+00,\n",
       "        4.03955161e+00,  1.23999167e+00,  2.75148408e+00, -1.97541236e+00,\n",
       "        4.25876999e+00,  5.93029179e+00,  4.36715869e+00,  5.51976634e+00,\n",
       "        1.09323140e+00,  6.60779509e-01,  1.78499513e+00,  3.08991415e+00,\n",
       "        3.74566148e+00,  3.80399539e+00,  5.33168433e+00,  1.35482189e+00,\n",
       "       -3.77549908e-01,  8.15796657e-01, -3.18781842e-01,  4.53769170e+00,\n",
       "        3.65403254e+00,  3.86321639e+00, -3.52401213e-01,  1.11530566e-01,\n",
       "        2.16627526e-01,  1.45944632e+00,  7.12631473e+00, -5.62747010e+00,\n",
       "       -3.40193119e+00, -4.32937300e+00, -1.13865350e+00, -1.97064408e+00,\n",
       "        1.26975479e+00,  2.06045049e-02, -1.07084628e+00, -1.05668837e+00,\n",
       "        6.30069896e-02,  2.83085374e+00,  2.32184474e+00,  1.60762612e+00,\n",
       "       -1.93845466e-01, -2.51263740e+00, -7.46565127e-01,  1.47051448e+00,\n",
       "        3.02637415e+00, -2.51576865e+00,  3.01492118e-01,  5.95334247e-01,\n",
       "        5.82011555e+00, -1.07336307e+00,  1.86276193e+00,  4.03244251e+00,\n",
       "       -4.54246934e+00, -5.38331390e-01,  7.32511055e-01,  1.32438046e+00,\n",
       "       -2.47316753e+00,  1.37113865e+00, -1.15215793e+00,  5.35594418e-01,\n",
       "        1.81051540e+00,  1.97377079e+00, -8.25128799e+00,  1.58395045e+00,\n",
       "       -9.18700697e-01,  1.17525152e+00,  2.24977381e+00,  2.28709245e+00,\n",
       "        1.91894338e-01, -1.76159748e+00,  2.31069859e+00,  1.84789004e+00,\n",
       "       -1.20806597e+00,  1.23108908e+00,  3.92549109e+00,  4.88538943e+00,\n",
       "        2.79652710e+00, -2.12999400e+00,  8.76139894e-01,  5.09378686e+00,\n",
       "        1.39698173e+00, -3.75551151e+00,  2.98019381e+00,  2.12717932e+00,\n",
       "        6.07503714e-01,  9.78935087e-01,  1.77745580e+00, -1.08454384e+00,\n",
       "        1.34457065e+00,  7.15434444e+00,  4.43827474e-01,  1.25107423e+00,\n",
       "        6.65775269e-01, -1.69997161e+00,  1.41197666e+00,  1.46815073e+00,\n",
       "       -1.03385279e+00,  5.79861178e+00,  4.59739886e+00,  3.05640468e+00,\n",
       "        4.11219025e-01, -3.62790945e-02, -3.98680146e+00,  2.26453564e+00,\n",
       "        4.65895106e+00,  6.22745310e+00, -4.75211228e+00,  7.85069975e-03,\n",
       "        1.49015014e+00,  4.85407026e+00,  2.78385049e+00,  5.90988898e+00,\n",
       "        5.39869677e+00,  1.67189366e-01, -5.34588174e-01, -1.15063626e+00,\n",
       "        2.32087362e+00,  1.07220133e+00,  9.65432076e-02,  3.11968991e+00,\n",
       "       -1.40724823e+00,  1.14164661e+00,  2.06426423e+00,  1.38867522e+00,\n",
       "        2.07584582e+00, -5.49116377e-01,  3.26267036e+00, -3.27806386e-01,\n",
       "       -8.17724001e-01, -5.00129604e+00,  1.58310450e+00, -5.86600656e+00,\n",
       "       -5.36715872e+00, -3.81883017e+00,  3.33010637e-01,  7.32114375e-01,\n",
       "        9.79155478e-01,  1.24460929e-01,  1.50406990e+00, -1.31105379e+00,\n",
       "       -3.48040241e+00,  2.78748480e+00,  1.56579685e+00,  8.80515242e-01,\n",
       "        5.63825013e-01,  6.81785337e+00,  6.98340451e-01, -7.07291168e-01,\n",
       "        2.09162052e+00, -4.34126990e+00, -8.27984504e+00,  5.31047952e+00,\n",
       "       -1.32497925e+00,  3.69173573e+00,  1.31221260e+00, -1.96039526e-01,\n",
       "       -3.74354651e+00,  4.45965798e+00,  6.39874065e+00, -4.55952708e+00,\n",
       "        3.24168744e+00,  2.96254892e+00, -3.23506121e+00,  2.63895047e+00,\n",
       "        1.86051421e+00,  1.79679088e+00, -3.09339832e+00, -2.57788292e-01,\n",
       "        8.74443884e-01,  1.89566372e+00,  1.93002997e+00, -9.23497224e-01,\n",
       "        2.11042752e+00,  2.73343744e+00,  1.94223692e+00,  9.84020691e-01,\n",
       "       -1.83385952e+00,  2.71365880e+00,  4.19875130e+00,  1.09507458e+00,\n",
       "       -8.21360652e-01,  4.51273887e+00,  1.97201023e+00,  2.48904707e+00,\n",
       "        6.59033799e+00,  1.51285154e+00,  5.86269927e-01, -7.99733095e-01,\n",
       "        1.57874101e+00, -3.97708456e-01,  3.84695419e+00,  2.20550125e+00,\n",
       "        4.37442033e+00,  6.75455933e+00,  3.31335998e+00, -2.00679721e+00,\n",
       "        6.62161443e+00,  5.87945093e+00,  1.64010941e+00,  2.71322064e+00,\n",
       "        1.89587183e+00, -3.30715118e+00, -7.51257930e-01, -2.46344881e+00,\n",
       "        1.16214200e+00,  2.67468160e+00, -1.35803822e+00, -5.18675845e-01,\n",
       "        4.81711720e+00,  5.51472946e+00,  3.07831773e+00,  1.23266760e+00,\n",
       "        1.76205502e+00,  2.83380512e+00, -3.06242397e+00, -1.35381238e+00,\n",
       "       -6.36353927e-01,  2.38921294e+00,  1.36230703e+00,  1.96371140e+00,\n",
       "       -2.38658147e+00,  5.02481342e+00,  2.11100475e+00,  1.07282976e+00])"
      ]
     },
     "execution_count": 9,
     "metadata": {},
     "output_type": "execute_result"
    }
   ],
   "source": [
    "# 3. สร้างตัวแปร pi ตามตัวอย่างด้านบน\n",
    "pi = beta_0 + np.dot(x, beta_i)\n",
    "pi"
   ]
  },
  {
   "cell_type": "markdown",
   "metadata": {
    "id": "9p-cjfS-SyZ9"
   },
   "source": [
    "# Sigmoid function\n",
    "$$Sigmoid(k) = \\frac{1}{1+e^{k}}$$\n",
    "\n",
    "ถ้าเราใส่ $\\pi$ เข้าไปยังฟังก์ชั่น Sigmoid จะได้ค่าความน่าจะเป็นออกมา\n",
    "\n",
    "$$probability = Sigmoid(\\pi) = \\frac{1}{1+e^{\\pi}}$$"
   ]
  },
  {
   "cell_type": "code",
   "execution_count": 10,
   "metadata": {
    "id": "J0BuLz-sTPQN"
   },
   "outputs": [],
   "source": [
    "# ตัวอย่างโค้ดสำหรับ Sigmoid function\n",
    "\n",
    "sigmoid = lambda k: 1 / (1+np.exp(-k))"
   ]
  },
  {
   "cell_type": "code",
   "execution_count": 11,
   "metadata": {
    "colab": {
     "base_uri": "https://localhost:8080/",
     "height": 473
    },
    "id": "x_xYpN_XTki9",
    "outputId": "b442064d-3b30-47a7-fd34-26db21a79eaf"
   },
   "outputs": [
    {
     "data": {
      "image/png": "[encoded data removed]",
      "text/plain": [
       "<Figure size 640x480 with 1 Axes>"
      ]
     },
     "metadata": {},
     "output_type": "display_data"
    }
   ],
   "source": [
    "pi = np.linspace(-4, 4, 100)\n",
    "plt.plot(pi, sigmoid(pi))\n",
    "plt.xlabel('$\\pi$', fontsize=28)\n",
    "plt.ylabel(\"sigmoid value\", fontsize=28)\n",
    "plt.savefig(\"sigmoid.png\");"
   ]
  },
  {
   "cell_type": "code",
   "execution_count": 13,
   "metadata": {
    "id": "q8BZasdkTrT8"
   },
   "outputs": [
    {
     "data": {
      "text/plain": [
       "0.01798620996209156"
      ]
     },
     "execution_count": 13,
     "metadata": {},
     "output_type": "execute_result"
    }
   ],
   "source": [
    "# ทดลอง นำค่า pi ส่งเข้าไปยัง Sigmoid function\n",
    "np.min(sigmoid(pi))"
   ]
  },
  {
   "cell_type": "code",
   "execution_count": 14,
   "metadata": {},
   "outputs": [
    {
     "data": {
      "text/plain": [
       "0.9820137900379085"
      ]
     },
     "execution_count": 14,
     "metadata": {},
     "output_type": "execute_result"
    }
   ],
   "source": [
    "np.max(sigmoid(pi))"
   ]
  },
  {
   "cell_type": "markdown",
   "metadata": {
    "id": "5c4VB7UL0xNX"
   },
   "source": [
    "# Cost Function: Cross-Entropy\n",
    "\n",
    "$$J(\\theta) = -\\frac{1}{m} \\sum_{i=1}^{m} \\left[ y^{(i)} \\log(h_\\theta(x^{(i)})) + (1 - y^{(i)}) \\log(1 - h_\\theta(x^{(i)})) \\right]$$\n",
    "\n",
    "where:\n",
    "- $ J(\\theta) $ คือ cost function,\n",
    "- $ m $ คือ จำนวน training examples,\n",
    "- $ y^{(i)} $ คือ label ของ training example ที่ $ i $th ,\n",
    "- $ h_\\theta(x^{(i)}) $ คือ probability ที่ถูกทำนาย จาก  example ที่ $ i $th\n",
    "- $ x^{(i)} $ คือ feature vector ที่ $ i $th ของ training example."
   ]
  },
  {
   "cell_type": "code",
   "execution_count": null,
   "metadata": {
    "id": "DqOIr29z14gU"
   },
   "outputs": [],
   "source": []
  },
  {
   "cell_type": "markdown",
   "metadata": {
    "id": "4sjrUaxzUDut"
   },
   "source": [
    "# Gradient Decent\n",
    "\n",
    "New Parameter = Old Parameter − Learning Rate × Gradient\n",
    "\n",
    "$$\\theta_{\\text{new}} = \\theta_{\\text{old}} - \\alpha \\cdot \\nabla J(\\theta)$$\n",
    "\n",
    "- $ \\theta_{\\text{new}} $ คือ parameter values ที่ได้รับการอัพเดทให้ดีขึ้นจาก parameter values ก่อนหน้า\n",
    "- $ \\theta_{\\text{old}} $ คือ parameter values ก่อนหน้า\n",
    "- $ \\alpha $ (alpha) คือ learning rate,\n",
    "- $ \\nabla J(\\theta) $ คือ **gradient** ของ **cost function** ซึ่งสอดคล้องกับ parameters $ \\theta $."
   ]
  },
  {
   "cell_type": "markdown",
   "metadata": {
    "id": "JiUhSA-m2Aeb"
   },
   "source": [
    "---\n",
    "\n",
    "$$\\beta_{new} = \\beta_{old} - \\alpha\\times [x^\\top\\cdot(\\hat y - y)] / m$$\n",
    "\n",
    "$$b_{new} = b_{old} - \\alpha\\times (\\hat y - y) / m$$"
   ]
  },
  {
   "cell_type": "code",
   "execution_count": null,
   "metadata": {
    "id": "1J9nNjUOUKki"
   },
   "outputs": [],
   "source": [
    "# Training loop\n",
    "learning_rate = 0.1\n",
    "num_epochs = 1000\n",
    "num_samples = y.shape[0]\n",
    "\n",
    "for epoch in range(num_epochs):\n",
    "    pi = np.dot(x, beta_i) + beta_0\n",
    "    y_pred = sigmoid(pi)\n",
    "\n",
    "    # Compute gradients\n",
    "    dBeta = np.dot(X.T, (y_pred - y)) / num_samples\n",
    "    db = np.sum(y_pred - y) / num_samples\n",
    "\n",
    "    # Update weights and bias\n",
    "    beta_i = beta_i - learning_rate * dBeta\n",
    "    beta_0 = beta_0 - learning_rate * db"
   ]
  },
  {
   "cell_type": "code",
   "execution_count": null,
   "metadata": {
    "id": "ZsgNnrSSXEHG"
   },
   "outputs": [],
   "source": []
  },
  {
   "cell_type": "code",
   "execution_count": null,
   "metadata": {
    "id": "GyFFlC0ich_f"
   },
   "outputs": [],
   "source": []
  }
 ],
 "metadata": {
  "colab": {
   "provenance": []
  },
  "kernelspec": {
   "display_name": "Python 3 (ipykernel)",
   "language": "python",
   "name": "python3"
  },
  "language_info": {
   "codemirror_mode": {
    "name": "ipython",
    "version": 3
   },
   "file_extension": ".py",
   "mimetype": "text/x-python",
   "name": "python",
   "nbconvert_exporter": "python",
   "pygments_lexer": "ipython3",
   "version": "3.10.15"
  }
 },
 "nbformat": 4,
 "nbformat_minor": 4
}
