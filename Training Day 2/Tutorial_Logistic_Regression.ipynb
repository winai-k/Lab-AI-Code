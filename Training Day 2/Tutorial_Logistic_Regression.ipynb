{
 "cells": [
  {
   "cell_type": "code",
   "execution_count": 2,
   "metadata": {
    "id": "2nL21NgbPwoz"
   },
   "outputs": [],
   "source": [
    "from sklearn.datasets import make_classification\n",
    "import matplotlib.pyplot as plt\n",
    "import numpy as np"
   ]
  },
  {
   "cell_type": "code",
   "execution_count": 3,
   "metadata": {
    "id": "qcErpdMiSSnd"
   },
   "outputs": [],
   "source": [
    "x, y = make_classification(n_samples=1000,     # Number of samples\n",
    "                           n_features=10,      # Number of features (independent variables)\n",
    "                           n_classes=2,        # Number of output classes (binary classification)\n",
    "                           n_informative=3,    # Number of informative features\n",
    "                           n_redundant=2,      # Number of redundant features (linear combinations)\n",
    "                           random_state=42)    # Seed for reproducibility"
   ]
  },
  {
   "cell_type": "code",
   "execution_count": 4,
   "metadata": {
    "colab": {
     "base_uri": "https://localhost:8080/"
    },
    "id": "jjnrNH81SYrk",
    "outputId": "31cb2bd3-5b29-4c5a-d2c2-3229ac1672dd"
   },
   "outputs": [
    {
     "data": {
      "text/plain": [
       "((1000, 10), (1000,))"
      ]
     },
     "execution_count": 4,
     "metadata": {},
     "output_type": "execute_result"
    }
   ],
   "source": [
    "x.shape, y.shape"
   ]
  },
  {
   "cell_type": "markdown",
   "metadata": {
    "id": "ytvG3wBgR6Uc"
   },
   "source": []
  },
  {
   "cell_type": "markdown",
   "metadata": {
    "id": "u3TL-OJASBcs"
   },
   "source": [
    "# Linear Combination\n",
    "\n",
    "$$\\pi = \\beta_0 + \\beta_1x_1+\\ldots+\\beta_kx_k$$\n",
    "\n",
    "โดย\n",
    "- $\\beta_0$ คือ intercept\n",
    "- Coefficients สำหรับแต่ละ features $x_i$ ถูกแสดงโดย $\\beta_i$.\n",
    "\n"
   ]
  },
  {
   "cell_type": "code",
   "execution_count": 5,
   "metadata": {
    "id": "oaylYl_YSoIe"
   },
   "outputs": [],
   "source": [
    "# 1. สุ่มสร้าง beta_i เริ่มต้น\n",
    "beta_i = np.random.rand(10)"
   ]
  },
  {
   "cell_type": "code",
   "execution_count": 6,
   "metadata": {
    "id": "umVnVhZuWKvV"
   },
   "outputs": [],
   "source": [
    "# 2. สุ่มสร้าง beta_0 เริ่มต้น\n",
    "beta_0 = np.random.rand(1)"
   ]
  },
  {
   "cell_type": "code",
   "execution_count": 7,
   "metadata": {
    "id": "9VMyw17uRw_V"
   },
   "outputs": [
    {
     "data": {
      "text/plain": [
       "array([-1.27663472e+00,  1.13738320e+00,  2.69747917e-01,  4.15932507e-01,\n",
       "        2.87688487e+00,  6.42140986e-01,  1.42442262e+00,  2.07369137e+00,\n",
       "        1.43423205e+00,  1.29994338e+00,  6.73180798e-01,  3.74151812e+00,\n",
       "        1.61215115e+00,  2.05157244e+00,  9.31161209e-01,  1.77890916e-01,\n",
       "        2.78111034e+00,  2.83700137e+00,  1.41589536e+00,  6.42591231e-01,\n",
       "        1.82229469e-01,  1.57481433e+00,  1.98335910e+00,  1.29144912e+00,\n",
       "        4.23325152e+00,  2.74973295e+00,  1.54094738e+00,  1.06696682e+00,\n",
       "        1.41697513e+00,  2.22781974e+00, -1.30001133e+00,  3.42691426e+00,\n",
       "       -8.39226578e-01,  2.85577167e+00,  2.79282208e+00,  1.57786754e+00,\n",
       "       -5.24310180e-01,  2.66191067e+00,  9.17641434e-01,  2.16467701e+00,\n",
       "        1.16919712e+00,  3.81206789e+00, -5.38321439e-01,  3.45467890e+00,\n",
       "        1.85320786e+00,  1.70607863e+00,  1.64159292e+00,  7.60295156e-01,\n",
       "        4.41003686e-01,  3.58729278e+00,  3.76122751e+00,  1.44321773e+00,\n",
       "        1.66886599e+00,  1.54258631e+00,  3.53310806e+00,  3.94827633e-01,\n",
       "        1.45255760e+00,  1.72846169e+00,  1.15651992e+00, -1.21543366e+00,\n",
       "        4.34198183e-01, -1.66449341e+00, -1.51392458e+00,  1.04215815e+00,\n",
       "        4.69794135e-01,  2.03275570e+00, -7.65411667e-01,  3.26513055e+00,\n",
       "        7.65562518e-01,  3.00499936e-01,  1.31693186e+00, -3.09773545e-01,\n",
       "        1.08319086e+00,  5.62595920e-01,  3.36562002e+00,  6.78871005e-01,\n",
       "        1.35071124e+00,  2.59332219e+00,  4.33616987e+00,  9.07460592e-01,\n",
       "       -2.70428420e-01,  2.61317331e-02,  2.94405223e+00,  1.08381900e-01,\n",
       "        1.92752524e+00,  1.84153100e+00,  2.36967726e+00,  7.07317380e-01,\n",
       "        1.45620172e+00,  1.93787419e+00,  2.54041008e+00,  1.50512079e+00,\n",
       "        3.68441306e+00, -2.57029457e-01, -1.02364251e+00, -3.05585875e+00,\n",
       "       -3.57796618e-01,  4.52596510e+00, -9.19402906e-01,  1.31285325e+00,\n",
       "       -6.49082142e-01,  8.82055347e-01,  7.51182922e-02,  1.10501362e+00,\n",
       "        1.43853572e+00,  6.72632470e-01,  5.28349152e-01,  2.87572690e+00,\n",
       "        1.41145585e-01,  8.01058923e-01, -4.17385138e-01, -7.65968237e-01,\n",
       "       -1.61206932e+00, -4.57967747e-02,  3.21725269e+00, -8.84543109e-01,\n",
       "        2.30088902e+00,  2.13446716e+00,  2.12536096e+00,  1.40477682e+00,\n",
       "        1.93742348e+00,  2.57105879e+00,  8.02299994e-01,  1.76651712e+00,\n",
       "        3.15771808e+00,  2.04404215e+00,  7.61261408e-01,  3.22602131e-01,\n",
       "        4.98424333e-01,  2.25370890e+00,  2.37753031e+00,  4.87842651e+00,\n",
       "        4.52626002e-01,  2.36966141e+00,  4.95012996e-01,  1.94390090e+00,\n",
       "        3.47547618e+00,  1.24398404e+00,  1.30267053e+00,  5.91366504e-01,\n",
       "       -1.42307867e+00,  2.37516971e+00,  2.61730914e+00, -5.17401728e-01,\n",
       "        1.10116098e+00,  1.10745131e+00,  1.61054525e+00,  1.49566117e+00,\n",
       "        1.42724499e+00, -1.60653947e+00,  6.13702822e-01,  1.12231326e+00,\n",
       "       -3.03532159e+00,  5.12453298e-03,  1.42783205e-01,  2.31439524e+00,\n",
       "        3.31098168e+00,  3.09400612e-01, -7.18828748e-01,  1.68322065e+00,\n",
       "        2.07506441e+00, -3.56118595e-01, -7.40326786e-01,  2.89790323e+00,\n",
       "        2.93025484e+00,  4.06381766e+00,  1.35010825e+00,  2.08935259e+00,\n",
       "        1.17430888e+00,  2.33067929e+00,  1.79906926e+00,  3.20031280e+00,\n",
       "        2.11909598e+00,  2.76117315e+00, -1.32999756e+00,  2.09668839e+00,\n",
       "        5.17700338e-01,  2.90404847e+00,  7.67881067e-01,  1.10062677e+00,\n",
       "       -9.00004877e-01, -2.74221399e+00,  3.24359773e-01,  2.00746109e+00,\n",
       "        1.10742003e+00,  1.11239012e+00, -3.80587741e-01,  2.21537155e+00,\n",
       "        2.26713557e+00,  1.24501118e+00,  4.19923433e+00,  3.11792927e+00,\n",
       "        8.72458968e-01,  1.31059011e+00,  1.96753671e+00,  1.25562733e+00,\n",
       "        1.67721394e-01, -2.45429688e-01,  6.75335812e-01,  1.56011344e+00,\n",
       "        3.78490393e+00, -6.30357519e-02, -3.34648866e+00,  3.66963267e-01,\n",
       "        6.67731639e-01,  4.52033369e+00,  1.19379348e+00,  1.80412787e+00,\n",
       "        2.02988000e+00, -4.16422516e-01,  2.31776997e+00,  1.08489406e+00,\n",
       "        1.00724794e+00,  5.49708053e-01,  2.60646822e+00,  1.80497034e+00,\n",
       "        2.51365046e+00,  2.25385340e+00,  1.09968148e-01, -4.36324249e-01,\n",
       "       -3.71798772e+00,  1.74690717e+00, -7.55741629e-01,  3.25885913e+00,\n",
       "        1.64257181e+00,  3.13253632e+00,  7.70513271e-01,  1.74587364e+00,\n",
       "        8.74073242e-01,  1.74944400e+00, -2.75942217e+00,  1.34081808e-01,\n",
       "       -2.39534226e+00,  2.73872830e-01,  3.68124546e+00,  1.36583193e+00,\n",
       "        2.57112496e+00, -1.86223622e+00,  2.45731051e+00,  2.17397222e+00,\n",
       "        1.07241417e+00,  3.39187221e+00,  8.83332776e-01,  2.71509167e+00,\n",
       "        4.36504644e+00,  1.48218775e+00,  3.05335387e-01,  2.63102065e+00,\n",
       "        1.93654228e+00,  3.53325898e+00,  2.57049991e-01,  1.44012944e+00,\n",
       "        3.03751245e+00,  2.96533855e+00,  3.13079435e+00, -5.11612257e-01,\n",
       "        2.04996103e+00,  4.08083186e+00, -2.89663920e-01,  8.80766659e-01,\n",
       "        1.39497175e+00,  4.09446268e+00,  4.60094422e+00,  3.40517711e+00,\n",
       "        6.88086052e-01,  2.73516483e+00,  7.88671930e-01,  3.53777255e-01,\n",
       "        2.32539500e+00, -7.03349959e-02,  2.42471186e+00,  2.67219219e+00,\n",
       "        2.86264783e+00,  1.87605457e+00, -1.05197306e+00,  9.11037153e-01,\n",
       "       -1.88828193e-01,  8.55833350e-01,  1.39328819e-01,  1.49077252e-01,\n",
       "        3.89149723e+00,  2.13445513e+00, -4.30860297e-01,  8.06850142e-01,\n",
       "        1.96478394e+00,  2.56143635e-01, -6.20568718e-01,  2.28701244e+00,\n",
       "        2.20424466e-01,  1.32598359e+00, -5.87394087e-01,  3.18640418e+00,\n",
       "        1.55561116e+00, -1.63520089e+00,  3.41288541e+00,  2.72678673e+00,\n",
       "        1.15804098e+00, -1.01455299e+00,  2.26312246e+00, -1.15196772e-02,\n",
       "        1.10771575e+00,  2.54900251e+00,  1.61248257e+00,  1.48326353e+00,\n",
       "       -1.47813297e-01,  2.27868033e+00, -7.75047813e-01, -7.19404287e-01,\n",
       "        2.14301442e+00,  2.92917669e+00,  3.35998552e-01,  1.62088122e+00,\n",
       "        1.12313737e+00,  2.91983108e+00,  1.33169074e+00,  2.38811558e+00,\n",
       "        1.18925237e+00, -1.18840630e+00, -2.60814717e+00,  7.87513022e-01,\n",
       "       -5.40340066e-01, -1.78220635e+00,  1.00750696e+00,  1.28054419e+00,\n",
       "        9.42430877e-01,  7.20947917e-01,  3.69362497e-01,  5.09173820e-01,\n",
       "        4.35869394e-01, -9.94405754e-02,  5.71987806e-01,  1.67377606e+00,\n",
       "        2.59946170e+00,  1.43885355e+00,  2.46240191e+00, -1.51114274e+00,\n",
       "       -5.82253594e-01,  3.05838121e+00,  3.02434108e+00,  6.71154092e-01,\n",
       "       -3.60658770e-02,  3.76835457e+00,  1.62492159e+00,  9.21301576e-01,\n",
       "        6.88568879e-01,  1.28534876e+00, -6.00388639e-01, -8.49187888e-01,\n",
       "        1.65169054e-01,  3.92484077e-01,  2.51357683e+00, -1.33803053e+00,\n",
       "        3.46488373e+00, -1.40883429e-01,  8.99723370e-01, -9.45225526e-01,\n",
       "        2.43030607e+00,  1.38030280e+00,  1.35444344e+00,  1.92758835e+00,\n",
       "        1.90419989e-01,  2.35627579e+00,  6.20835927e-01,  7.24626569e-01,\n",
       "       -1.89182747e+00,  2.22011162e+00, -1.44983403e+00,  3.87817272e+00,\n",
       "        1.11258151e+00,  1.82027625e+00,  1.39273009e+00,  2.61988936e+00,\n",
       "        1.16899309e+00,  9.83646153e-01,  3.79260497e+00, -1.22656120e+00,\n",
       "        2.66045243e+00,  3.43639742e+00, -9.12497812e-01,  2.55044285e+00,\n",
       "       -2.31329440e+00,  1.17450576e+00,  3.41675806e+00,  4.52235261e-01,\n",
       "        2.77489111e+00,  4.34911525e+00, -3.75119601e-01, -1.93644774e+00,\n",
       "        2.25759877e+00,  1.00492818e+00,  2.58124568e+00, -1.25362320e+00,\n",
       "        3.01424084e+00,  1.61712642e+00,  1.00916342e+00,  1.50443964e+00,\n",
       "       -4.63931404e-01,  9.43481197e-01,  2.80848662e+00,  2.40676643e+00,\n",
       "       -2.17474900e+00,  1.73828098e+00,  8.34118916e-01,  3.31014806e+00,\n",
       "        7.13105450e-01,  1.02839124e-02,  7.25715727e-01, -9.08355055e-01,\n",
       "       -6.21696977e-01, -9.54004674e-01,  2.45417126e+00, -6.81951948e-01,\n",
       "        2.77880680e+00, -8.18022851e-01,  2.68640299e+00,  2.42531348e-01,\n",
       "        2.17582882e-01,  6.43184876e-01,  1.66365111e+00,  2.19632880e-01,\n",
       "        1.40045216e+00, -1.25426947e-01, -6.21112387e-02,  2.27344282e+00,\n",
       "        1.62658121e+00,  1.61115778e+00,  3.47799026e+00,  6.52656963e-01,\n",
       "        1.08051663e+00,  2.69844279e+00,  1.01454450e+00, -2.99198900e-01,\n",
       "       -4.65421954e-01,  1.46131942e+00, -1.09529351e+00,  2.01911130e+00,\n",
       "        3.06559688e-01,  3.24547392e+00,  6.48009152e-01,  4.65072031e-01,\n",
       "        2.66816401e+00,  2.52835170e+00,  2.78408471e+00,  9.47748636e-01,\n",
       "       -1.19020700e+00,  9.98690587e-01,  2.02971940e+00,  4.38028691e+00,\n",
       "        2.82587506e+00,  2.46358070e+00, -2.35570117e+00, -6.14597413e-01,\n",
       "        8.87938951e-01,  1.95887555e+00,  2.90858903e+00,  7.65108373e-01,\n",
       "        5.60389415e-01, -1.43224496e-01,  2.02051721e+00,  1.92340686e+00,\n",
       "        2.01149161e+00,  2.31161475e+00,  9.97179021e-01,  4.74439316e-01,\n",
       "       -1.40411217e+00, -7.24912437e-01,  5.45893385e-02,  3.98744518e-01,\n",
       "        1.20294483e+00,  9.34901748e-01,  2.41009445e+00,  4.95221321e-01,\n",
       "        2.58386658e+00,  1.74609357e+00,  4.23334707e+00,  1.42848110e+00,\n",
       "        2.97465147e-01,  4.70035801e-01,  6.95341863e-01,  3.24752039e-01,\n",
       "       -8.88472782e-01, -8.13883458e-01,  3.60941576e-01,  1.34209766e+00,\n",
       "        6.79146957e-01, -6.30537515e-02,  2.05860683e+00,  1.84277605e+00,\n",
       "       -1.79421997e+00,  8.69093859e-01,  3.75509867e+00,  2.61474716e+00,\n",
       "       -2.59061875e+00,  2.62059290e+00,  2.15988580e+00,  1.76390793e+00,\n",
       "       -4.14240817e-01,  2.75695124e+00,  1.13538449e+00,  8.06966855e-01,\n",
       "        5.42918212e-01,  1.52802332e+00,  4.23837923e+00, -1.69082674e+00,\n",
       "        1.49297094e+00,  2.44127642e+00,  4.65354714e-02,  5.73731304e-01,\n",
       "        2.84185448e+00,  3.01588857e+00,  2.04903931e-01,  3.63330749e+00,\n",
       "        7.04225140e-01,  4.76805234e+00,  1.84423692e+00, -2.90744347e-01,\n",
       "        1.86623622e-01,  2.49417778e+00,  3.84327206e+00,  5.21418066e+00,\n",
       "        8.85296568e-01,  4.62373400e+00, -6.75027138e-01,  1.53504184e+00,\n",
       "        7.50910782e-01,  1.41569124e+00,  3.65018970e+00, -1.85373354e+00,\n",
       "        1.95537947e+00,  1.56034087e+00,  3.58253725e+00, -3.03924693e-01,\n",
       "        5.54563785e-01,  1.68020237e+00, -2.53603977e+00, -1.92653551e+00,\n",
       "        2.16123291e+00,  2.46639797e+00,  1.84821104e+00,  1.97322130e+00,\n",
       "        1.64674524e+00, -9.74519290e-01,  1.81683205e+00,  9.80524157e-01,\n",
       "       -8.01930140e-01,  4.61647950e-01,  1.70899694e-01,  2.79771725e+00,\n",
       "       -5.57384069e-01,  4.89558719e+00,  1.65822692e+00,  1.63634706e+00,\n",
       "        2.43188261e+00,  1.02569487e+00,  2.72168664e+00, -2.66325448e+00,\n",
       "        1.70883144e+00,  7.91779340e-01,  2.93076833e+00,  1.62543076e+00,\n",
       "        2.43008365e+00,  3.61755640e+00, -9.33012499e-01, -1.60132328e+00,\n",
       "        1.89044000e+00, -7.63095219e-01,  2.76051951e+00,  2.43306300e+00,\n",
       "        2.44693376e+00,  2.42873670e+00,  1.97535639e+00,  1.52910292e+00,\n",
       "       -2.09281131e-02,  1.25321368e+00,  1.58833507e+00,  9.50701652e-01,\n",
       "       -2.20295824e+00,  1.51641881e+00, -4.76850587e-03, -3.69842543e-01,\n",
       "        1.63733393e+00,  1.99580390e+00,  1.76461933e+00,  2.07433740e+00,\n",
       "        2.10744617e+00,  4.83237187e-01,  1.62309358e+00,  2.21925945e+00,\n",
       "       -9.10133638e-01,  2.25324547e+00,  2.76933527e+00,  2.90625664e+00,\n",
       "        2.60316436e+00,  5.00234776e-02,  3.59215107e-01,  1.13212164e+00,\n",
       "        7.49702705e-01,  1.71964958e+00,  1.64790951e+00,  3.09578093e+00,\n",
       "        1.51349166e+00,  1.52154271e+00,  2.40626988e+00,  3.14479956e+00,\n",
       "       -1.06392563e-02,  2.27972928e-01,  7.85820981e-01,  9.51669721e-01,\n",
       "        1.93244428e+00,  2.71155599e+00,  1.43194267e+00,  2.57522021e+00,\n",
       "       -2.97742895e-01,  2.35217398e+00, -6.34459208e-01,  2.11398956e+00,\n",
       "        3.68760402e-02,  3.30465225e+00,  3.32230386e+00,  2.68366457e+00,\n",
       "        1.88418115e+00, -1.03978758e+00,  1.92972978e+00,  9.08897281e-01,\n",
       "        3.78518777e+00,  8.92492271e-02,  1.79750993e+00, -1.68329364e+00,\n",
       "        9.86425546e-01, -2.20845089e+00,  1.16386481e+00,  3.06132067e+00,\n",
       "        1.74149034e+00, -2.02747210e-01,  2.85144067e+00,  6.12509792e-01,\n",
       "        3.12400262e+00, -2.25485412e+00,  2.21846774e+00,  3.58814371e+00,\n",
       "       -3.39656804e-01,  2.04840734e+00, -5.95360877e-02,  1.60863507e+00,\n",
       "       -2.47295555e-01,  2.46136522e+00,  7.67543842e-01,  4.27120489e+00,\n",
       "        5.46201868e-01,  1.64265808e+00,  3.14183058e+00,  3.02699230e+00,\n",
       "        2.22144283e-01,  2.05243029e+00,  1.91551998e+00, -3.05757857e+00,\n",
       "       -4.64971286e-01,  2.32827628e+00, -1.19309579e+00,  3.34724569e+00,\n",
       "        2.26557231e+00,  2.05188840e+00, -1.58660338e+00,  3.68861837e+00,\n",
       "        2.71122696e+00, -2.47923531e-01, -5.57652314e-01, -6.15061772e-01,\n",
       "       -3.44257534e+00,  3.56773406e-01,  2.40858295e+00, -1.29880630e+00,\n",
       "        1.31488938e+00,  9.09673036e-01,  4.08020339e+00, -1.10598331e+00,\n",
       "        1.27863542e+00,  6.06206817e-01,  3.90277361e+00,  3.73540064e+00,\n",
       "       -1.98768022e+00,  8.73465402e-01,  9.76698788e-01,  2.23975117e+00,\n",
       "        7.84390366e-01, -6.67972336e-01,  5.23827905e-01,  2.99945294e+00,\n",
       "       -1.53696232e+00,  8.46272205e-01,  1.41992174e+00,  1.12251756e+00,\n",
       "       -7.54903856e-01, -7.17512321e-01,  1.91087264e+00,  3.07233709e+00,\n",
       "        1.10115766e+00,  8.93439818e-01,  3.35724344e+00,  1.00683000e+00,\n",
       "       -3.67058067e-01,  1.03406422e+00,  1.68372917e+00,  2.37286908e+00,\n",
       "       -9.85287344e-01,  3.28487203e-01,  3.46828042e-01, -4.29828044e-01,\n",
       "        5.06600467e-01, -1.02804096e+00,  2.01774651e+00,  1.95879611e+00,\n",
       "       -1.58103050e+00,  2.38203053e+00,  1.35920137e+00, -5.82343066e-02,\n",
       "        1.40647881e-01,  3.02836685e+00,  6.43277135e-02,  2.25664419e+00,\n",
       "        5.57314641e-01, -1.39082776e+00, -3.77876846e-01,  2.08941673e+00,\n",
       "       -3.08216020e+00,  3.75548976e+00, -1.69605612e+00,  1.63496272e+00,\n",
       "        1.90641844e+00, -7.43040270e-01,  2.95914806e-01,  1.55692850e+00,\n",
       "        1.44413421e+00,  3.88606304e+00, -1.37446356e+00,  2.64371880e+00,\n",
       "        2.16534714e+00,  3.20019588e+00,  4.90431362e-01, -1.52398438e-02,\n",
       "       -1.14762278e+00,  1.18181321e+00, -1.49098906e+00,  1.55885481e+00,\n",
       "       -1.66970822e+00,  3.29854598e+00,  2.48542990e+00, -4.90785588e-01,\n",
       "        2.94371607e+00,  1.82659925e-01,  3.23902966e+00, -9.83233728e-01,\n",
       "        8.21169698e-01, -1.02598443e+00,  6.67825164e-01,  1.89540196e+00,\n",
       "        2.74899333e-01,  1.76285451e+00,  1.42289142e+00,  1.84488897e-01,\n",
       "        3.92527762e+00,  1.79013927e+00,  4.40221224e-01,  1.06978232e+00,\n",
       "        2.92557525e+00,  6.46977090e-01, -9.33791058e-01,  2.81283169e+00,\n",
       "        3.05297484e+00,  1.32916377e+00,  1.88758229e+00,  4.66683185e+00,\n",
       "       -2.03143429e-01,  1.74922537e+00, -2.98790273e+00,  4.31871593e-01,\n",
       "        3.88453899e+00,  4.77554198e-01,  3.17850891e+00, -4.95798927e-01,\n",
       "        1.46567161e+00,  4.29401397e+00,  2.23393401e+00,  3.41411312e+00,\n",
       "        2.34165129e+00,  1.69860506e+00,  1.37874628e+00,  2.00397521e+00,\n",
       "        3.17321178e+00,  4.22935567e+00,  2.37990248e+00,  2.97409130e+00,\n",
       "        2.08014742e+00,  2.89611745e+00,  2.76030921e-01,  4.54057566e+00,\n",
       "        2.40797616e+00,  2.93061140e+00, -4.88051529e-01,  5.46882675e-02,\n",
       "        1.21378053e+00,  9.30795057e-01,  3.82214598e+00, -2.76044117e+00,\n",
       "       -7.31403859e-01, -2.50187391e+00,  1.45032751e+00,  7.46347713e-02,\n",
       "       -6.00056621e-02,  3.72603965e-01,  9.04332994e-01,  8.03521371e-01,\n",
       "       -6.33808132e-02,  1.72256760e+00,  1.32354693e+00,  1.01512166e+00,\n",
       "        4.74982552e-01, -9.15339530e-01, -3.93472125e-03,  6.92594797e-01,\n",
       "       -6.23697038e-02, -1.80404743e+00, -1.06467647e-01,  1.17821824e+00,\n",
       "        1.22241892e+00,  5.23661817e-01,  2.19732307e+00,  3.01769995e+00,\n",
       "       -1.07219627e+00,  1.83707525e+00,  1.36583978e+00,  2.12966989e+00,\n",
       "        6.59239612e-01,  1.34773691e+00, -2.48135750e-01, -7.49450821e-02,\n",
       "        2.08414896e+00,  7.82791863e-01, -2.86705667e+00,  5.96690018e-01,\n",
       "        5.11734795e-01,  7.64280544e-01,  1.52034302e+00,  2.01818078e+00,\n",
       "        9.27387932e-01,  4.31458701e-01,  2.31894990e+00,  2.38844314e-01,\n",
       "       -4.06747912e-01,  2.68058078e+00,  1.96259379e+00,  3.17922905e+00,\n",
       "        2.82322419e+00, -1.25878394e+00,  3.56059745e-01,  3.84665486e+00,\n",
       "        1.53577696e+00, -2.66732907e-01,  2.64894910e+00,  1.14684570e+00,\n",
       "        1.60090543e+00, -6.70542432e-01,  8.23776625e-02,  3.36067896e-01,\n",
       "        1.97808469e+00,  5.07867227e+00, -6.25901474e-01,  7.72218603e-01,\n",
       "        7.78054561e-01, -1.45517476e+00,  1.56237139e+00,  1.99896155e+00,\n",
       "       -4.37836704e-01,  3.65069249e+00,  2.88877425e+00,  2.64877879e+00,\n",
       "        6.98766897e-01,  1.33392570e+00, -6.92964095e-01,  1.98515306e+00,\n",
       "        2.57463480e+00,  4.77741436e+00, -2.18464732e+00,  1.47548809e+00,\n",
       "        5.47189816e-01,  3.50034508e+00,  2.38941392e+00,  3.68871278e+00,\n",
       "        2.96681772e+00,  4.84382193e-01, -2.20537854e-01, -8.19166268e-01,\n",
       "        2.13076988e+00,  3.88526708e-01,  5.41630519e-01,  1.80364739e+00,\n",
       "        4.57333032e-01,  5.20024476e-01,  2.26477203e+00,  8.23582344e-01,\n",
       "        2.26981140e+00, -2.72006951e-01,  2.76004682e+00,  1.29355030e+00,\n",
       "       -6.79576114e-01, -2.67780556e+00,  1.37555546e+00, -2.46090967e+00,\n",
       "       -4.10621287e-01, -1.43152756e+00,  8.21304991e-01, -2.90215169e-02,\n",
       "        2.97770459e-01, -1.89426894e-01,  3.34208479e+00,  5.28338284e-01,\n",
       "       -2.51293919e+00,  3.11191236e+00,  2.79847346e+00,  2.03594849e+00,\n",
       "        8.59169196e-01,  3.16756721e+00,  1.42629830e+00,  1.80750799e+00,\n",
       "        1.75798037e+00, -2.18936459e+00, -4.96660771e+00,  5.26244413e+00,\n",
       "       -8.40104098e-01,  1.83726712e+00, -2.23949412e-01, -6.15180042e-01,\n",
       "       -4.89372525e-01,  2.06927738e+00,  3.28199494e+00, -1.39440913e+00,\n",
       "        1.66614510e+00,  1.63119790e+00, -4.83120617e-01,  1.52000681e+00,\n",
       "        3.99415557e-01,  2.03229194e+00, -1.28852271e+00, -5.96434699e-01,\n",
       "       -6.26304316e-01,  2.02347215e+00,  1.87088778e+00,  1.89226144e+00,\n",
       "        1.59202497e+00,  2.40050464e+00,  1.55286959e+00,  2.38235801e+00,\n",
       "       -3.68556748e-01,  1.94836040e+00,  1.62668476e+00,  7.60890596e-01,\n",
       "       -2.15687115e-01,  2.97785879e+00,  2.25687132e+00,  2.93263240e+00,\n",
       "        2.99840685e+00,  5.26788233e-01, -1.12308131e+00,  8.03520999e-01,\n",
       "        2.47147038e+00,  1.26752778e+00,  2.11245532e+00,  5.34291942e-01,\n",
       "        4.37566571e+00,  3.43163560e+00,  1.87086296e+00, -2.95988824e-01,\n",
       "        3.32908782e+00,  1.85182265e+00,  1.80677177e+00,  3.05147828e+00,\n",
       "        2.52283266e+00, -9.60274298e-02, -3.58111429e-01,  8.70374679e-01,\n",
       "        1.56162506e+00,  1.27704997e+00, -2.04021710e-01,  1.64652946e+00,\n",
       "        3.04623549e+00,  3.63782425e+00,  2.38337804e+00,  1.18004904e+00,\n",
       "        1.82571720e+00,  1.95455987e+00, -1.52975659e+00, -4.23014611e-01,\n",
       "        6.32746817e-01,  2.31773740e+00,  3.33707916e-01,  1.86923709e+00,\n",
       "       -8.75513354e-01,  2.83522741e+00,  2.38978113e+00,  5.41183500e-01])"
      ]
     },
     "execution_count": 7,
     "metadata": {},
     "output_type": "execute_result"
    }
   ],
   "source": [
    "# 3. สร้างตัวแปร pi ตามตัวอย่างด้านบน\n",
    "pi = beta_0 + np.dot(x, beta_i)\n",
    "pi"
   ]
  },
  {
   "cell_type": "markdown",
   "metadata": {
    "id": "9p-cjfS-SyZ9"
   },
   "source": [
    "# Sigmoid function\n",
    "$$Sigmoid(k) = \\frac{1}{1+e^{k}}$$\n",
    "\n",
    "ถ้าเราใส่ $\\pi$ เข้าไปยังฟังก์ชั่น Sigmoid จะได้ค่าความน่าจะเป็นออกมา\n",
    "\n",
    "$$probability = Sigmoid(\\pi) = \\frac{1}{1+e^{\\pi}}$$"
   ]
  },
  {
   "cell_type": "code",
   "execution_count": 8,
   "metadata": {
    "id": "J0BuLz-sTPQN"
   },
   "outputs": [],
   "source": [
    "# ตัวอย่างโค้ดสำหรับ Sigmoid function\n",
    "\n",
    "sigmoid = lambda k: 1 / (1+np.exp(-k))"
   ]
  },
  {
   "cell_type": "code",
   "execution_count": 9,
   "metadata": {
    "colab": {
     "base_uri": "https://localhost:8080/",
     "height": 473
    },
    "id": "x_xYpN_XTki9",
    "outputId": "b442064d-3b30-47a7-fd34-26db21a79eaf"
   },
   "outputs": [
    {
     "name": "stderr",
     "output_type": "stream",
     "text": [
      "<>:3: SyntaxWarning: invalid escape sequence '\\p'\n",
      "<>:3: SyntaxWarning: invalid escape sequence '\\p'\n",
      "C:\\Users\\winai\\AppData\\Local\\Temp\\ipykernel_65392\\403679300.py:3: SyntaxWarning: invalid escape sequence '\\p'\n",
      "  plt.xlabel('$\\pi$', fontsize=28)\n"
     ]
    },
    {
     "data": {
      "image/png": "[encoded data removed]",
      "text/plain": [
       "<Figure size 640x480 with 1 Axes>"
      ]
     },
     "metadata": {},
     "output_type": "display_data"
    }
   ],
   "source": [
    "pi = np.linspace(-4, 4, 100)\n",
    "plt.plot(pi, sigmoid(pi))\n",
    "plt.xlabel('$\\pi$', fontsize=28)\n",
    "plt.ylabel(\"sigmoid value\", fontsize=28)\n",
    "plt.savefig(\"sigmoid.png\");"
   ]
  },
  {
   "cell_type": "code",
   "execution_count": 10,
   "metadata": {
    "id": "q8BZasdkTrT8"
   },
   "outputs": [
    {
     "data": {
      "text/plain": [
       "np.float64(0.01798620996209156)"
      ]
     },
     "execution_count": 10,
     "metadata": {},
     "output_type": "execute_result"
    }
   ],
   "source": [
    "# ทดลอง นำค่า pi ส่งเข้าไปยัง Sigmoid function\n",
    "np.min(sigmoid(pi))"
   ]
  },
  {
   "cell_type": "code",
   "execution_count": 11,
   "metadata": {},
   "outputs": [
    {
     "data": {
      "text/plain": [
       "np.float64(0.9820137900379085)"
      ]
     },
     "execution_count": 11,
     "metadata": {},
     "output_type": "execute_result"
    }
   ],
   "source": [
    "np.max(sigmoid(pi))"
   ]
  },
  {
   "cell_type": "markdown",
   "metadata": {
    "id": "5c4VB7UL0xNX"
   },
   "source": [
    "# Cost Function: Cross-Entropy\n",
    "\n",
    "$$J(\\theta) = -\\frac{1}{m} \\sum_{i=1}^{m} \\left[ y^{(i)} \\log(h_\\theta(x^{(i)})) + (1 - y^{(i)}) \\log(1 - h_\\theta(x^{(i)})) \\right]$$\n",
    "\n",
    "where:\n",
    "- $ J(\\theta) $ คือ cost function,\n",
    "- $ m $ คือ จำนวน training examples,\n",
    "- $ y^{(i)} $ คือ label ของ training example ที่ $ i $th ,\n",
    "- $ h_\\theta(x^{(i)}) $ คือ probability ที่ถูกทำนาย จาก  example ที่ $ i $th\n",
    "- $ x^{(i)} $ คือ feature vector ที่ $ i $th ของ training example."
   ]
  },
  {
   "cell_type": "code",
   "execution_count": null,
   "metadata": {
    "id": "DqOIr29z14gU"
   },
   "outputs": [],
   "source": []
  },
  {
   "cell_type": "markdown",
   "metadata": {
    "id": "4sjrUaxzUDut"
   },
   "source": [
    "# Gradient Decent\n",
    "\n",
    "New Parameter = Old Parameter − Learning Rate × Gradient\n",
    "\n",
    "$$\\theta_{\\text{new}} = \\theta_{\\text{old}} - \\alpha \\cdot \\nabla J(\\theta)$$\n",
    "\n",
    "- $ \\theta_{\\text{new}} $ คือ parameter values ที่ได้รับการอัพเดทให้ดีขึ้นจาก parameter values ก่อนหน้า\n",
    "- $ \\theta_{\\text{old}} $ คือ parameter values ก่อนหน้า\n",
    "- $ \\alpha $ (alpha) คือ learning rate,\n",
    "- $ \\nabla J(\\theta) $ คือ **gradient** ของ **cost function** ซึ่งสอดคล้องกับ parameters $ \\theta $."
   ]
  },
  {
   "cell_type": "markdown",
   "metadata": {
    "id": "JiUhSA-m2Aeb"
   },
   "source": [
    "---\n",
    "\n",
    "$$\\beta_{new} = \\beta_{old} - \\alpha\\times [x^\\top\\cdot(\\hat y - y)] / m$$\n",
    "\n",
    "$$b_{new} = b_{old} - \\alpha\\times (\\hat y - y) / m$$"
   ]
  },
  {
   "cell_type": "code",
   "execution_count": 13,
   "metadata": {
    "id": "1J9nNjUOUKki"
   },
   "outputs": [],
   "source": [
    "# Training loop\n",
    "learning_rate = 0.1\n",
    "num_epochs = 1000\n",
    "num_samples = y.shape[0]\n",
    "\n",
    "for epoch in range(num_epochs):\n",
    "    pi = np.dot(x, beta_i) + beta_0\n",
    "    y_pred = sigmoid(pi)\n",
    "\n",
    "    # Compute gradients\n",
    "    dBeta = np.dot(x.T, (y_pred - y)) / num_samples\n",
    "    db = np.sum(y_pred - y) / num_samples\n",
    "\n",
    "    # Update weights and bias\n",
    "    beta_i = beta_i - learning_rate * dBeta\n",
    "    beta_0 = beta_0 - learning_rate * db"
   ]
  },
  {
   "cell_type": "code",
   "execution_count": null,
   "metadata": {
    "id": "ZsgNnrSSXEHG"
   },
   "outputs": [],
   "source": []
  },
  {
   "cell_type": "code",
   "execution_count": null,
   "metadata": {
    "id": "GyFFlC0ich_f"
   },
   "outputs": [],
   "source": []
  }
 ],
 "metadata": {
  "colab": {
   "provenance": []
  },
  "kernelspec": {
   "display_name": "ENV1",
   "language": "python",
   "name": "python3"
  },
  "language_info": {
   "codemirror_mode": {
    "name": "ipython",
    "version": 3
   },
   "file_extension": ".py",
   "mimetype": "text/x-python",
   "name": "python",
   "nbconvert_exporter": "python",
   "pygments_lexer": "ipython3",
   "version": "3.12.7"
  }
 },
 "nbformat": 4,
 "nbformat_minor": 4
}
