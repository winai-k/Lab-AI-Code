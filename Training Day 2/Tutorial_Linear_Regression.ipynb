{
 "cells": [
  {
   "cell_type": "markdown",
   "metadata": {
    "id": "Fn7U6TZbCqLt"
   },
   "source": [
    "# The Linear Equation\n",
    "\n",
    "$$y=mx$$"
   ]
  },
  {
   "cell_type": "code",
   "execution_count": 2,
   "metadata": {
    "id": "tpCQk2KLDBQ8"
   },
   "outputs": [],
   "source": [
    "import numpy as np\n",
    "import matplotlib.pyplot as plt\n",
    "plt.style.use(\"seaborn-v0_8\")"
   ]
  },
  {
   "cell_type": "code",
   "execution_count": 3,
   "metadata": {
    "id": "sA4x_iM8CZKt"
   },
   "outputs": [],
   "source": [
    "# สร้าง Algorithm y\n",
    "def y(x, m):\n",
    "  return m * x"
   ]
  },
  {
   "cell_type": "code",
   "execution_count": 4,
   "metadata": {
    "colab": {
     "base_uri": "https://localhost:8080/"
    },
    "id": "ASpLtbzZC3mt",
    "outputId": "9317d8ed-25f5-426c-9c5a-0c8888ce0d68"
   },
   "outputs": [
    {
     "name": "stdout",
     "output_type": "stream",
     "text": [
      "ความชัน m =  2\n",
      "ข้อมูล input x: [-10  -9  -8  -7  -6  -5  -4  -3  -2  -1   0   1   2   3   4   5   6   7\n",
      "   8   9]\n"
     ]
    }
   ],
   "source": [
    "# กำหนด ความชัน หรือเงื่อนไข m\n",
    "m = 2\n",
    "# กำหนด ข้อมูล Input x\n",
    "x = np.arange(-10, 10)\n",
    "\n",
    "print(\"ความชัน m = \", m)\n",
    "print(\"ข้อมูล input x:\", x)"
   ]
  },
  {
   "cell_type": "code",
   "execution_count": 5,
   "metadata": {
    "colab": {
     "base_uri": "https://localhost:8080/",
     "height": 501
    },
    "id": "FZ2vuZa-DJfz",
    "outputId": "c63ec032-9d2a-465c-d07a-b88f7c9e9b27"
   },
   "outputs": [
    {
     "data": {
      "text/plain": [
       "[<matplotlib.lines.Line2D at 0x23654865ea0>]"
      ]
     },
     "execution_count": 5,
     "metadata": {},
     "output_type": "execute_result"
    },
    {
     "data": {
      "image/png": "[encoded data removed]",
      "text/plain": [
       "<Figure size 800x550 with 1 Axes>"
      ]
     },
     "metadata": {},
     "output_type": "display_data"
    }
   ],
   "source": [
    "plt.plot(x, y(x, m), color='blue', linestyle='dashed')"
   ]
  },
  {
   "cell_type": "markdown",
   "metadata": {
    "id": "Ykn86iNMFAq8"
   },
   "source": [
    "## แบบฝึก 1\n",
    "จงสร้าง algorithm สำรหรับ ฟังก์ชั่นเส้นตรง\n",
    "$$y = mx + b$$\n",
    "\n",
    "$b$ ถูกเรียกว่า Intercept ของสมการ $y$"
   ]
  },
  {
   "cell_type": "code",
   "execution_count": null,
   "metadata": {
    "id": "Fco1JxVfD8XF"
   },
   "outputs": [],
   "source": []
  },
  {
   "cell_type": "markdown",
   "metadata": {
    "id": "heZsaYGVFWf0"
   },
   "source": [
    "# The General Format of Linear Equation\n",
    "\n",
    "$$y = \\beta_0 + \\beta_1x_1 + \\beta_2x_2 +\\cdots + \\beta_nx_n$$\n",
    "\n",
    "- $y$ คือ **dependent variable**\n",
    "- $x_1, x_2, \\ldots, x_n$ คือ **independent variables** ซึ่งเป็นตัวกำหนดผล $y$.\n",
    "- $\\beta_0$ คือ intercept, แสดงถึงค่า $y$ เมื่อ $x$ ทั้งหมดเป็น 0.\n",
    "- $\\beta_1, \\beta_2,\\ldots, \\beta_n$ คือ coefficients ซึ่งกำหนดผลกระทบของแต่ละ  $x$ ที่มีต่อ $y$."
   ]
  },
  {
   "cell_type": "code",
   "execution_count": 6,
   "metadata": {
    "id": "O4r1LNIuFdwY"
   },
   "outputs": [],
   "source": [
    "from sklearn.datasets import make_regression"
   ]
  },
  {
   "cell_type": "code",
   "execution_count": 7,
   "metadata": {
    "id": "wLdzpAb4GWQ0"
   },
   "outputs": [],
   "source": [
    "# สร้างข้อมูลเพื่อใช้ทดสอบโมเดลเชิงเส้น\n",
    "x, y = make_regression(n_samples=100, n_features=10, noise=10, random_state=42)"
   ]
  },
  {
   "cell_type": "code",
   "execution_count": 8,
   "metadata": {
    "colab": {
     "base_uri": "https://localhost:8080/"
    },
    "id": "SpdsuMjtGY6W",
    "outputId": "4398c744-0c88-42f7-83cd-5bc3ed111d7a"
   },
   "outputs": [
    {
     "data": {
      "text/plain": [
       "((100, 10), (100,))"
      ]
     },
     "execution_count": 8,
     "metadata": {},
     "output_type": "execute_result"
    }
   ],
   "source": [
    "x.shape, y.shape"
   ]
  },
  {
   "cell_type": "markdown",
   "metadata": {
    "id": "iRsx_IV6GvpL"
   },
   "source": [
    "# Machine Learning: Linear Regression\n",
    "\n",
    "หน้าที่ของ ML คือ การหา $\\beta_0, \\beta_1, \\beta_2,\\ldots, \\beta_n$ จากข้อมูล $x, y$\n",
    "\n",
    "\n",
    "จากข้อมูลข้างบนเรามี\n",
    "- จำนวนข้อมูลอยู่ที่ `100` ตัวอย่าง\n",
    "- จำนวน Independent variables อยู่ `10`  \n",
    "หรือเขียนออกมาเป็น เวคเตอร์ $y$ และ เมทริกซ์ $x$ ได้ดังนี้\n",
    "\n",
    "$$\\text{Feature Data} = x =\\begin{bmatrix}x_{1,1}&x_{1,2}&\\cdots&x_{1,10}\\\\\\\\\n",
    "                                          x_{2,1}&x_{2,2}&\\cdots&x_{2,10}\\\\\\\\\n",
    "                                          \\vdots&\\vdots&\\ddots&\\vdots\\\\\\\\\n",
    "                                          x_{100,1}&x_{100, 2}&\\cdots&x_{100, 10}\n",
    "                            \\end{bmatrix}$$\n",
    "\n",
    "$$\\text{label} = y = \\begin{bmatrix}y_1\\\\y_2\\\\\\vdots\\\\y_{100}\\end{bmatrix}$$\n",
    "\n",
    "นั่นหมายความว่าเราสามารถเขียนสมการเชิงเส้นโดยใช้การคูณเมทริกซ์ได้เป็น\n",
    "\n",
    "$$\n",
    "\\begin{bmatrix}\n",
    "1&x_{1,1}&x_{1,2}&\\cdots&x_{1,10}\\\\\n",
    "1&x_{2,1}&x_{2,2}&\\cdots&x_{2,10}\\\\\n",
    "\\vdots&\\vdots&\\vdots&\\ddots&\\vdots\\\\\n",
    "1&x_{100,1}&x_{100,2}&\\cdots&x_{100,10}\n",
    "\\end{bmatrix}\n",
    "\\begin{bmatrix}\n",
    "\\beta_0\\\\\n",
    "\\beta_1\\\\\n",
    "\\beta_2\\\\\n",
    "\\vdots\\\\\n",
    "\\beta_{10}\n",
    "\\end{bmatrix}=\n",
    "\\begin{bmatrix}y_1\\\\y_2\\\\\\vdots\\\\y_{100}\\end{bmatrix}\\to x\\beta = y$$"
   ]
  },
  {
   "cell_type": "code",
   "execution_count": 9,
   "metadata": {
    "id": "3enN9TbJGk_M"
   },
   "outputs": [],
   "source": [
    "# เพิ่ม intercepts ให้เมทริกซ์ x\n",
    "x = np.hstack([np.ones((100, 1)), x])"
   ]
  },
  {
   "cell_type": "code",
   "execution_count": null,
   "metadata": {
    "colab": {
     "base_uri": "https://localhost:8080/"
    },
    "id": "TMW8Txt4Khgz",
    "outputId": "09b2b566-646e-4633-fbc8-d5929d76d956"
   },
   "outputs": [
    {
     "data": {
      "text/plain": [
       "array([[ 1.        , -0.92693047, -1.43014138, ..., -0.05952536,\n",
       "        -0.25256815, -0.44004449],\n",
       "       [ 1.        ,  0.20292302,  0.33445679, ..., -1.51574411,\n",
       "        -0.61278869,  0.65854427],\n",
       "       [ 1.        , -0.24123606,  0.45675322, ...,  0.3520554 ,\n",
       "        -0.08215118,  0.56976728],\n",
       "       ...,\n",
       "       [ 1.        ,  0.49671415,  0.76743473, ..., -0.1382643 ,\n",
       "        -0.23415337, -0.46947439],\n",
       "       [ 1.        , -0.04946371,  2.45530014, ...,  0.67481949,\n",
       "         0.16645221, -0.63773998],\n",
       "       [ 1.        ,  0.36139561, -0.29900735, ...,  1.53803657,\n",
       "        -2.6197451 ,  0.09176078]])"
      ]
     },
     "execution_count": 9,
     "metadata": {},
     "output_type": "execute_result"
    }
   ],
   "source": [
    "x"
   ]
  },
  {
   "cell_type": "code",
   "execution_count": null,
   "metadata": {
    "id": "fhf_560IK0FG"
   },
   "outputs": [],
   "source": [
    "# ทดลองสุ่มสร้าง coefficients beta\n"
   ]
  },
  {
   "cell_type": "code",
   "execution_count": null,
   "metadata": {
    "id": "S-Ip38_xLgCa"
   },
   "outputs": [],
   "source": [
    "# ทดลองทำนาย y จาก coefficients beta ที่ได้จากการสุ่ม\n"
   ]
  },
  {
   "cell_type": "code",
   "execution_count": null,
   "metadata": {
    "id": "e-sDsLGVLtOu"
   },
   "outputs": [],
   "source": []
  },
  {
   "cell_type": "markdown",
   "metadata": {
    "id": "88O2KnkvMZx2"
   },
   "source": []
  },
  {
   "cell_type": "markdown",
   "metadata": {
    "id": "H7Sqr8cVMk_0"
   },
   "source": [
    "## การทดสอบผลลัพธ์ของ Linear Regression\n",
    "\n",
    "$$R^2 = 1 - \\frac{\\sum_{i=1}^{n}(y_i - \\hat{y}_i)^2}{\\sum_{i=1}^{n}(y_i - \\bar{y})^2}$$"
   ]
  },
  {
   "cell_type": "code",
   "execution_count": null,
   "metadata": {
    "id": "8ajKaMe8MjRi"
   },
   "outputs": [],
   "source": []
  },
  {
   "cell_type": "markdown",
   "metadata": {
    "id": "maRkvBN5MvQ8"
   },
   "source": [
    "# การหา Optimal $\\beta$\n",
    "\n",
    "คูณทั้งสองข้างของสมการ $x\\beta = y$ ด้วย $(x^\\top x)^{-1}x^\\top$\n",
    "\n",
    "จะได้ว่า\n",
    "\n",
    "$$\n",
    "\\begin{align}\n",
    "x\\beta &= y\\\\\\\\\n",
    "(x^\\top x)^{-1}x^\\top x\\beta &= (x^\\top x)^{-1}x^\\top y\\\\\\\\\n",
    "(x^\\top x)^{-1}(x^\\top x)\\beta &= (x^\\top x)^{-1}x^\\top y\\\\\\\\\n",
    "I\\beta &= (x^\\top x)^{-1}x^\\top y\\\\\\\\\n",
    "\\beta &= (x^\\top x)^{-1}x^\\top y\n",
    "\\end{align}\n",
    "$$"
   ]
  },
  {
   "cell_type": "code",
   "execution_count": null,
   "metadata": {
    "id": "WyBdq0JTMurM"
   },
   "outputs": [],
   "source": [
    "beta = "
   ]
  },
  {
   "cell_type": "code",
   "execution_count": null,
   "metadata": {
    "id": "eNP5h5mOOiwd"
   },
   "outputs": [],
   "source": []
  },
  {
   "cell_type": "code",
   "execution_count": null,
   "metadata": {
    "id": "D0y5_sS1Omkt"
   },
   "outputs": [],
   "source": []
  }
 ],
 "metadata": {
  "colab": {
   "provenance": []
  },
  "kernelspec": {
   "display_name": "Python 3 (ipykernel)",
   "language": "python",
   "name": "python3"
  },
  "language_info": {
   "codemirror_mode": {
    "name": "ipython",
    "version": 3
   },
   "file_extension": ".py",
   "mimetype": "text/x-python",
   "name": "python",
   "nbconvert_exporter": "python",
   "pygments_lexer": "ipython3",
   "version": "3.10.15"
  }
 },
 "nbformat": 4,
 "nbformat_minor": 4
}
