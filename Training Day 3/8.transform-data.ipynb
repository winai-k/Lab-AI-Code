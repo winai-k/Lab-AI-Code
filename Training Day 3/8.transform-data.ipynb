{
 "cells": [
  {
   "cell_type": "code",
   "execution_count": null,
   "id": "3535d20c-f5f8-46c1-869a-4c77c4b24950",
   "metadata": {},
   "outputs": [],
   "source": [
    "# Import necessary libraries\n",
    "import seaborn as sns\n",
    "from sklearn.preprocessing import StandardScaler, OneHotEncoder\n",
    "import pandas as pd"
   ]
  },
  {
   "cell_type": "code",
   "execution_count": null,
   "id": "d866d6df-d726-46f9-b7d5-d6cd077203b2",
   "metadata": {},
   "outputs": [],
   "source": [
    "# Load the 'tips' dataset from Seaborn\n",
    "tips = sns.load_dataset('tips')"
   ]
  },
  {
   "cell_type": "code",
   "execution_count": null,
   "id": "8cbaa312-345f-40b0-b957-0d1c0e2eecdd",
   "metadata": {},
   "outputs": [],
   "source": [
    "# Display the first few rows of the dataset\n",
    "print(\"Original 'tips' dataset:\")\n",
    "tips.head()"
   ]
  },
  {
   "cell_type": "code",
   "execution_count": null,
   "id": "0a4942a8-9f92-4122-8732-9fde078212f1",
   "metadata": {},
   "outputs": [],
   "source": [
    "tips.dtypes"
   ]
  },
  {
   "cell_type": "code",
   "execution_count": null,
   "id": "e608b3c9-28c2-4a50-89d8-33d6a9136ec4",
   "metadata": {},
   "outputs": [],
   "source": [
    "X = tips.copy()\n",
    "y = X.pop('tip')"
   ]
  },
  {
   "cell_type": "code",
   "execution_count": null,
   "id": "504fae4f-f022-46b7-bdf8-9a23aa5efc24",
   "metadata": {},
   "outputs": [],
   "source": [
    "categorical_features = ['sex', 'smoker', 'day', 'time']\n",
    "numerical_features = ['total_bill', 'size']"
   ]
  },
  {
   "cell_type": "markdown",
   "id": "a4c87395-89b5-4c71-bd22-7cabd48c21ad",
   "metadata": {},
   "source": [
    "# Transform Categorical Data"
   ]
  },
  {
   "cell_type": "code",
   "execution_count": null,
   "id": "648cc1a1-4e2d-4ef8-adcb-4d7000ab7c6c",
   "metadata": {},
   "outputs": [],
   "source": [
    "pd.get_dummies(X.loc[:, categorical_features]).astype(int)"
   ]
  },
  {
   "cell_type": "code",
   "execution_count": null,
   "id": "15aaad0a-5e12-4ab3-b059-89c75d4a08b1",
   "metadata": {},
   "outputs": [],
   "source": [
    "cat_features = X.loc[:, categorical_features]\n",
    "num_features = X.loc[:, numerical_features]"
   ]
  },
  {
   "cell_type": "code",
   "execution_count": null,
   "id": "57c2fdde-7c98-4971-b970-b939f437a3be",
   "metadata": {},
   "outputs": [],
   "source": [
    "# Initialize the OneHotEncoder for features\n",
    "encoder_features = OneHotEncoder(sparse_output=False)\n",
    "encoded_features = encoder_features.fit_transform(cat_features)"
   ]
  },
  {
   "cell_type": "code",
   "execution_count": null,
   "id": "f6935762-9658-45b3-b73e-16c16657fc3b",
   "metadata": {},
   "outputs": [],
   "source": [
    "encoded_features"
   ]
  },
  {
   "cell_type": "code",
   "execution_count": null,
   "id": "80264284-dc75-4de7-86e1-8d7ea4f850b4",
   "metadata": {},
   "outputs": [],
   "source": [
    "encoded_features_df = pd.DataFrame(encoded_features, columns=encoder_features.get_feature_names_out(['sex', 'smoker', 'day', 'time']))"
   ]
  },
  {
   "cell_type": "code",
   "execution_count": null,
   "id": "a3a5a48a-092c-4959-b90c-bf545e8c035c",
   "metadata": {},
   "outputs": [],
   "source": [
    "encoded_features_df"
   ]
  },
  {
   "cell_type": "markdown",
   "id": "89db7968-39c0-4c1c-81db-68532951e867",
   "metadata": {},
   "source": [
    "# Transform Numerical Data"
   ]
  },
  {
   "cell_type": "code",
   "execution_count": null,
   "id": "945cf70c-194e-4398-8173-21c560990163",
   "metadata": {},
   "outputs": [],
   "source": [
    "scaler = StandardScaler()"
   ]
  },
  {
   "cell_type": "code",
   "execution_count": null,
   "id": "ec0a47b8-2bf6-4c56-85cf-c966aa32450c",
   "metadata": {},
   "outputs": [],
   "source": [
    "scaled_features = scaler.fit_transform(num_features)"
   ]
  },
  {
   "cell_type": "code",
   "execution_count": null,
   "id": "0427b6df-ee32-445d-a6d8-8ab46d181bbd",
   "metadata": {},
   "outputs": [],
   "source": [
    "scaled_features_df = pd.DataFrame(scaled_features, columns=scaler.get_feature_names_out())"
   ]
  },
  {
   "cell_type": "markdown",
   "id": "98a391c7-1aef-4677-89c9-309868a8bd2d",
   "metadata": {},
   "source": [
    "# Train-Test Split"
   ]
  },
  {
   "cell_type": "code",
   "execution_count": null,
   "id": "3836213a-1cfe-44be-b60d-7a3c1d8fd7cf",
   "metadata": {},
   "outputs": [],
   "source": [
    "X = pd.concat([scaled_features_df, encoded_features_df], axis=1)"
   ]
  },
  {
   "cell_type": "code",
   "execution_count": null,
   "id": "cb65de9b-389c-4c38-af59-d3320ae143f1",
   "metadata": {},
   "outputs": [],
   "source": [
    "from sklearn.model_selection import train_test_split"
   ]
  },
  {
   "cell_type": "code",
   "execution_count": null,
   "id": "bfe1bb8c-f0b8-4590-b21e-ed58c285b9ee",
   "metadata": {},
   "outputs": [],
   "source": [
    "# Split the data into training and testing sets\n",
    "X_train, X_test, y_train, y_test = train_test_split(X, y, test_size=0.2, random_state=42)"
   ]
  },
  {
   "cell_type": "code",
   "execution_count": null,
   "id": "398c9f44-0a73-4170-84b1-595fc6bfc49b",
   "metadata": {},
   "outputs": [],
   "source": [
    "X_train.shape, y_train.shape"
   ]
  },
  {
   "cell_type": "code",
   "execution_count": null,
   "id": "11394137-501a-448a-b073-ac18dd935598",
   "metadata": {},
   "outputs": [],
   "source": [
    "X_test.shape, y_test.shape"
   ]
  },
  {
   "cell_type": "code",
   "execution_count": null,
   "id": "b792ed09-b1d9-49b7-ae50-a4bcb367d2a2",
   "metadata": {},
   "outputs": [],
   "source": []
  }
 ],
 "metadata": {
  "kernelspec": {
   "display_name": "Python 3 (ipykernel)",
   "language": "python",
   "name": "python3"
  },
  "language_info": {
   "codemirror_mode": {
    "name": "ipython",
    "version": 3
   },
   "file_extension": ".py",
   "mimetype": "text/x-python",
   "name": "python",
   "nbconvert_exporter": "python",
   "pygments_lexer": "ipython3",
   "version": "3.10.15"
  }
 },
 "nbformat": 4,
 "nbformat_minor": 5
}
