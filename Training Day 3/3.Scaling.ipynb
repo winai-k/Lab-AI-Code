{
 "cells": [
  {
   "cell_type": "code",
   "execution_count": null,
   "id": "54f9ce96-538f-4b12-8d40-65b76b8070fc",
   "metadata": {},
   "outputs": [],
   "source": [
    "import pandas as pd\n",
    "import numpy as np\n",
    "\n",
    "from scipy import stats\n",
    "# set seed for reproducibility\n",
    "np.random.seed(0)"
   ]
  },
  {
   "cell_type": "code",
   "execution_count": null,
   "id": "49ae8413-2b64-4c71-b383-c15b87192f41",
   "metadata": {},
   "outputs": [],
   "source": [
    "# plotting modules\n",
    "import seaborn as sns\n",
    "import matplotlib.pyplot as plt"
   ]
  },
  {
   "cell_type": "code",
   "execution_count": null,
   "id": "db3ff481-83a6-448f-a982-ec154a5febb3",
   "metadata": {},
   "outputs": [],
   "source": [
    "original_data = np.random.exponential(size=1000)"
   ]
  },
  {
   "cell_type": "code",
   "execution_count": null,
   "id": "13d26774-fec8-4b51-a38b-c1978a4ebc5b",
   "metadata": {},
   "outputs": [],
   "source": [
    "sns.histplot(original_data, kde=True, legend=False)"
   ]
  },
  {
   "cell_type": "markdown",
   "id": "d72c5ea5-39b7-4a57-b806-83de0a9274f4",
   "metadata": {},
   "source": [
    "# Min-Max scale\n",
    "\n",
    "$$X' = \\frac{X-X_{min}}{X_{max}-X_{min}}$$"
   ]
  },
  {
   "cell_type": "code",
   "execution_count": null,
   "id": "593447e4-72b5-4e5b-bbcb-1ca781f87e3f",
   "metadata": {},
   "outputs": [],
   "source": [
    "X_max = original_data.max()\n",
    "X_min = original_data.min()"
   ]
  },
  {
   "cell_type": "code",
   "execution_count": null,
   "id": "bb17c501-b960-406e-9897-173a0db1af6b",
   "metadata": {},
   "outputs": [],
   "source": [
    "scaled_X = (original_data - X_min) / (X_max - X_min)"
   ]
  },
  {
   "cell_type": "code",
   "execution_count": null,
   "id": "021024ac-cba8-439b-ba3e-45f912e5796b",
   "metadata": {},
   "outputs": [],
   "source": [
    "sns.histplot(scaled_X, kde=True, legend=False)"
   ]
  },
  {
   "cell_type": "markdown",
   "id": "73e09735-4b5f-4fe4-8d90-3c573c4dbac2",
   "metadata": {},
   "source": [
    "# Standardization\n",
    "\n",
    "$$X' = \\frac{X-\\overline{X}}{\\sigma}$$"
   ]
  },
  {
   "cell_type": "code",
   "execution_count": null,
   "id": "8545ec87-65b1-48fc-b320-ebf5d78ca798",
   "metadata": {},
   "outputs": [],
   "source": [
    "mean_X = np.mean(original_data)\n",
    "sigma = np.std(original_data)"
   ]
  },
  {
   "cell_type": "code",
   "execution_count": null,
   "id": "5140cbf9-eb0b-4084-a32e-abbe4162d700",
   "metadata": {},
   "outputs": [],
   "source": [
    "X_standardization = (original_data - mean_X) / sigma"
   ]
  },
  {
   "cell_type": "code",
   "execution_count": null,
   "id": "3aa493c1-35f8-4194-aced-de43866b5de5",
   "metadata": {},
   "outputs": [],
   "source": [
    "sns.histplot(X_standardization, kde=True, legend=False)"
   ]
  },
  {
   "cell_type": "markdown",
   "id": "aec9ae61-dd36-4aae-a34b-16abdd6c1d60",
   "metadata": {},
   "source": [
    "# Box-Cox Transformation"
   ]
  },
  {
   "cell_type": "code",
   "execution_count": null,
   "id": "6b643be1-6064-4d1f-80d0-4faa3a36c472",
   "metadata": {},
   "outputs": [],
   "source": [
    "# normalize the exponential data with boxcox\n",
    "normalized_data = stats.boxcox(original_data)"
   ]
  },
  {
   "cell_type": "code",
   "execution_count": null,
   "id": "e4d2eada-bfde-4986-aacc-c9f5acf46504",
   "metadata": {},
   "outputs": [],
   "source": [
    "sns.histplot(normalized_data[0], kde=True, legend=False)"
   ]
  },
  {
   "cell_type": "code",
   "execution_count": null,
   "id": "1d5e3e41-f5b5-4135-a016-c984230b4036",
   "metadata": {},
   "outputs": [],
   "source": []
  }
 ],
 "metadata": {
  "kernelspec": {
   "display_name": "Python 3 (ipykernel)",
   "language": "python",
   "name": "python3"
  },
  "language_info": {
   "codemirror_mode": {
    "name": "ipython",
    "version": 3
   },
   "file_extension": ".py",
   "mimetype": "text/x-python",
   "name": "python",
   "nbconvert_exporter": "python",
   "pygments_lexer": "ipython3",
   "version": "3.10.15"
  }
 },
 "nbformat": 4,
 "nbformat_minor": 5
}
